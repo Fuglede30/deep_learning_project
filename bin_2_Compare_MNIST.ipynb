{
 "cells": [
  {
   "cell_type": "code",
   "execution_count": null,
   "metadata": {},
   "outputs": [],
   "source": [
    "from util import *\n",
    "\n",
    "import torch\n",
    "import torchvision\n",
    "import numpy as np\n",
    "import pandas as pd\n",
    "from copy import deepcopy\n",
    "import argparse\n",
    "from tqdm import tqdm\n",
    "import matplotlib.pyplot as plt\n"
   ]
  },
  {
   "cell_type": "code",
   "execution_count": null,
   "metadata": {},
   "outputs": [],
   "source": [
    "#Made by Rasmus Hannibal Tirsgaard\n",
    "### Setup MNIST dataset\n",
    "transform = torchvision.transforms.Compose([\n",
    "    torchvision.transforms.ToTensor(),\n",
    "    torchvision.transforms.Normalize((0.5,), (0.5,))\n",
    "])\n",
    "train_dataset = torchvision.datasets.MNIST(root='./data', train=True, download=True, transform=transform)"
   ]
  },
  {
   "cell_type": "code",
   "execution_count": null,
   "metadata": {},
   "outputs": [],
   "source": [
    "val_dataset = deepcopy(train_dataset)"
   ]
  },
  {
   "cell_type": "code",
   "execution_count": null,
   "metadata": {},
   "outputs": [],
   "source": [
    "train_size = int((1 - val_split) * len(train_dataset))\n",
    "val_size = len(train_dataset) - train_size\n",
    "indexes = torch.randperm(len(train_dataset)).tolist()\n",
    "# Define validation set\n",
    "indexes_val = indexes[train_size:]\n",
    "val_dataset.targets = val_dataset.targets[indexes_val]\n",
    "val_dataset.data = val_dataset.data[indexes_val]\n",
    "val_loader = torch.utils.data.DataLoader(val_dataset, batch_size=1024, shuffle=False)"
   ]
  },
  {
   "cell_type": "code",
   "execution_count": null,
   "metadata": {},
   "outputs": [],
   "source": [
    "#Made by Rasmus Hannibal Tirsgaard\n",
    "# Define training set\n",
    "indexes_train = indexes[:train_size]\n",
    "train_dataset.targets = train_dataset.targets[indexes_train]\n",
    "train_dataset.data = train_dataset.data[indexes_train]"
   ]
  },
  {
   "cell_type": "code",
   "execution_count": null,
   "metadata": {},
   "outputs": [],
   "source": [
    "#Made by Rasmus Hannibal Tirsgaard\n",
    "# Split training data into labelled and unlabelled\n",
    "unlabelled_size = int(unlabelled_size * len(train_dataset))\n",
    "indexes_train = torch.randperm(len(train_dataset)).tolist()  # Redefine indexes_train\n",
    "unlabbelled_dataset = deepcopy(train_dataset)\n",
    "unlabbelled_dataset.targets = unlabbelled_dataset.targets[indexes_train[:unlabelled_size]]\n",
    "unlabbelled_dataset.data = unlabbelled_dataset.data[indexes_train[:unlabelled_size]]\n",
    "train_dataset.targets = train_dataset.targets[indexes_train[unlabelled_size:]]\n",
    "train_dataset.data = train_dataset.data[indexes_train[unlabelled_size:]]\n",
    "unlabbelled_dataset.targets = unlabbelled_dataset.targets\n",
    "unlabbelled_dataset.data = unlabbelled_dataset.data\n",
    "start_train_dataset = deepcopy(train_dataset)  # Save for baseline\n",
    "start_unlabbelled_dataset = deepcopy(unlabbelled_dataset)  # Save for baseline"
   ]
  },
  {
   "cell_type": "code",
   "execution_count": null,
   "metadata": {},
   "outputs": [],
   "source": [
    "#Made by Rasmus Hannibal Tirsgaard\n",
    "# Setup model\n",
    "device = torch.device('cuda' if torch.cuda.is_available() else 'cpu')\n",
    "model = torchvision.models.resnet18(pretrained=False)\n",
    "model.fc = torch.nn.Linear(model.fc.in_features, 10)\n",
    "# Modify input layer to accept 1 channel\n",
    "model.conv1 = torch.nn.Conv2d(1, 64, kernel_size=(7, 7), stride=(2, 2), padding=(3, 3), bias=False)\n",
    "\n",
    "model_parameters = deepcopy(model.state_dict())\n",
    "model = model.to(device)\n",
    "criterion = torch.nn.CrossEntropyLoss()\n",
    "optimizer = torch.optim.Adam(model.parameters(), lr=lr)"
   ]
  },
  {
   "cell_type": "code",
   "execution_count": null,
   "metadata": {},
   "outputs": [],
   "source": [
    "## Run active learning Uncertanty\n",
    "datapoint_list_US = []\n",
    "accuracy_list_US = []\n",
    "\n",
    "train_dataset.targets = start_train_dataset.targets\n",
    "train_dataset.data = start_train_dataset.data\n",
    "unlabbelled_dataset.targets = start_unlabbelled_dataset.targets\n",
    "unlabbelled_dataset.data = start_unlabbelled_dataset.data\n",
    "for i in range(label_iterations):\n",
    "    print(i)\n",
    "    train_loader = torch.utils.data.DataLoader(train_dataset, batch_size=batch_size, shuffle=True, drop_last=True)\n",
    "    model.load_state_dict(model_parameters)  # Important to reset the model each time\n",
    "    accuracies = train_model(model, train_loader, val_loader, criterion, optimizer, device, num_epochs=num_epochs, val_interval=10)\n",
    "    datapoint_list_US.append(len(train_dataset))\n",
    "    accuracy_list_US.append(accuracies)\n",
    "    if i < label_iterations - 1:\n",
    "        train_dataset, unlabbelled_dataset = label_iteration_uncertanty_sampling(model, train_dataset, unlabbelled_dataset, device, top_frac=0.001)"
   ]
  },
  {
   "cell_type": "code",
   "execution_count": null,
   "metadata": {},
   "outputs": [],
   "source": [
    "## Run active learning Margin\n",
    "datapoint_list_MAR = []\n",
    "accuracy_list_MAR = []\n",
    "\n",
    "train_dataset.targets = start_train_dataset.targets\n",
    "train_dataset.data = start_train_dataset.data\n",
    "unlabbelled_dataset.targets = start_unlabbelled_dataset.targets\n",
    "unlabbelled_dataset.data = start_unlabbelled_dataset.data\n",
    "for i in range(label_iterations):\n",
    "    print(i)\n",
    "    train_loader = torch.utils.data.DataLoader(train_dataset, batch_size=batch_size, shuffle=True, drop_last=True)\n",
    "    model.load_state_dict(model_parameters)  # Important to reset the model each time\n",
    "    accuracies = train_model(model, train_loader, val_loader, criterion, optimizer, device, num_epochs=num_epochs, val_interval=10)\n",
    "    datapoint_list_MAR.append(len(train_dataset))\n",
    "    accuracy_list_MAR.append(accuracies)\n",
    "    if i < label_iterations - 1:\n",
    "        train_dataset, unlabbelled_dataset = label_iteration_margin_based(model, train_dataset, unlabbelled_dataset, device, top_frac=0.001)\n",
    "\n",
    "datapoints_MAR = np.array(datapoint_list_MAR)\n",
    "accuracies_MAR = np.array(accuracy_list_MAR).max(-1)\n",
    "\n",
    "N = np.max(datapoints_MAR)\n",
    "pd.DataFrame(np.vstack((datapoints_MAR, accuracies_MAR)).T).to_excel(f'./results/MNIST_{N}_margin_based.xlsx',index = False)\n",
    "\n"
   ]
  },
  {
   "cell_type": "code",
   "execution_count": null,
   "metadata": {},
   "outputs": [],
   "source": [
    "## Run active learning BADL\n",
    "datapoint_list_BADL = []\n",
    "accuracy_list_BADL = []\n",
    "\n",
    "train_dataset.targets = start_train_dataset.targets\n",
    "train_dataset.data = start_train_dataset.data\n",
    "unlabbelled_dataset.targets = start_unlabbelled_dataset.targets\n",
    "unlabbelled_dataset.data = start_unlabbelled_dataset.data\n",
    "for i in range(label_iterations):\n",
    "    print(i)\n",
    "    train_loader = torch.utils.data.DataLoader(train_dataset, batch_size=batch_size, shuffle=True, drop_last=True)\n",
    "    model.load_state_dict(model_parameters)  # Important to reset the model each time\n",
    "    accuracies = train_model(model, train_loader, val_loader, criterion, optimizer, device, num_epochs=num_epochs, val_interval=10)\n",
    "    datapoint_list_BADL.append(len(train_dataset))\n",
    "    accuracy_list_BADL.append(accuracies)\n",
    "    if i < label_iterations - 1:\n",
    "        train_dataset, unlabbelled_dataset = label_iteration_BADL(model, train_dataset, unlabbelled_dataset, device, top_frac=0.001)\n",
    "\n",
    "datapoints_BADL = np.array(datapoint_list_BADL)\n",
    "accuracies_BADL = np.array(accuracy_list_BADL).max(-1)\n",
    "\n",
    "N = np.max(datapoints_BADL)\n",
    "pd.DataFrame(np.vstack((datapoints_BADL, accuracies_BADL)).T).to_excel(f'./results/MNIST_{N}_bayesian.xlsx',index = False)"
   ]
  },
  {
   "cell_type": "code",
   "execution_count": null,
   "metadata": {},
   "outputs": [],
   "source": [
    "## Run active learning KMEANS\n",
    "datapoint_list_KMEANS = []\n",
    "accuracy_list_KMEANS = []\n",
    "\n",
    "train_dataset.targets = start_train_dataset.targets\n",
    "train_dataset.data = start_train_dataset.data\n",
    "unlabbelled_dataset.targets = start_unlabbelled_dataset.targets\n",
    "unlabbelled_dataset.data = start_unlabbelled_dataset.data\n",
    "for i in range(label_iterations):\n",
    "    print(i)\n",
    "    train_loader = torch.utils.data.DataLoader(train_dataset, batch_size=batch_size, shuffle=True, drop_last=True)\n",
    "    model.load_state_dict(model_parameters)  # Important to reset the model each time\n",
    "    accuracies = train_model(model, train_loader, val_loader, criterion, optimizer, device, num_epochs=num_epochs, val_interval=10)\n",
    "    datapoint_list_KMEANS.append(len(train_dataset))\n",
    "    accuracy_list_KMEANS.append(accuracies)\n",
    "    if i < label_iterations - 1:\n",
    "        train_dataset, unlabbelled_dataset = label_iteration_cluster_KMEANS(model, train_dataset, unlabbelled_dataset, device, top_frac=0.001)"
   ]
  },
  {
   "cell_type": "code",
   "execution_count": null,
   "metadata": {},
   "outputs": [],
   "source": [
    "#Made by Rasmus Hannibal Tirsgaard\n",
    "# Add baseline accuracy (no active learning)\n",
    "n_datapoints = len(train_dataset) - len(start_train_dataset)\n",
    "model.load_state_dict(model_parameters)\n",
    "# We reuse the initial training set to reduce run to run variance\n",
    "train_dataset.data = torch.cat([start_train_dataset.data, start_unlabbelled_dataset.data[:n_datapoints]])\n",
    "train_dataset.targets = torch.cat([start_train_dataset.targets, start_unlabbelled_dataset.targets[:n_datapoints]])"
   ]
  },
  {
   "cell_type": "code",
   "execution_count": null,
   "metadata": {},
   "outputs": [],
   "source": [
    "#Made by Rasmus Hannibal Tirsgaard\n",
    "# Train model\n",
    "train_loader = torch.utils.data.DataLoader(train_dataset, batch_size=batch_size, shuffle=True, drop_last=True)\n",
    "val_loader = torch.utils.data.DataLoader(val_dataset, batch_size=1024, shuffle=False)\n",
    "baseline_accuracy = train_model(model, train_loader, val_loader, criterion, optimizer, device, num_epochs=num_epochs, val_interval=10)"
   ]
  },
  {
   "cell_type": "code",
   "execution_count": null,
   "metadata": {},
   "outputs": [],
   "source": [
    "# Plot the accuracy\n",
    "datapoints_US = np.array(datapoint_list_US)\n",
    "accuracies_US = np.array(accuracy_list_US).max(-1)\n",
    "plt.figure(figsize=(8,5))\n",
    "plt.plot(datapoints_US, accuracies_US, label='Uncertanty based AL')\n",
    "\n",
    "datapoints_MAR = np.array(datapoint_list_MAR)\n",
    "accuracies_MAR = np.array(accuracy_list_MAR).max(-1)\n",
    "plt.plot(datapoints_MAR, accuracies_MAR, label='Margin based AL')\n",
    "\n",
    "datapoints_BADL = np.array(datapoint_list_BADL)\n",
    "accuracies_BADL = np.array(accuracy_list_BADL).max(-1)\n",
    "plt.plot(datapoints_MAR, accuracies_MAR, label='Bayesian AL')\n",
    "\n",
    "datapoints_KMEANS = np.array(datapoint_list_KMEANS)\n",
    "accuracies_KMEANS = np.array(accuracy_list_KMEANS).max(-1)\n",
    "plt.plot(datapoints_KMEANS, accuracies_KMEANS, label='K-means AL')\n",
    "\n",
    "plt.hlines(max(baseline_accuracy), min(datapoints_US), max(datapoints_US), label=f'Baseline Accuracy ({len(train_dataset)} datapoints)', color='red')\n",
    "plt.title('Active learning on the CIFAR-10 data set', fontsize = 22)\n",
    "plt.xlabel('Datapoints used for AL model', fontsize = 16)\n",
    "plt.ylabel('Accuracy', fontsize = 16)\n",
    "plt.legend(fontsize = 14)\n",
    "\n",
    "plt.xticks(fontsize = 12)\n",
    "plt.yticks(fontsize = 12)\n",
    "\n",
    "\n",
    "plt.tight_layout()\n",
    "plt.savefig('figs/2_Comparison_3_MNIST.png')\n",
    "plt.show()"
   ]
  },
  {
   "cell_type": "code",
   "execution_count": null,
   "metadata": {},
   "outputs": [],
   "source": [
    "# Save data for later\n",
    "\n",
    "import pandas as pd\n",
    "N = np.max(datapoints_US)\n",
    "pd.DataFrame(np.vstack((datapoints_US, accuracies_US)).T).to_excel(f'./results/MNIST_{N}_uncertanty_sampling.xlsx',index = False)\n",
    "\n",
    "N = np.max(datapoints_MAR)\n",
    "pd.DataFrame(np.vstack((datapoints_MAR, accuracies_MAR)).T).to_excel(f'./results/MNIST_{N}_margin_based.xlsx',index = False)\n",
    "\n",
    "N = np.max(datapoints_BADL)\n",
    "pd.DataFrame(np.vstack((datapoints_BADL, accuracies_BADL)).T).to_excel(f'./results/MNIST_{N}_bayesian.xlsx',index = False)\n",
    "\n",
    "N = np.max(datapoints_KMEANS)\n",
    "pd.DataFrame(np.vstack((datapoints_KMEANS, accuracies_KMEANS)).T).to_excel(f'./results/MNIST_{N}_kmeans.xlsx',index = False)"
   ]
  }
 ],
 "metadata": {
  "kernelspec": {
   "display_name": "DL",
   "language": "python",
   "name": "python3"
  },
  "language_info": {
   "codemirror_mode": {
    "name": "ipython",
    "version": 3
   },
   "file_extension": ".py",
   "mimetype": "text/x-python",
   "name": "python",
   "nbconvert_exporter": "python",
   "pygments_lexer": "ipython3",
   "version": "3.12.4"
  }
 },
 "nbformat": 4,
 "nbformat_minor": 2
}
