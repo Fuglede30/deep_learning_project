{
 "cells": [
  {
   "cell_type": "code",
   "execution_count": 25,
   "metadata": {},
   "outputs": [],
   "source": [
    "import torch\n",
    "import torchvision\n",
    "import numpy as np\n",
    "from copy import deepcopy\n",
    "import argparse\n",
    "from tqdm import tqdm\n",
    "import matplotlib.pyplot as plt\n"
   ]
  },
  {
   "cell_type": "code",
   "execution_count": 26,
   "metadata": {},
   "outputs": [
    {
     "data": {
      "text/plain": [
       "<torch._C.Generator at 0x1f8689834d0>"
      ]
     },
     "execution_count": 26,
     "metadata": {},
     "output_type": "execute_result"
    }
   ],
   "source": [
    "### Hyperparameters\n",
    "val_split = 0.1\n",
    "unlabelled_size = 0.99\n",
    "lr = 0.0005\n",
    "batch_size = 64\n",
    "num_epochs = 100\n",
    "label_iterations = 100\n",
    "torch.manual_seed(42)"
   ]
  },
  {
   "cell_type": "code",
   "execution_count": 27,
   "metadata": {},
   "outputs": [
    {
     "name": "stdout",
     "output_type": "stream",
     "text": [
      "Files already downloaded and verified\n"
     ]
    }
   ],
   "source": [
    "## CIFAR-10\n",
    "# Define transformations\n",
    "transform = torchvision.transforms.Compose([\n",
    "    torchvision.transforms.ToTensor(),\n",
    "    torchvision.transforms.Normalize((0.5,0.5,0.5), (0.5,0.5,0.5))\n",
    "])\n",
    "\n",
    "# Download datasets\n",
    "train_dataset = torchvision.datasets.CIFAR10(root='./data', train=True, download=True, transform=transform)"
   ]
  },
  {
   "cell_type": "code",
   "execution_count": 28,
   "metadata": {},
   "outputs": [],
   "source": [
    "val_dataset = deepcopy(train_dataset)"
   ]
  },
  {
   "cell_type": "code",
   "execution_count": 29,
   "metadata": {},
   "outputs": [],
   "source": [
    "train_size = int((1 - val_split) * len(train_dataset))\n",
    "val_size = len(train_dataset) - train_size\n",
    "indexes = torch.randperm(len(train_dataset)).tolist()\n",
    "# Define validation set\n",
    "indexes_val = indexes[train_size:]\n",
    "val_dataset.targets =torch.as_tensor(val_dataset.targets)[indexes_val].cpu().numpy()\n",
    "val_dataset.data = torch.as_tensor(val_dataset.data)[indexes_val].cpu().numpy()\n",
    "val_loader = torch.utils.data.DataLoader(val_dataset, batch_size=1024, shuffle=False)"
   ]
  },
  {
   "cell_type": "code",
   "execution_count": 30,
   "metadata": {},
   "outputs": [],
   "source": [
    "# Define training set\n",
    "indexes_train = indexes[:train_size]\n",
    "train_dataset.targets = torch.as_tensor(train_dataset.targets)[indexes_train].cpu().numpy()\n",
    "train_dataset.data = torch.as_tensor(train_dataset.data)[indexes_train].cpu().numpy()"
   ]
  },
  {
   "cell_type": "code",
   "execution_count": 31,
   "metadata": {},
   "outputs": [],
   "source": [
    "# Split training data into labelled and unlabelled\n",
    "unused_size_n = int(unlabelled_size * len(train_dataset))\n",
    "\n",
    "indexes_train = torch.randperm(len(train_dataset)).tolist()  # Redefine indexes_train\n",
    "unlabbelled_dataset = deepcopy(train_dataset)\n",
    "\n",
    "unlabbelled_dataset.targets = torch.as_tensor(unlabbelled_dataset.targets)[indexes_train[:unused_size_n]].cpu().numpy()\n",
    "unlabbelled_dataset.data = torch.as_tensor(unlabbelled_dataset.data)[indexes_train[:unused_size_n]].cpu().numpy()\n",
    "\n",
    "train_dataset.targets = torch.as_tensor(train_dataset.targets)[indexes_train[unused_size_n:]].cpu().numpy()\n",
    "train_dataset.data = torch.as_tensor(train_dataset.data)[indexes_train[unused_size_n:]].cpu().numpy()\n",
    "\n",
    "unlabbelled_dataset.targets = unlabbelled_dataset.targets\n",
    "unlabbelled_dataset.data = unlabbelled_dataset.data\n",
    "\n",
    "start_train_dataset = deepcopy(train_dataset)  # Save for baseline\n",
    "start_unlabbelled_dataset = deepcopy(unlabbelled_dataset)  # Save for baseline"
   ]
  },
  {
   "cell_type": "code",
   "execution_count": 32,
   "metadata": {},
   "outputs": [],
   "source": [
    "def transfer_unlabelled_to_labeled(unused_dataset, train_dataset, indexes):\n",
    "    # Convert indexes to boolean mask\n",
    "    indexes = torch.tensor([i in indexes for i in range(len(unused_dataset.targets))])\n",
    "    try:\n",
    "        train_dataset.targets = torch.cat([train_dataset.targets, unused_dataset.targets[indexes]])\n",
    "    except:\n",
    "        train_dataset.targets = torch.cat([torch.as_tensor(train_dataset.targets), torch.as_tensor(unused_dataset.targets)[indexes]]).cpu().numpy()\n",
    "    \n",
    "    try:\n",
    "        train_dataset.data = torch.cat([train_dataset.data, unused_dataset.data[indexes]])\n",
    "    except:\n",
    "        train_dataset.data = torch.cat([torch.as_tensor(train_dataset.data), torch.as_tensor(unused_dataset.data)[indexes]]).cpu().numpy()\n",
    "    unused_dataset.targets = unused_dataset.targets[~indexes]\n",
    "    unused_dataset.data = unused_dataset.data[~indexes]\n",
    "\n",
    "    return train_dataset, unused_dataset"
   ]
  },
  {
   "cell_type": "code",
   "execution_count": 33,
   "metadata": {},
   "outputs": [],
   "source": [
    "def validate_model(model, val_loader, device):\n",
    "    model.eval()\n",
    "    correct, total = 0, 0\n",
    "    with torch.no_grad():\n",
    "        for images, labels in val_loader:\n",
    "            images, labels = images.to(device), labels.to(device)\n",
    "            outputs = model(images)\n",
    "            _, predicted = torch.max(outputs, 1)\n",
    "            total += labels.size(0)\n",
    "            correct += (predicted == labels).sum().item()\n",
    "    return 100 * correct / total"
   ]
  },
  {
   "cell_type": "code",
   "execution_count": 34,
   "metadata": {},
   "outputs": [
    {
     "name": "stderr",
     "output_type": "stream",
     "text": [
      "c:\\Users\\soere\\anaconda3\\envs\\DL\\Lib\\site-packages\\torchvision\\models\\_utils.py:208: UserWarning: The parameter 'pretrained' is deprecated since 0.13 and may be removed in the future, please use 'weights' instead.\n",
      "  warnings.warn(\n",
      "c:\\Users\\soere\\anaconda3\\envs\\DL\\Lib\\site-packages\\torchvision\\models\\_utils.py:223: UserWarning: Arguments other than a weight enum or `None` for 'weights' are deprecated since 0.13 and may be removed in the future. The current behavior is equivalent to passing `weights=None`.\n",
      "  warnings.warn(msg)\n"
     ]
    }
   ],
   "source": [
    "# Setup model\n",
    "device = torch.device('cuda' if torch.cuda.is_available() else 'cpu')\n",
    "model = torchvision.models.resnet18(pretrained=False)\n",
    "model.fc = torch.nn.Linear(model.fc.in_features, 10)\n",
    "# Modify input layer to accept 1 channel\n",
    "#model.conv1 = torch.nn.Conv2d(1, 64, kernel_size=(7, 7), stride=(2, 2), padding=(3, 3), bias=False)\n",
    "\n",
    "model_parameters = deepcopy(model.state_dict())\n",
    "model = model.to(device)\n",
    "criterion = torch.nn.CrossEntropyLoss()\n",
    "optimizer = torch.optim.Adam(model.parameters(), lr=lr)"
   ]
  },
  {
   "cell_type": "code",
   "execution_count": 35,
   "metadata": {},
   "outputs": [],
   "source": [
    "def train_model(model, train_loader, val_loader, criterion, optimizer, device, num_epochs=10, val_interval=1):\n",
    "    accuracies = []\n",
    "    for epoch in tqdm(range(num_epochs)):\n",
    "        model.train()\n",
    "        for images, labels in train_loader:\n",
    "            images, labels = images.to(device), labels.to(device)\n",
    "            \n",
    "            optimizer.zero_grad()\n",
    "            outputs = model(images)\n",
    "            try:\n",
    "                loss = criterion(outputs, labels)\n",
    "            except:\n",
    "                labels = labels.long()\n",
    "                loss = criterion(outputs, labels)\n",
    "            loss.backward()\n",
    "            optimizer.step()\n",
    "\n",
    "        if (epoch + 1) % val_interval == 0:\n",
    "            val_accuracy = validate_model(model, val_loader, device)\n",
    "            accuracies.append(val_accuracy)\n",
    "            print(f'Epoch {epoch + 1}, Accuracy: {val_accuracy:.2f}%')\n",
    "    return accuracies"
   ]
  },
  {
   "cell_type": "code",
   "execution_count": 36,
   "metadata": {},
   "outputs": [],
   "source": [
    "frac = 0.01\n",
    "\n",
    "def label_iteration_uncertanty_sampling(model, train_dataset, unlabelled_dataset, device, top_frac=frac):\n",
    "    # Use model to label all images in validation set\n",
    "    model.eval()\n",
    "    predictions = []\n",
    "    unlabelled_loader = torch.utils.data.DataLoader(unlabelled_dataset, batch_size=batch_size, shuffle=False, drop_last=False)\n",
    "\n",
    "    with torch.no_grad():\n",
    "        for images, _ in tqdm(unlabelled_loader):\n",
    "            images = images.to(device)\n",
    "            outputs = model(images).softmax(dim=1)\n",
    "            predictions.extend(outputs.detach().cpu().numpy())\n",
    "\n",
    "    predictions = torch.tensor(predictions)\n",
    "    # Find top % of images with lowest top-confidence\n",
    "    top_percent = int(top_frac * len(predictions))\n",
    "    _, top_indices = predictions.max(-1)[0].topk(top_percent, largest=False)\n",
    "    print(f\"Adding {len(top_indices)} images to training set\")\n",
    "    train_dataset, unlabelled_dataset = transfer_unlabelled_to_labeled(unlabelled_dataset, train_dataset, top_indices)\n",
    "    \n",
    "    return train_dataset, unlabelled_dataset\n",
    "\n",
    "def label_iteration_margin_based(model, train_dataset, unlabelled_dataset, device, top_frac=frac):\n",
    "    # Set the model to evaluation mode\n",
    "    model.eval()\n",
    "    predictions = []\n",
    "    unlabelled_loader = torch.utils.data.DataLoader(unlabelled_dataset, batch_size=batch_size, shuffle=False, drop_last=False)\n",
    "\n",
    "    with torch.no_grad():\n",
    "        for images, _ in tqdm(unlabelled_loader):\n",
    "            images = images.to(device)\n",
    "            # Get the class probabilities using softmax\n",
    "            outputs = model(images).softmax(dim=1)\n",
    "            predictions.extend(outputs.cpu().numpy())\n",
    "\n",
    "    # Convert predictions to a tensor for easier manipulation\n",
    "    predictions = torch.tensor(predictions)\n",
    "\n",
    "    # Compute the margin: difference between the top two probabilities for each data point\n",
    "    sorted_probs, _ = predictions.sort(dim=1, descending=True)\n",
    "    margins = sorted_probs[:, 0] - sorted_probs[:, 1]  # Top class probability minus second highest\n",
    "\n",
    "    # Select the indices of the samples with the smallest margins\n",
    "    top_percent = int(top_frac * len(margins))\n",
    "    _, top_indices = margins.topk(top_percent, largest=False)  # Smallest margins, hence least confident\n",
    "\n",
    "    print(f\"Adding {len(top_indices)} images to training set\")\n",
    "\n",
    "    # Transfer the selected samples from unlabelled to labelled dataset\n",
    "    train_dataset, unlabelled_dataset = transfer_unlabelled_to_labeled(unlabelled_dataset, train_dataset, top_indices)\n",
    "\n",
    "    return train_dataset, unlabelled_dataset"
   ]
  },
  {
   "cell_type": "code",
   "execution_count": null,
   "metadata": {},
   "outputs": [
    {
     "name": "stdout",
     "output_type": "stream",
     "text": [
      "0\n"
     ]
    },
    {
     "name": "stderr",
     "output_type": "stream",
     "text": [
      "  0%|          | 0/100 [00:00<?, ?it/s]"
     ]
    },
    {
     "name": "stderr",
     "output_type": "stream",
     "text": [
      " 11%|█         | 11/100 [00:03<00:38,  2.32it/s]"
     ]
    },
    {
     "name": "stdout",
     "output_type": "stream",
     "text": [
      "Epoch 10, Accuracy: 32.14%\n"
     ]
    },
    {
     "name": "stderr",
     "output_type": "stream",
     "text": [
      " 21%|██        | 21/100 [00:06<00:33,  2.35it/s]"
     ]
    },
    {
     "name": "stdout",
     "output_type": "stream",
     "text": [
      "Epoch 20, Accuracy: 32.54%\n"
     ]
    },
    {
     "name": "stderr",
     "output_type": "stream",
     "text": [
      " 31%|███       | 31/100 [00:09<00:29,  2.31it/s]"
     ]
    },
    {
     "name": "stdout",
     "output_type": "stream",
     "text": [
      "Epoch 30, Accuracy: 32.46%\n"
     ]
    },
    {
     "name": "stderr",
     "output_type": "stream",
     "text": [
      " 41%|████      | 41/100 [00:12<00:26,  2.26it/s]"
     ]
    },
    {
     "name": "stdout",
     "output_type": "stream",
     "text": [
      "Epoch 40, Accuracy: 32.64%\n"
     ]
    },
    {
     "name": "stderr",
     "output_type": "stream",
     "text": [
      " 51%|█████     | 51/100 [00:15<00:21,  2.30it/s]"
     ]
    },
    {
     "name": "stdout",
     "output_type": "stream",
     "text": [
      "Epoch 50, Accuracy: 32.66%\n"
     ]
    },
    {
     "name": "stderr",
     "output_type": "stream",
     "text": [
      " 61%|██████    | 61/100 [00:17<00:16,  2.38it/s]"
     ]
    },
    {
     "name": "stdout",
     "output_type": "stream",
     "text": [
      "Epoch 60, Accuracy: 32.92%\n"
     ]
    },
    {
     "name": "stderr",
     "output_type": "stream",
     "text": [
      " 71%|███████   | 71/100 [00:20<00:12,  2.28it/s]"
     ]
    },
    {
     "name": "stdout",
     "output_type": "stream",
     "text": [
      "Epoch 70, Accuracy: 32.86%\n"
     ]
    },
    {
     "name": "stderr",
     "output_type": "stream",
     "text": [
      " 81%|████████  | 81/100 [00:23<00:08,  2.32it/s]"
     ]
    },
    {
     "name": "stdout",
     "output_type": "stream",
     "text": [
      "Epoch 80, Accuracy: 33.10%\n"
     ]
    },
    {
     "name": "stderr",
     "output_type": "stream",
     "text": [
      " 91%|█████████ | 91/100 [00:26<00:03,  2.28it/s]"
     ]
    },
    {
     "name": "stdout",
     "output_type": "stream",
     "text": [
      "Epoch 90, Accuracy: 33.02%\n"
     ]
    },
    {
     "name": "stderr",
     "output_type": "stream",
     "text": [
      "100%|██████████| 100/100 [00:29<00:00,  3.42it/s]\n"
     ]
    },
    {
     "name": "stdout",
     "output_type": "stream",
     "text": [
      "Epoch 100, Accuracy: 32.74%\n"
     ]
    },
    {
     "name": "stderr",
     "output_type": "stream",
     "text": [
      "100%|██████████| 697/697 [00:14<00:00, 46.99it/s]\n"
     ]
    },
    {
     "name": "stdout",
     "output_type": "stream",
     "text": [
      "Adding 44 images to training set\n",
      "1\n"
     ]
    },
    {
     "name": "stderr",
     "output_type": "stream",
     "text": [
      " 10%|█         | 10/100 [00:03<00:56,  1.60it/s]"
     ]
    },
    {
     "name": "stdout",
     "output_type": "stream",
     "text": [
      "Epoch 10, Accuracy: 31.86%\n"
     ]
    },
    {
     "name": "stderr",
     "output_type": "stream",
     "text": [
      " 20%|██        | 20/100 [00:07<00:51,  1.56it/s]"
     ]
    },
    {
     "name": "stdout",
     "output_type": "stream",
     "text": [
      "Epoch 20, Accuracy: 34.30%\n"
     ]
    },
    {
     "name": "stderr",
     "output_type": "stream",
     "text": [
      " 30%|███       | 30/100 [00:11<00:44,  1.59it/s]"
     ]
    },
    {
     "name": "stdout",
     "output_type": "stream",
     "text": [
      "Epoch 30, Accuracy: 33.60%\n"
     ]
    },
    {
     "name": "stderr",
     "output_type": "stream",
     "text": [
      " 41%|████      | 41/100 [00:16<00:31,  1.89it/s]"
     ]
    },
    {
     "name": "stdout",
     "output_type": "stream",
     "text": [
      "Epoch 40, Accuracy: 33.04%\n"
     ]
    },
    {
     "name": "stderr",
     "output_type": "stream",
     "text": [
      " 51%|█████     | 51/100 [00:20<00:26,  1.86it/s]"
     ]
    },
    {
     "name": "stdout",
     "output_type": "stream",
     "text": [
      "Epoch 50, Accuracy: 35.46%\n"
     ]
    },
    {
     "name": "stderr",
     "output_type": "stream",
     "text": [
      " 61%|██████    | 61/100 [00:24<00:21,  1.82it/s]"
     ]
    },
    {
     "name": "stdout",
     "output_type": "stream",
     "text": [
      "Epoch 60, Accuracy: 34.88%\n"
     ]
    },
    {
     "name": "stderr",
     "output_type": "stream",
     "text": [
      " 71%|███████   | 71/100 [00:28<00:15,  1.85it/s]"
     ]
    },
    {
     "name": "stdout",
     "output_type": "stream",
     "text": [
      "Epoch 70, Accuracy: 35.12%\n"
     ]
    },
    {
     "name": "stderr",
     "output_type": "stream",
     "text": [
      " 80%|████████  | 80/100 [00:31<00:13,  1.49it/s]"
     ]
    },
    {
     "name": "stdout",
     "output_type": "stream",
     "text": [
      "Epoch 80, Accuracy: 35.30%\n"
     ]
    },
    {
     "name": "stderr",
     "output_type": "stream",
     "text": [
      " 90%|█████████ | 90/100 [00:35<00:06,  1.51it/s]"
     ]
    },
    {
     "name": "stdout",
     "output_type": "stream",
     "text": [
      "Epoch 90, Accuracy: 35.06%\n"
     ]
    },
    {
     "name": "stderr",
     "output_type": "stream",
     "text": [
      "100%|██████████| 100/100 [00:38<00:00,  2.59it/s]\n"
     ]
    },
    {
     "name": "stdout",
     "output_type": "stream",
     "text": [
      "Epoch 100, Accuracy: 35.16%\n"
     ]
    },
    {
     "name": "stderr",
     "output_type": "stream",
     "text": [
      "  4%|▍         | 28/696 [00:00<00:20, 33.37it/s]"
     ]
    }
   ],
   "source": [
    "## Run active learning Uncertanty\n",
    "datapoint_list_US = []\n",
    "accuracy_list_US = []\n",
    "\n",
    "train_dataset.targets = start_train_dataset.targets\n",
    "train_dataset.data = start_train_dataset.data\n",
    "unlabbelled_dataset.targets = start_unlabbelled_dataset.targets\n",
    "unlabbelled_dataset.data = start_unlabbelled_dataset.data\n",
    "for i in range(label_iterations):\n",
    "    print(i)\n",
    "    train_loader = torch.utils.data.DataLoader(train_dataset, batch_size=batch_size, shuffle=True, drop_last=True)\n",
    "    model.load_state_dict(model_parameters)  # Important to reset the model each time\n",
    "    accuracies = train_model(model, train_loader, val_loader, criterion, optimizer, device, num_epochs=num_epochs, val_interval=10)\n",
    "    datapoint_list_US.append(len(train_dataset))\n",
    "    accuracy_list_US.append(accuracies)\n",
    "    if i < label_iterations - 1:\n",
    "        train_dataset, unlabbelled_dataset = label_iteration_uncertanty_sampling(model, train_dataset, unlabbelled_dataset, device, top_frac=0.001)"
   ]
  },
  {
   "cell_type": "code",
   "execution_count": null,
   "metadata": {},
   "outputs": [
    {
     "name": "stdout",
     "output_type": "stream",
     "text": [
      "0\n"
     ]
    },
    {
     "name": "stderr",
     "output_type": "stream",
     "text": [
      " 11%|█         | 11/100 [00:02<00:36,  2.46it/s]"
     ]
    },
    {
     "name": "stdout",
     "output_type": "stream",
     "text": [
      "Epoch 10, Accuracy: 29.96%\n"
     ]
    },
    {
     "name": "stderr",
     "output_type": "stream",
     "text": [
      " 21%|██        | 21/100 [00:05<00:32,  2.44it/s]"
     ]
    },
    {
     "name": "stdout",
     "output_type": "stream",
     "text": [
      "Epoch 20, Accuracy: 30.64%\n"
     ]
    },
    {
     "name": "stderr",
     "output_type": "stream",
     "text": [
      " 31%|███       | 31/100 [00:08<00:28,  2.41it/s]"
     ]
    },
    {
     "name": "stdout",
     "output_type": "stream",
     "text": [
      "Epoch 30, Accuracy: 31.24%\n"
     ]
    },
    {
     "name": "stderr",
     "output_type": "stream",
     "text": [
      " 41%|████      | 41/100 [00:11<00:24,  2.45it/s]"
     ]
    },
    {
     "name": "stdout",
     "output_type": "stream",
     "text": [
      "Epoch 40, Accuracy: 33.22%\n"
     ]
    },
    {
     "name": "stderr",
     "output_type": "stream",
     "text": [
      " 51%|█████     | 51/100 [00:13<00:19,  2.45it/s]"
     ]
    },
    {
     "name": "stdout",
     "output_type": "stream",
     "text": [
      "Epoch 50, Accuracy: 33.62%\n"
     ]
    },
    {
     "name": "stderr",
     "output_type": "stream",
     "text": [
      " 61%|██████    | 61/100 [00:16<00:15,  2.45it/s]"
     ]
    },
    {
     "name": "stdout",
     "output_type": "stream",
     "text": [
      "Epoch 60, Accuracy: 33.82%\n"
     ]
    },
    {
     "name": "stderr",
     "output_type": "stream",
     "text": [
      " 71%|███████   | 71/100 [00:19<00:11,  2.46it/s]"
     ]
    },
    {
     "name": "stdout",
     "output_type": "stream",
     "text": [
      "Epoch 70, Accuracy: 33.64%\n"
     ]
    },
    {
     "name": "stderr",
     "output_type": "stream",
     "text": [
      " 81%|████████  | 81/100 [00:22<00:08,  2.35it/s]"
     ]
    },
    {
     "name": "stdout",
     "output_type": "stream",
     "text": [
      "Epoch 80, Accuracy: 33.82%\n"
     ]
    },
    {
     "name": "stderr",
     "output_type": "stream",
     "text": [
      " 91%|█████████ | 91/100 [00:25<00:03,  2.45it/s]"
     ]
    },
    {
     "name": "stdout",
     "output_type": "stream",
     "text": [
      "Epoch 90, Accuracy: 33.82%\n"
     ]
    },
    {
     "name": "stderr",
     "output_type": "stream",
     "text": [
      "100%|██████████| 100/100 [00:27<00:00,  3.62it/s]\n"
     ]
    },
    {
     "name": "stdout",
     "output_type": "stream",
     "text": [
      "Epoch 100, Accuracy: 33.86%\n"
     ]
    },
    {
     "name": "stderr",
     "output_type": "stream",
     "text": [
      "100%|██████████| 697/697 [00:13<00:00, 51.43it/s]\n"
     ]
    },
    {
     "name": "stdout",
     "output_type": "stream",
     "text": [
      "Adding 44 images to training set\n",
      "1\n"
     ]
    },
    {
     "name": "stderr",
     "output_type": "stream",
     "text": [
      " 11%|█         | 11/100 [00:03<00:35,  2.48it/s]"
     ]
    },
    {
     "name": "stdout",
     "output_type": "stream",
     "text": [
      "Epoch 10, Accuracy: 31.02%\n"
     ]
    },
    {
     "name": "stderr",
     "output_type": "stream",
     "text": [
      " 21%|██        | 21/100 [00:05<00:32,  2.45it/s]"
     ]
    },
    {
     "name": "stdout",
     "output_type": "stream",
     "text": [
      "Epoch 20, Accuracy: 32.86%\n"
     ]
    },
    {
     "name": "stderr",
     "output_type": "stream",
     "text": [
      " 31%|███       | 31/100 [00:08<00:27,  2.47it/s]"
     ]
    },
    {
     "name": "stdout",
     "output_type": "stream",
     "text": [
      "Epoch 30, Accuracy: 31.58%\n"
     ]
    },
    {
     "name": "stderr",
     "output_type": "stream",
     "text": [
      " 41%|████      | 41/100 [00:11<00:23,  2.46it/s]"
     ]
    },
    {
     "name": "stdout",
     "output_type": "stream",
     "text": [
      "Epoch 40, Accuracy: 30.50%\n"
     ]
    },
    {
     "name": "stderr",
     "output_type": "stream",
     "text": [
      " 51%|█████     | 51/100 [00:13<00:19,  2.47it/s]"
     ]
    },
    {
     "name": "stdout",
     "output_type": "stream",
     "text": [
      "Epoch 50, Accuracy: 33.00%\n"
     ]
    },
    {
     "name": "stderr",
     "output_type": "stream",
     "text": [
      " 61%|██████    | 61/100 [00:16<00:15,  2.47it/s]"
     ]
    },
    {
     "name": "stdout",
     "output_type": "stream",
     "text": [
      "Epoch 60, Accuracy: 33.02%\n"
     ]
    },
    {
     "name": "stderr",
     "output_type": "stream",
     "text": [
      " 71%|███████   | 71/100 [00:19<00:11,  2.47it/s]"
     ]
    },
    {
     "name": "stdout",
     "output_type": "stream",
     "text": [
      "Epoch 70, Accuracy: 33.12%\n"
     ]
    },
    {
     "name": "stderr",
     "output_type": "stream",
     "text": [
      " 81%|████████  | 81/100 [00:22<00:07,  2.47it/s]"
     ]
    },
    {
     "name": "stdout",
     "output_type": "stream",
     "text": [
      "Epoch 80, Accuracy: 33.16%\n"
     ]
    },
    {
     "name": "stderr",
     "output_type": "stream",
     "text": [
      " 91%|█████████ | 91/100 [00:24<00:03,  2.47it/s]"
     ]
    },
    {
     "name": "stdout",
     "output_type": "stream",
     "text": [
      "Epoch 90, Accuracy: 33.40%\n"
     ]
    },
    {
     "name": "stderr",
     "output_type": "stream",
     "text": [
      "100%|██████████| 100/100 [00:27<00:00,  3.65it/s]"
     ]
    },
    {
     "name": "stdout",
     "output_type": "stream",
     "text": [
      "Epoch 100, Accuracy: 33.24%\n"
     ]
    },
    {
     "name": "stderr",
     "output_type": "stream",
     "text": [
      "\n"
     ]
    }
   ],
   "source": [
    "## Run active learning Margin\n",
    "datapoint_list_MAR = []\n",
    "accuracy_list_MAR = []\n",
    "\n",
    "train_dataset.targets = start_train_dataset.targets\n",
    "train_dataset.data = start_train_dataset.data\n",
    "unlabbelled_dataset.targets = start_unlabbelled_dataset.targets\n",
    "unlabbelled_dataset.data = start_unlabbelled_dataset.data\n",
    "for i in range(label_iterations):\n",
    "    print(i)\n",
    "    train_loader = torch.utils.data.DataLoader(train_dataset, batch_size=batch_size, shuffle=True, drop_last=True)\n",
    "    model.load_state_dict(model_parameters)  # Important to reset the model each time\n",
    "    accuracies = train_model(model, train_loader, val_loader, criterion, optimizer, device, num_epochs=num_epochs, val_interval=10)\n",
    "    datapoint_list_MAR.append(len(train_dataset))\n",
    "    accuracy_list_MAR.append(accuracies)\n",
    "    if i < label_iterations - 1:\n",
    "        train_dataset, unlabbelled_dataset = label_iteration_margin_based(model, train_dataset, unlabbelled_dataset, device, top_frac=0.001)"
   ]
  },
  {
   "cell_type": "code",
   "execution_count": null,
   "metadata": {},
   "outputs": [],
   "source": [
    "# Add baseline accuracy (no active learning)\n",
    "n_datapoints = len(train_dataset) - len(start_train_dataset)\n",
    "model.load_state_dict(model_parameters)\n",
    "# We reuse the initial training set to reduce run to run variance\n",
    "\n",
    "\n",
    "try:\n",
    "    train_dataset.targets = torch.cat([start_train_dataset.targets, start_unlabbelled_dataset.targets[indexes]])\n",
    "except:\n",
    "    train_dataset.targets = torch.cat([torch.as_tensor(start_train_dataset.targets), torch.as_tensor(start_unlabbelled_dataset.targets)[:n_datapoints]]).cpu().numpy()\n",
    "    \n",
    "try:\n",
    "    train_dataset.data = torch.cat([start_train_dataset.data, start_unlabbelled_dataset.data[indexes]])\n",
    "except:\n",
    "    train_dataset.data = torch.cat([torch.as_tensor(start_train_dataset.data), torch.as_tensor(start_unlabbelled_dataset.data)[:n_datapoints]]).cpu().numpy()"
   ]
  },
  {
   "cell_type": "code",
   "execution_count": null,
   "metadata": {},
   "outputs": [
    {
     "name": "stderr",
     "output_type": "stream",
     "text": [
      " 11%|█         | 11/100 [00:03<00:37,  2.36it/s]"
     ]
    },
    {
     "name": "stdout",
     "output_type": "stream",
     "text": [
      "Epoch 10, Accuracy: 32.86%\n"
     ]
    },
    {
     "name": "stderr",
     "output_type": "stream",
     "text": [
      " 21%|██        | 21/100 [00:06<00:32,  2.41it/s]"
     ]
    },
    {
     "name": "stdout",
     "output_type": "stream",
     "text": [
      "Epoch 20, Accuracy: 34.86%\n"
     ]
    },
    {
     "name": "stderr",
     "output_type": "stream",
     "text": [
      " 31%|███       | 31/100 [00:08<00:29,  2.34it/s]"
     ]
    },
    {
     "name": "stdout",
     "output_type": "stream",
     "text": [
      "Epoch 30, Accuracy: 35.32%\n"
     ]
    },
    {
     "name": "stderr",
     "output_type": "stream",
     "text": [
      " 41%|████      | 41/100 [00:11<00:25,  2.33it/s]"
     ]
    },
    {
     "name": "stdout",
     "output_type": "stream",
     "text": [
      "Epoch 40, Accuracy: 35.24%\n"
     ]
    },
    {
     "name": "stderr",
     "output_type": "stream",
     "text": [
      " 51%|█████     | 51/100 [00:14<00:20,  2.34it/s]"
     ]
    },
    {
     "name": "stdout",
     "output_type": "stream",
     "text": [
      "Epoch 50, Accuracy: 35.60%\n"
     ]
    },
    {
     "name": "stderr",
     "output_type": "stream",
     "text": [
      " 61%|██████    | 61/100 [00:17<00:16,  2.41it/s]"
     ]
    },
    {
     "name": "stdout",
     "output_type": "stream",
     "text": [
      "Epoch 60, Accuracy: 35.64%\n"
     ]
    },
    {
     "name": "stderr",
     "output_type": "stream",
     "text": [
      " 71%|███████   | 71/100 [00:20<00:11,  2.42it/s]"
     ]
    },
    {
     "name": "stdout",
     "output_type": "stream",
     "text": [
      "Epoch 70, Accuracy: 35.96%\n"
     ]
    },
    {
     "name": "stderr",
     "output_type": "stream",
     "text": [
      " 81%|████████  | 81/100 [00:23<00:07,  2.41it/s]"
     ]
    },
    {
     "name": "stdout",
     "output_type": "stream",
     "text": [
      "Epoch 80, Accuracy: 36.02%\n"
     ]
    },
    {
     "name": "stderr",
     "output_type": "stream",
     "text": [
      " 91%|█████████ | 91/100 [00:25<00:03,  2.47it/s]"
     ]
    },
    {
     "name": "stdout",
     "output_type": "stream",
     "text": [
      "Epoch 90, Accuracy: 35.60%\n"
     ]
    },
    {
     "name": "stderr",
     "output_type": "stream",
     "text": [
      "100%|██████████| 100/100 [00:28<00:00,  3.50it/s]"
     ]
    },
    {
     "name": "stdout",
     "output_type": "stream",
     "text": [
      "Epoch 100, Accuracy: 36.14%\n"
     ]
    },
    {
     "name": "stderr",
     "output_type": "stream",
     "text": [
      "\n"
     ]
    }
   ],
   "source": [
    "# Train model\n",
    "train_loader = torch.utils.data.DataLoader(train_dataset, batch_size=batch_size, shuffle=True, drop_last=True)\n",
    "val_loader = torch.utils.data.DataLoader(val_dataset, batch_size=1024, shuffle=False)\n",
    "baseline_accuracy = train_model(model, train_loader, val_loader, criterion, optimizer, device, num_epochs=num_epochs, val_interval=10)"
   ]
  },
  {
   "cell_type": "code",
   "execution_count": null,
   "metadata": {},
   "outputs": [
    {
     "data": {
      "image/png": "[encoded data removed]",
      "text/plain": [
       "<Figure size 1000x500 with 1 Axes>"
      ]
     },
     "metadata": {},
     "output_type": "display_data"
    }
   ],
   "source": [
    "# Plot the accuracy\n",
    "datapoints_US = np.array(datapoint_list_US)\n",
    "accuracies_US = np.array(accuracy_list_US).max(-1)\n",
    "plt.figure(figsize=(10, 5))\n",
    "plt.plot(datapoints_US, accuracies_US, label='Uncertanty based AL')\n",
    "\n",
    "datapoints_MAR = np.array(datapoint_list_MAR)\n",
    "accuracies_MAR = np.array(accuracy_list_MAR).max(-1)\n",
    "plt.plot(datapoints_MAR, accuracies_MAR, label='Margin based AL')\n",
    "\n",
    "plt.hlines(max(baseline_accuracy), min(datapoints_US), max(datapoints_US), label=f'Baseline Accuracy ({len(train_dataset)} datapoints)', color='red')\n",
    "plt.xlabel('Datapoints used for AL model')\n",
    "plt.ylabel('Accuracy')\n",
    "plt.legend()\n",
    "\n",
    "plt.tight_layout()\n",
    "plt.savefig('figs/2_Comparison_2_CIFAR.png')\n",
    "plt.show()"
   ]
  }
 ],
 "metadata": {
  "kernelspec": {
   "display_name": "DL",
   "language": "python",
   "name": "python3"
  },
  "language_info": {
   "codemirror_mode": {
    "name": "ipython",
    "version": 3
   },
   "file_extension": ".py",
   "mimetype": "text/x-python",
   "name": "python",
   "nbconvert_exporter": "python",
   "pygments_lexer": "ipython3",
   "version": "3.12.4"
  }
 },
 "nbformat": 4,
 "nbformat_minor": 2
}
