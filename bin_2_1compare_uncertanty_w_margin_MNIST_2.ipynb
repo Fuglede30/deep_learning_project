{
 "cells": [
  {
   "cell_type": "code",
<<<<<<< HEAD:bin_2_1compare_uncertanty_w_margin_MNIST.ipynb
   "execution_count": 1,
=======
   "execution_count": 23,
>>>>>>> bdc5fca78a045bb591ec2ee0328572ae354fa6ed:bin_2_compare_uncertanty_w_margin.ipynb
   "metadata": {},
   "outputs": [],
   "source": [
    "import torch\n",
    "import torchvision\n",
    "import numpy as np\n",
    "from copy import deepcopy\n",
    "import argparse\n",
    "from tqdm import tqdm\n",
    "import matplotlib.pyplot as plt\n",
    "import torch.nn.functional as F\n"
   ]
  },
  {
   "cell_type": "code",
<<<<<<< HEAD:bin_2_1compare_uncertanty_w_margin_MNIST.ipynb
   "execution_count": 2,
=======
   "execution_count": 24,
>>>>>>> bdc5fca78a045bb591ec2ee0328572ae354fa6ed:bin_2_compare_uncertanty_w_margin.ipynb
   "metadata": {},
   "outputs": [
    {
     "data": {
      "text/plain": [
<<<<<<< HEAD:bin_2_1compare_uncertanty_w_margin_MNIST.ipynb
       "<torch._C.Generator at 0x2c346d234d0>"
      ]
     },
     "execution_count": 2,
=======
       "<torch._C.Generator at 0x1e03c2d56b0>"
      ]
     },
     "execution_count": 24,
>>>>>>> bdc5fca78a045bb591ec2ee0328572ae354fa6ed:bin_2_compare_uncertanty_w_margin.ipynb
     "metadata": {},
     "output_type": "execute_result"
    }
   ],
   "source": [
    "### Hyperparameters\n",
    "val_split = 0.1\n",
    "unlabelled_size = 0.99\n",
    "lr = 0.0005\n",
    "batch_size = 64\n",
    "num_epochs = 100\n",
    "label_iterations = 100\n",
    "torch.manual_seed(42)"
   ]
  },
  {
   "cell_type": "code",
<<<<<<< HEAD:bin_2_1compare_uncertanty_w_margin_MNIST.ipynb
   "execution_count": 3,
=======
   "execution_count": 25,
>>>>>>> bdc5fca78a045bb591ec2ee0328572ae354fa6ed:bin_2_compare_uncertanty_w_margin.ipynb
   "metadata": {},
   "outputs": [],
   "source": [
    "### Setup MNIST dataset\n",
    "transform = torchvision.transforms.Compose([\n",
    "    torchvision.transforms.ToTensor(),\n",
    "    torchvision.transforms.Normalize((0.5,), (0.5,))\n",
    "])\n",
    "train_dataset = torchvision.datasets.MNIST(root='./data', train=True, download=True, transform=transform)"
   ]
  },
  {
   "cell_type": "code",
<<<<<<< HEAD:bin_2_1compare_uncertanty_w_margin_MNIST.ipynb
   "execution_count": 4,
=======
   "execution_count": 26,
>>>>>>> bdc5fca78a045bb591ec2ee0328572ae354fa6ed:bin_2_compare_uncertanty_w_margin.ipynb
   "metadata": {},
   "outputs": [],
   "source": [
    "val_dataset = deepcopy(train_dataset)"
   ]
  },
  {
   "cell_type": "code",
<<<<<<< HEAD:bin_2_1compare_uncertanty_w_margin_MNIST.ipynb
   "execution_count": 5,
=======
   "execution_count": 27,
>>>>>>> bdc5fca78a045bb591ec2ee0328572ae354fa6ed:bin_2_compare_uncertanty_w_margin.ipynb
   "metadata": {},
   "outputs": [],
   "source": [
    "train_size = int((1 - val_split) * len(train_dataset))\n",
    "val_size = len(train_dataset) - train_size\n",
    "indexes = torch.randperm(len(train_dataset)).tolist()\n",
    "# Define validation set\n",
    "indexes_val = indexes[train_size:]\n",
    "val_dataset.targets = val_dataset.targets[indexes_val]\n",
    "val_dataset.data = val_dataset.data[indexes_val]\n",
    "val_loader = torch.utils.data.DataLoader(val_dataset, batch_size=1024, shuffle=False)"
   ]
  },
  {
   "cell_type": "code",
<<<<<<< HEAD:bin_2_1compare_uncertanty_w_margin_MNIST.ipynb
   "execution_count": 6,
=======
   "execution_count": 28,
>>>>>>> bdc5fca78a045bb591ec2ee0328572ae354fa6ed:bin_2_compare_uncertanty_w_margin.ipynb
   "metadata": {},
   "outputs": [],
   "source": [
    "# Define training set\n",
    "indexes_train = indexes[:train_size]\n",
    "train_dataset.targets = train_dataset.targets[indexes_train]\n",
    "train_dataset.data = train_dataset.data[indexes_train]"
   ]
  },
  {
   "cell_type": "code",
<<<<<<< HEAD:bin_2_1compare_uncertanty_w_margin_MNIST.ipynb
   "execution_count": 7,
=======
   "execution_count": 29,
>>>>>>> bdc5fca78a045bb591ec2ee0328572ae354fa6ed:bin_2_compare_uncertanty_w_margin.ipynb
   "metadata": {},
   "outputs": [],
   "source": [
    "# Split training data into labelled and unlabelled\n",
    "unlabelled_size = int(unlabelled_size * len(train_dataset))\n",
    "indexes_train = torch.randperm(len(train_dataset)).tolist()  # Redefine indexes_train\n",
    "unlabbelled_dataset = deepcopy(train_dataset)\n",
    "unlabbelled_dataset.targets = unlabbelled_dataset.targets[indexes_train[:unlabelled_size]]\n",
    "unlabbelled_dataset.data = unlabbelled_dataset.data[indexes_train[:unlabelled_size]]\n",
    "train_dataset.targets = train_dataset.targets[indexes_train[unlabelled_size:]]\n",
    "train_dataset.data = train_dataset.data[indexes_train[unlabelled_size:]]\n",
    "unlabbelled_dataset.targets = unlabbelled_dataset.targets\n",
    "unlabbelled_dataset.data = unlabbelled_dataset.data\n",
    "start_train_dataset = deepcopy(train_dataset)  # Save for baseline\n",
    "start_unlabbelled_dataset = deepcopy(unlabbelled_dataset)  # Save for baseline"
   ]
  },
  {
   "cell_type": "code",
<<<<<<< HEAD:bin_2_1compare_uncertanty_w_margin_MNIST.ipynb
   "execution_count": 8,
=======
   "execution_count": 30,
>>>>>>> bdc5fca78a045bb591ec2ee0328572ae354fa6ed:bin_2_compare_uncertanty_w_margin.ipynb
   "metadata": {},
   "outputs": [],
   "source": [
    "def transfer_unlabelled_to_labeled(unlabbelled_dataset, train_dataset, indexes):\n",
    "    # Convert indexes to boolean mask\n",
    "    indexes = torch.tensor([i in indexes for i in range(len(unlabbelled_dataset.targets))])\n",
    "    \n",
    "    train_dataset.targets = torch.cat([train_dataset.targets, unlabbelled_dataset.targets[indexes]])\n",
    "    train_dataset.data = torch.cat([train_dataset.data, unlabbelled_dataset.data[indexes]])\n",
    "    unlabbelled_dataset.targets = unlabbelled_dataset.targets[~indexes]\n",
    "    unlabbelled_dataset.data = unlabbelled_dataset.data[~indexes]\n",
    "\n",
    "    return train_dataset, unlabbelled_dataset"
   ]
  },
  {
   "cell_type": "code",
<<<<<<< HEAD:bin_2_1compare_uncertanty_w_margin_MNIST.ipynb
   "execution_count": 9,
=======
   "execution_count": 31,
>>>>>>> bdc5fca78a045bb591ec2ee0328572ae354fa6ed:bin_2_compare_uncertanty_w_margin.ipynb
   "metadata": {},
   "outputs": [],
   "source": [
    "def validate_model(model, val_loader, device):\n",
    "    model.eval()\n",
    "    correct, total = 0, 0\n",
    "    with torch.no_grad():\n",
    "        for images, labels in val_loader:\n",
    "            images, labels = images.to(device), labels.to(device)\n",
    "            outputs = model(images)\n",
    "            _, predicted = torch.max(outputs, 1)\n",
    "            total += labels.size(0)\n",
    "            correct += (predicted == labels).sum().item()\n",
    "    return 100 * correct / total"
   ]
  },
  {
   "cell_type": "code",
<<<<<<< HEAD:bin_2_1compare_uncertanty_w_margin_MNIST.ipynb
   "execution_count": 10,
=======
   "execution_count": 32,
>>>>>>> bdc5fca78a045bb591ec2ee0328572ae354fa6ed:bin_2_compare_uncertanty_w_margin.ipynb
   "metadata": {},
   "outputs": [
    {
     "name": "stderr",
     "output_type": "stream",
     "text": [
      "c:\\Users\\soere\\anaconda3\\envs\\DL\\Lib\\site-packages\\torchvision\\models\\_utils.py:208: UserWarning: The parameter 'pretrained' is deprecated since 0.13 and may be removed in the future, please use 'weights' instead.\n",
      "  warnings.warn(\n",
      "c:\\Users\\soere\\anaconda3\\envs\\DL\\Lib\\site-packages\\torchvision\\models\\_utils.py:223: UserWarning: Arguments other than a weight enum or `None` for 'weights' are deprecated since 0.13 and may be removed in the future. The current behavior is equivalent to passing `weights=None`.\n",
      "  warnings.warn(msg)\n"
     ]
    }
   ],
   "source": [
    "# Setup model\n",
    "device = torch.device('cuda' if torch.cuda.is_available() else 'cpu')\n",
    "model = torchvision.models.resnet18(pretrained=False)\n",
    "model.fc = torch.nn.Linear(model.fc.in_features, 10)\n",
    "# Modify input layer to accept 1 channel\n",
    "model.conv1 = torch.nn.Conv2d(1, 64, kernel_size=(7, 7), stride=(2, 2), padding=(3, 3), bias=False)\n",
    "\n",
    "model_parameters = deepcopy(model.state_dict())\n",
    "model = model.to(device)\n",
    "criterion = torch.nn.CrossEntropyLoss()\n",
    "optimizer = torch.optim.Adam(model.parameters(), lr=lr)"
   ]
  },
  {
   "cell_type": "code",
<<<<<<< HEAD:bin_2_1compare_uncertanty_w_margin_MNIST.ipynb
   "execution_count": 11,
=======
   "execution_count": 33,
>>>>>>> bdc5fca78a045bb591ec2ee0328572ae354fa6ed:bin_2_compare_uncertanty_w_margin.ipynb
   "metadata": {},
   "outputs": [],
   "source": [
    "def train_model(model, train_loader, val_loader, criterion, optimizer, device, num_epochs=10, val_interval=1):\n",
    "    accuracies = []\n",
    "    for epoch in tqdm(range(num_epochs)):\n",
    "        model.train()\n",
    "        for images, labels in train_loader:\n",
    "            images, labels = images.to(device), labels.to(device)\n",
    "            optimizer.zero_grad()\n",
    "            outputs = model(images)\n",
    "            loss = criterion(outputs, labels)\n",
    "            loss.backward()\n",
    "            optimizer.step()\n",
    "\n",
    "        if (epoch + 1) % val_interval == 0:\n",
    "            val_accuracy = validate_model(model, val_loader, device)\n",
    "            accuracies.append(val_accuracy)\n",
    "            print(f'Epoch {epoch + 1}, Accuracy: {val_accuracy:.2f}%')\n",
    "    return accuracies"
   ]
  },
  {
   "cell_type": "code",
<<<<<<< HEAD:bin_2_1compare_uncertanty_w_margin_MNIST.ipynb
   "execution_count": 12,
=======
   "execution_count": 34,
   "metadata": {},
   "outputs": [],
   "source": [
    "def label_iteration_BADL(model, train_dataset, unlabelled_dataset, device, top_frac=0.01):#, num_epochs=10, batch_size=32):\n",
    "    # Put model in evaluation mode\n",
    "    model.eval()\n",
    "    \n",
    "    # DataLoader for unlabeled dataset\n",
    "    unlabelled_loader = torch.utils.data.DataLoader(unlabelled_dataset, batch_size=batch_size, shuffle=False, drop_last=False)\n",
    "    \n",
    "    all_entropies = []\n",
    "    avg_predictions = None\n",
    "\n",
    "    with torch.no_grad():\n",
    "        # Perform multiple stochastic forward passes for MC Dropout\n",
    "        for _ in range(num_epochs):\n",
    "            predictions = []\n",
    "\n",
    "            for images, _ in tqdm(unlabelled_loader, desc=\"MC Dropout passes\"):\n",
    "                images = images.to(device)\n",
    "                outputs = model(images).softmax(dim=1)\n",
    "                predictions.append(outputs.cpu().numpy())\n",
    "\n",
    "            predictions = np.concatenate(predictions, axis=0)\n",
    "\n",
    "            if avg_predictions is None:\n",
    "                avg_predictions = predictions / num_epochs\n",
    "            else:\n",
    "                avg_predictions += predictions / num_epochs\n",
    "\n",
    "            # Compute entropy for this pass\n",
    "            pass_entropies = -np.sum(predictions * np.log(predictions + 1e-10), axis=1)\n",
    "            all_entropies.append(pass_entropies)\n",
    "\n",
    "    # Average entropy across passes\n",
    "    all_entropies = np.stack(all_entropies, axis=1)\n",
    "    avg_entropy = np.mean(all_entropies, axis=1)\n",
    "\n",
    "    # Entropy of the average predictions\n",
    "    avg_pred_entropy = -np.sum(avg_predictions * np.log(avg_predictions + 1e-10), axis=1)\n",
    "\n",
    "    # Compute BADL scores\n",
    "    badl_scores = avg_pred_entropy - avg_entropy\n",
    "\n",
    "    # Select top samples based on BADL scores\n",
    "    top_k = int(len(badl_scores) * top_frac)\n",
    "    top_indices = np.argsort(badl_scores)[-top_k:]\n",
    "\n",
    "    # Transfer top samples from unlabeled to training dataset\n",
    "    print(f\"Adding {len(top_indices)} images to training set\")\n",
    "    train_dataset, unlabelled_dataset = transfer_unlabelled_to_labeled(unlabelled_dataset, train_dataset, top_indices)\n",
    "\n",
    "    return train_dataset, unlabelled_dataset\n"
   ]
  },
  {
   "cell_type": "code",
   "execution_count": 43,
>>>>>>> bdc5fca78a045bb591ec2ee0328572ae354fa6ed:bin_2_compare_uncertanty_w_margin.ipynb
   "metadata": {},
   "outputs": [],
   "source": [
    "frac = 0.01\n",
    "\n",
    "def label_iteration_BADL(model, train_dataset, unlabelled_dataset, device, top_frac=frac):\n",
    "    # Put model in evaluation mode\n",
    "    model.eval()\n",
    "    \n",
    "    # DataLoader for unlabeled dataset\n",
    "    unlabelled_loader = torch.utils.data.DataLoader(unlabelled_dataset, batch_size=batch_size, shuffle=False, drop_last=False)\n",
    "    \n",
    "    all_entropies = []\n",
    "    avg_predictions = None\n",
    "    num_epochs=10\n",
    "\n",
    "    with torch.no_grad():\n",
    "        # Perform multiple stochastic forward passes for MC Dropout\n",
    "        for _ in range(num_epochs):\n",
    "            predictions = []\n",
    "\n",
    "            for images, _ in tqdm(unlabelled_loader, desc=\"MC Dropout passes\"):\n",
    "                images = images.to(device)\n",
    "                outputs = model(images).softmax(dim=1)\n",
    "                predictions.append(outputs.cpu().numpy())\n",
    "\n",
    "            predictions = np.concatenate(predictions, axis=0)\n",
    "\n",
    "            if avg_predictions is None:\n",
    "                avg_predictions = predictions / num_epochs\n",
    "            else:\n",
    "                avg_predictions += predictions / num_epochs\n",
    "\n",
    "            # Compute entropy for this pass\n",
    "            pass_entropies = -np.sum(predictions * np.log(predictions + 1e-10), axis=1)\n",
    "            all_entropies.append(pass_entropies)\n",
    "\n",
    "    # Average entropy across passes\n",
    "    all_entropies = np.stack(all_entropies, axis=1)\n",
    "    avg_entropy = np.mean(all_entropies, axis=1)\n",
    "\n",
    "    # Entropy of the average predictions\n",
    "    avg_pred_entropy = -np.sum(avg_predictions * np.log(avg_predictions + 1e-10), axis=1)\n",
    "\n",
    "    # Compute BADL scores\n",
    "    badl_scores = avg_pred_entropy - avg_entropy\n",
    "\n",
    "    # Select top samples based on BADL scores\n",
    "    top_k = int(len(badl_scores) * top_frac)\n",
    "    top_indices = np.argsort(badl_scores)[-top_k:]\n",
    "\n",
    "    # Transfer top samples from unlabeled to training dataset\n",
    "    print(f\"Adding {len(top_indices)} images to training set\")\n",
    "    train_dataset, unlabelled_dataset = transfer_unlabelled_to_labeled(unlabelled_dataset, train_dataset, top_indices)\n",
    "\n",
    "    return train_dataset, unlabelled_dataset\n",
    "\n",
    "\n",
    "def label_iteration_uncertanty_sampling(model, train_dataset, unlabelled_dataset, device, top_frac=frac):\n",
    "    # Use model to label all images in validation set\n",
    "    model.eval()\n",
    "    predictions = []\n",
    "    unlabelled_loader = torch.utils.data.DataLoader(unlabelled_dataset, batch_size=batch_size, shuffle=False, drop_last=False)\n",
    "\n",
    "    with torch.no_grad():\n",
    "        for images, _ in tqdm(unlabelled_loader):\n",
    "            images = images.to(device)\n",
    "            outputs = model(images).softmax(dim=1)\n",
    "            predictions.extend(outputs.detach().cpu().numpy())\n",
    "\n",
    "    predictions = torch.tensor(predictions)\n",
    "    # Find top % of images with lowest top-confidence\n",
    "    top_percent = int(top_frac * len(predictions))\n",
    "    _, top_indices = predictions.max(-1)[0].topk(top_percent, largest=False)\n",
    "    print(f\"Adding {len(top_indices)} images to training set\")\n",
    "    train_dataset, unlabelled_dataset = transfer_unlabelled_to_labeled(unlabelled_dataset, train_dataset, top_indices)\n",
    "    \n",
    "    return train_dataset, unlabelled_dataset\n",
    "\n",
    "def label_iteration_margin_based(model, train_dataset, unlabelled_dataset, device, top_frac=frac):\n",
    "    # Set the model to evaluation mode\n",
    "    model.eval()\n",
    "    predictions = []\n",
    "    unlabelled_loader = torch.utils.data.DataLoader(unlabelled_dataset, batch_size=batch_size, shuffle=False, drop_last=False)\n",
    "\n",
    "    with torch.no_grad():\n",
    "        for images, _ in tqdm(unlabelled_loader):\n",
    "            images = images.to(device)\n",
    "            # Get the class probabilities using softmax\n",
    "            outputs = model(images).softmax(dim=1)\n",
    "            predictions.extend(outputs.cpu().numpy())\n",
    "\n",
    "    # Convert predictions to a tensor for easier manipulation\n",
    "    predictions = torch.tensor(predictions)\n",
    "\n",
    "    # Compute the margin: difference between the top two probabilities for each data point\n",
    "    sorted_probs, _ = predictions.sort(dim=1, descending=True)\n",
    "    margins = sorted_probs[:, 0] - sorted_probs[:, 1]  # Top class probability minus second highest\n",
    "\n",
    "    # Select the indices of the samples with the smallest margins\n",
    "    top_percent = int(top_frac * len(margins))\n",
    "    _, top_indices = margins.topk(top_percent, largest=False)  # Smallest margins, hence least confident\n",
    "\n",
    "    print(f\"Adding {len(top_indices)} images to training set\")\n",
    "\n",
    "    # Transfer the selected samples from unlabelled to labelled dataset\n",
    "    train_dataset, unlabelled_dataset = transfer_unlabelled_to_labeled(unlabelled_dataset, train_dataset, top_indices)\n",
    "\n",
    "    return train_dataset, unlabelled_dataset"
   ]
  },
  {
   "cell_type": "code",
<<<<<<< HEAD:bin_2_1compare_uncertanty_w_margin_MNIST.ipynb
   "execution_count": null,
=======
   "execution_count": 37,
>>>>>>> bdc5fca78a045bb591ec2ee0328572ae354fa6ed:bin_2_compare_uncertanty_w_margin.ipynb
   "metadata": {},
   "outputs": [
    {
     "name": "stdout",
     "output_type": "stream",
     "text": [
      "0\n"
     ]
    },
    {
     "name": "stderr",
     "output_type": "stream",
     "text": [
<<<<<<< HEAD:bin_2_1compare_uncertanty_w_margin_MNIST.ipynb
      " 11%|█         | 11/100 [00:04<00:52,  1.69it/s]"
     ]
    },
    {
     "name": "stdout",
     "output_type": "stream",
     "text": [
      "Epoch 10, Accuracy: 90.43%\n"
=======
      "  0%|          | 0/100 [00:00<?, ?it/s]"
>>>>>>> bdc5fca78a045bb591ec2ee0328572ae354fa6ed:bin_2_compare_uncertanty_w_margin.ipynb
     ]
    },
    {
     "name": "stderr",
     "output_type": "stream",
     "text": [
<<<<<<< HEAD:bin_2_1compare_uncertanty_w_margin_MNIST.ipynb
      " 21%|██        | 21/100 [00:08<00:46,  1.69it/s]"
=======
      " 10%|█         | 10/100 [00:54<09:30,  6.34s/it]"
>>>>>>> bdc5fca78a045bb591ec2ee0328572ae354fa6ed:bin_2_compare_uncertanty_w_margin.ipynb
     ]
    },
    {
     "name": "stdout",
     "output_type": "stream",
     "text": [
<<<<<<< HEAD:bin_2_1compare_uncertanty_w_margin_MNIST.ipynb
      "Epoch 20, Accuracy: 91.15%\n"
=======
      "Epoch 10, Accuracy: 92.50%\n"
>>>>>>> bdc5fca78a045bb591ec2ee0328572ae354fa6ed:bin_2_compare_uncertanty_w_margin.ipynb
     ]
    },
    {
     "name": "stderr",
     "output_type": "stream",
     "text": [
<<<<<<< HEAD:bin_2_1compare_uncertanty_w_margin_MNIST.ipynb
      " 30%|███       | 30/100 [00:13<00:51,  1.37it/s]"
=======
      " 20%|██        | 20/100 [01:48<08:26,  6.33s/it]"
>>>>>>> bdc5fca78a045bb591ec2ee0328572ae354fa6ed:bin_2_compare_uncertanty_w_margin.ipynb
     ]
    },
    {
     "name": "stdout",
     "output_type": "stream",
     "text": [
<<<<<<< HEAD:bin_2_1compare_uncertanty_w_margin_MNIST.ipynb
      "Epoch 30, Accuracy: 91.23%\n"
=======
      "Epoch 20, Accuracy: 93.65%\n"
>>>>>>> bdc5fca78a045bb591ec2ee0328572ae354fa6ed:bin_2_compare_uncertanty_w_margin.ipynb
     ]
    },
    {
     "name": "stderr",
     "output_type": "stream",
     "text": [
<<<<<<< HEAD:bin_2_1compare_uncertanty_w_margin_MNIST.ipynb
      " 40%|████      | 40/100 [00:17<00:45,  1.31it/s]"
=======
      " 30%|███       | 30/100 [02:41<07:27,  6.39s/it]"
>>>>>>> bdc5fca78a045bb591ec2ee0328572ae354fa6ed:bin_2_compare_uncertanty_w_margin.ipynb
     ]
    },
    {
     "name": "stdout",
     "output_type": "stream",
     "text": [
<<<<<<< HEAD:bin_2_1compare_uncertanty_w_margin_MNIST.ipynb
      "Epoch 40, Accuracy: 91.27%\n"
=======
      "Epoch 30, Accuracy: 93.75%\n"
>>>>>>> bdc5fca78a045bb591ec2ee0328572ae354fa6ed:bin_2_compare_uncertanty_w_margin.ipynb
     ]
    },
    {
     "name": "stderr",
     "output_type": "stream",
     "text": [
<<<<<<< HEAD:bin_2_1compare_uncertanty_w_margin_MNIST.ipynb
      " 50%|█████     | 50/100 [00:22<00:33,  1.47it/s]"
=======
      " 40%|████      | 40/100 [03:34<06:16,  6.27s/it]"
>>>>>>> bdc5fca78a045bb591ec2ee0328572ae354fa6ed:bin_2_compare_uncertanty_w_margin.ipynb
     ]
    },
    {
     "name": "stdout",
     "output_type": "stream",
     "text": [
<<<<<<< HEAD:bin_2_1compare_uncertanty_w_margin_MNIST.ipynb
      "Epoch 50, Accuracy: 91.47%\n"
=======
      "Epoch 40, Accuracy: 93.97%\n"
>>>>>>> bdc5fca78a045bb591ec2ee0328572ae354fa6ed:bin_2_compare_uncertanty_w_margin.ipynb
     ]
    },
    {
     "name": "stderr",
     "output_type": "stream",
     "text": [
<<<<<<< HEAD:bin_2_1compare_uncertanty_w_margin_MNIST.ipynb
      " 60%|██████    | 60/100 [00:26<00:27,  1.45it/s]"
=======
      " 50%|█████     | 50/100 [04:27<05:12,  6.25s/it]"
>>>>>>> bdc5fca78a045bb591ec2ee0328572ae354fa6ed:bin_2_compare_uncertanty_w_margin.ipynb
     ]
    },
    {
     "name": "stdout",
     "output_type": "stream",
     "text": [
      "Epoch 50, Accuracy: 93.90%\n"
     ]
    },
    {
     "name": "stderr",
     "output_type": "stream",
     "text": [
<<<<<<< HEAD:bin_2_1compare_uncertanty_w_margin_MNIST.ipynb
      " 70%|███████   | 70/100 [00:30<00:19,  1.51it/s]"
=======
      " 60%|██████    | 60/100 [05:21<04:12,  6.31s/it]"
>>>>>>> bdc5fca78a045bb591ec2ee0328572ae354fa6ed:bin_2_compare_uncertanty_w_margin.ipynb
     ]
    },
    {
     "name": "stdout",
     "output_type": "stream",
     "text": [
<<<<<<< HEAD:bin_2_1compare_uncertanty_w_margin_MNIST.ipynb
      "Epoch 70, Accuracy: 91.40%\n"
=======
      "Epoch 60, Accuracy: 93.95%\n"
>>>>>>> bdc5fca78a045bb591ec2ee0328572ae354fa6ed:bin_2_compare_uncertanty_w_margin.ipynb
     ]
    },
    {
     "name": "stderr",
     "output_type": "stream",
     "text": [
<<<<<<< HEAD:bin_2_1compare_uncertanty_w_margin_MNIST.ipynb
      " 80%|████████  | 80/100 [00:34<00:13,  1.46it/s]"
=======
      " 70%|███████   | 70/100 [06:14<03:07,  6.24s/it]"
>>>>>>> bdc5fca78a045bb591ec2ee0328572ae354fa6ed:bin_2_compare_uncertanty_w_margin.ipynb
     ]
    },
    {
     "name": "stdout",
     "output_type": "stream",
     "text": [
<<<<<<< HEAD:bin_2_1compare_uncertanty_w_margin_MNIST.ipynb
      "Epoch 80, Accuracy: 91.60%\n"
=======
      "Epoch 70, Accuracy: 93.93%\n"
>>>>>>> bdc5fca78a045bb591ec2ee0328572ae354fa6ed:bin_2_compare_uncertanty_w_margin.ipynb
     ]
    },
    {
     "name": "stderr",
     "output_type": "stream",
     "text": [
<<<<<<< HEAD:bin_2_1compare_uncertanty_w_margin_MNIST.ipynb
      " 90%|█████████ | 90/100 [00:38<00:07,  1.37it/s]"
=======
      " 80%|████████  | 80/100 [07:07<02:04,  6.24s/it]"
>>>>>>> bdc5fca78a045bb591ec2ee0328572ae354fa6ed:bin_2_compare_uncertanty_w_margin.ipynb
     ]
    },
    {
     "name": "stdout",
     "output_type": "stream",
     "text": [
<<<<<<< HEAD:bin_2_1compare_uncertanty_w_margin_MNIST.ipynb
      "Epoch 90, Accuracy: 91.82%\n"
=======
      "Epoch 80, Accuracy: 93.90%\n"
>>>>>>> bdc5fca78a045bb591ec2ee0328572ae354fa6ed:bin_2_compare_uncertanty_w_margin.ipynb
     ]
    },
    {
     "name": "stderr",
     "output_type": "stream",
     "text": [
<<<<<<< HEAD:bin_2_1compare_uncertanty_w_margin_MNIST.ipynb
      " 93%|█████████▎| 93/100 [00:39<00:02,  2.54it/s]"
     ]
    }
   ],
   "source": [
    "## Run active learning Uncertanty\n",
    "datapoint_list_US = []\n",
    "accuracy_list_US = []\n",
    "\n",
    "train_dataset.targets = start_train_dataset.targets\n",
    "train_dataset.data = start_train_dataset.data\n",
    "unlabbelled_dataset.targets = start_unlabbelled_dataset.targets\n",
    "unlabbelled_dataset.data = start_unlabbelled_dataset.data\n",
    "for i in range(label_iterations):\n",
    "    print(i)\n",
    "    train_loader = torch.utils.data.DataLoader(train_dataset, batch_size=batch_size, shuffle=True, drop_last=True)\n",
    "    model.load_state_dict(model_parameters)  # Important to reset the model each time\n",
    "    accuracies = train_model(model, train_loader, val_loader, criterion, optimizer, device, num_epochs=num_epochs, val_interval=10)\n",
    "    datapoint_list_US.append(len(train_dataset))\n",
    "    accuracy_list_US.append(accuracies)\n",
    "    if i < label_iterations - 1:\n",
    "        train_dataset, unlabbelled_dataset = label_iteration_uncertanty_sampling(model, train_dataset, unlabbelled_dataset, device, top_frac=0.001)"
   ]
  },
  {
   "cell_type": "code",
   "execution_count": null,
   "metadata": {},
   "outputs": [
    {
     "name": "stdout",
     "output_type": "stream",
     "text": [
      "0\n"
     ]
    },
    {
     "name": "stderr",
     "output_type": "stream",
     "text": [
      " 11%|█         | 11/100 [00:03<00:38,  2.33it/s]"
=======
      " 90%|█████████ | 90/100 [08:00<01:02,  6.20s/it]"
>>>>>>> bdc5fca78a045bb591ec2ee0328572ae354fa6ed:bin_2_compare_uncertanty_w_margin.ipynb
     ]
    },
    {
     "name": "stdout",
     "output_type": "stream",
     "text": [
<<<<<<< HEAD:bin_2_1compare_uncertanty_w_margin_MNIST.ipynb
      "Epoch 10, Accuracy: 91.88%\n"
=======
      "Epoch 90, Accuracy: 93.58%\n"
>>>>>>> bdc5fca78a045bb591ec2ee0328572ae354fa6ed:bin_2_compare_uncertanty_w_margin.ipynb
     ]
    },
    {
     "name": "stderr",
     "output_type": "stream",
     "text": [
<<<<<<< HEAD:bin_2_1compare_uncertanty_w_margin_MNIST.ipynb
      " 21%|██        | 21/100 [00:06<00:34,  2.31it/s]"
=======
      "100%|██████████| 100/100 [08:53<00:00,  5.34s/it]\n"
>>>>>>> bdc5fca78a045bb591ec2ee0328572ae354fa6ed:bin_2_compare_uncertanty_w_margin.ipynb
     ]
    },
    {
     "name": "stdout",
     "output_type": "stream",
     "text": [
<<<<<<< HEAD:bin_2_1compare_uncertanty_w_margin_MNIST.ipynb
      "Epoch 20, Accuracy: 93.43%\n"
=======
      "Epoch 100, Accuracy: 93.87%\n"
>>>>>>> bdc5fca78a045bb591ec2ee0328572ae354fa6ed:bin_2_compare_uncertanty_w_margin.ipynb
     ]
    },
    {
     "name": "stderr",
     "output_type": "stream",
     "text": [
<<<<<<< HEAD:bin_2_1compare_uncertanty_w_margin_MNIST.ipynb
      " 31%|███       | 31/100 [00:09<00:29,  2.32it/s]"
     ]
    },
    {
     "name": "stdout",
     "output_type": "stream",
     "text": [
      "Epoch 30, Accuracy: 93.68%\n"
     ]
    },
    {
     "name": "stderr",
     "output_type": "stream",
     "text": [
      " 41%|████      | 41/100 [00:12<00:26,  2.23it/s]"
     ]
    },
    {
     "name": "stdout",
     "output_type": "stream",
     "text": [
      "Epoch 40, Accuracy: 93.92%\n"
     ]
    },
    {
     "name": "stderr",
     "output_type": "stream",
     "text": [
      " 51%|█████     | 51/100 [00:15<00:21,  2.32it/s]"
     ]
    },
    {
     "name": "stdout",
     "output_type": "stream",
     "text": [
      "Epoch 50, Accuracy: 93.57%\n"
     ]
    },
    {
     "name": "stderr",
     "output_type": "stream",
     "text": [
      " 61%|██████    | 61/100 [00:18<00:16,  2.32it/s]"
     ]
    },
    {
     "name": "stdout",
     "output_type": "stream",
     "text": [
      "Epoch 60, Accuracy: 93.57%\n"
     ]
    },
    {
     "name": "stderr",
     "output_type": "stream",
     "text": [
      " 71%|███████   | 71/100 [00:21<00:12,  2.32it/s]"
     ]
    },
    {
     "name": "stdout",
     "output_type": "stream",
     "text": [
      "Epoch 70, Accuracy: 92.73%\n"
     ]
    },
    {
     "name": "stderr",
     "output_type": "stream",
     "text": [
      " 81%|████████  | 81/100 [00:24<00:08,  2.32it/s]"
     ]
    },
    {
     "name": "stdout",
     "output_type": "stream",
     "text": [
      "Epoch 80, Accuracy: 93.32%\n"
     ]
    },
    {
     "name": "stderr",
     "output_type": "stream",
     "text": [
      " 91%|█████████ | 91/100 [00:27<00:03,  2.32it/s]"
     ]
    },
    {
     "name": "stdout",
     "output_type": "stream",
     "text": [
      "Epoch 90, Accuracy: 93.57%\n"
     ]
    },
    {
     "name": "stderr",
     "output_type": "stream",
     "text": [
      "100%|██████████| 100/100 [00:29<00:00,  3.34it/s]\n"
     ]
    },
    {
     "name": "stdout",
     "output_type": "stream",
     "text": [
      "Epoch 100, Accuracy: 93.47%\n"
     ]
    },
    {
     "name": "stderr",
     "output_type": "stream",
     "text": [
      "100%|██████████| 836/836 [00:14<00:00, 59.67it/s]\n"
=======
      "100%|██████████| 836/836 [00:51<00:00, 16.26it/s]\n"
>>>>>>> bdc5fca78a045bb591ec2ee0328572ae354fa6ed:bin_2_compare_uncertanty_w_margin.ipynb
     ]
    },
    {
     "name": "stdout",
     "output_type": "stream",
     "text": [
      "Adding 53 images to training set\n",
      "1\n"
     ]
    },
    {
     "name": "stderr",
     "output_type": "stream",
     "text": [
<<<<<<< HEAD:bin_2_1compare_uncertanty_w_margin_MNIST.ipynb
      " 11%|█         | 11/100 [00:03<00:40,  2.21it/s]"
=======
      " 10%|█         | 10/100 [01:01<10:46,  7.18s/it]"
>>>>>>> bdc5fca78a045bb591ec2ee0328572ae354fa6ed:bin_2_compare_uncertanty_w_margin.ipynb
     ]
    },
    {
     "name": "stdout",
     "output_type": "stream",
     "text": [
<<<<<<< HEAD:bin_2_1compare_uncertanty_w_margin_MNIST.ipynb
      "Epoch 10, Accuracy: 93.03%\n"
=======
      "Epoch 10, Accuracy: 93.12%\n"
>>>>>>> bdc5fca78a045bb591ec2ee0328572ae354fa6ed:bin_2_compare_uncertanty_w_margin.ipynb
     ]
    },
    {
     "name": "stderr",
     "output_type": "stream",
     "text": [
<<<<<<< HEAD:bin_2_1compare_uncertanty_w_margin_MNIST.ipynb
      " 21%|██        | 21/100 [00:06<00:35,  2.21it/s]"
=======
      " 20%|██        | 20/100 [02:02<09:34,  7.19s/it]"
>>>>>>> bdc5fca78a045bb591ec2ee0328572ae354fa6ed:bin_2_compare_uncertanty_w_margin.ipynb
     ]
    },
    {
     "name": "stdout",
     "output_type": "stream",
     "text": [
<<<<<<< HEAD:bin_2_1compare_uncertanty_w_margin_MNIST.ipynb
      "Epoch 20, Accuracy: 94.55%\n"
=======
      "Epoch 20, Accuracy: 94.82%\n"
>>>>>>> bdc5fca78a045bb591ec2ee0328572ae354fa6ed:bin_2_compare_uncertanty_w_margin.ipynb
     ]
    },
    {
     "name": "stderr",
     "output_type": "stream",
     "text": [
<<<<<<< HEAD:bin_2_1compare_uncertanty_w_margin_MNIST.ipynb
      " 31%|███       | 31/100 [00:09<00:31,  2.20it/s]"
=======
      " 30%|███       | 30/100 [03:03<08:19,  7.13s/it]"
>>>>>>> bdc5fca78a045bb591ec2ee0328572ae354fa6ed:bin_2_compare_uncertanty_w_margin.ipynb
     ]
    },
    {
     "name": "stdout",
     "output_type": "stream",
     "text": [
<<<<<<< HEAD:bin_2_1compare_uncertanty_w_margin_MNIST.ipynb
      "Epoch 30, Accuracy: 88.78%\n"
=======
      "Epoch 30, Accuracy: 94.95%\n"
>>>>>>> bdc5fca78a045bb591ec2ee0328572ae354fa6ed:bin_2_compare_uncertanty_w_margin.ipynb
     ]
    },
    {
     "name": "stderr",
     "output_type": "stream",
     "text": [
<<<<<<< HEAD:bin_2_1compare_uncertanty_w_margin_MNIST.ipynb
      " 41%|████      | 41/100 [00:13<00:26,  2.19it/s]"
=======
      " 40%|████      | 40/100 [04:03<07:06,  7.12s/it]"
>>>>>>> bdc5fca78a045bb591ec2ee0328572ae354fa6ed:bin_2_compare_uncertanty_w_margin.ipynb
     ]
    },
    {
     "name": "stdout",
     "output_type": "stream",
     "text": [
<<<<<<< HEAD:bin_2_1compare_uncertanty_w_margin_MNIST.ipynb
      "Epoch 40, Accuracy: 93.87%\n"
=======
      "Epoch 40, Accuracy: 95.12%\n"
>>>>>>> bdc5fca78a045bb591ec2ee0328572ae354fa6ed:bin_2_compare_uncertanty_w_margin.ipynb
     ]
    },
    {
     "name": "stderr",
     "output_type": "stream",
     "text": [
<<<<<<< HEAD:bin_2_1compare_uncertanty_w_margin_MNIST.ipynb
      " 51%|█████     | 51/100 [00:16<00:22,  2.21it/s]"
=======
      " 50%|█████     | 50/100 [05:04<05:48,  6.97s/it]"
>>>>>>> bdc5fca78a045bb591ec2ee0328572ae354fa6ed:bin_2_compare_uncertanty_w_margin.ipynb
     ]
    },
    {
     "name": "stdout",
     "output_type": "stream",
     "text": [
<<<<<<< HEAD:bin_2_1compare_uncertanty_w_margin_MNIST.ipynb
      "Epoch 50, Accuracy: 94.17%\n"
=======
      "Epoch 50, Accuracy: 95.15%\n"
>>>>>>> bdc5fca78a045bb591ec2ee0328572ae354fa6ed:bin_2_compare_uncertanty_w_margin.ipynb
     ]
    },
    {
     "name": "stderr",
     "output_type": "stream",
     "text": [
<<<<<<< HEAD:bin_2_1compare_uncertanty_w_margin_MNIST.ipynb
      " 60%|██████    | 60/100 [00:19<00:22,  1.77it/s]"
=======
      " 60%|██████    | 60/100 [06:05<04:43,  7.10s/it]"
>>>>>>> bdc5fca78a045bb591ec2ee0328572ae354fa6ed:bin_2_compare_uncertanty_w_margin.ipynb
     ]
    },
    {
     "name": "stdout",
     "output_type": "stream",
     "text": [
<<<<<<< HEAD:bin_2_1compare_uncertanty_w_margin_MNIST.ipynb
      "Epoch 60, Accuracy: 94.92%\n"
=======
      "Epoch 60, Accuracy: 95.35%\n"
>>>>>>> bdc5fca78a045bb591ec2ee0328572ae354fa6ed:bin_2_compare_uncertanty_w_margin.ipynb
     ]
    },
    {
     "name": "stderr",
     "output_type": "stream",
     "text": [
<<<<<<< HEAD:bin_2_1compare_uncertanty_w_margin_MNIST.ipynb
      " 71%|███████   | 71/100 [00:22<00:13,  2.21it/s]"
=======
      " 70%|███████   | 70/100 [07:05<03:32,  7.10s/it]"
>>>>>>> bdc5fca78a045bb591ec2ee0328572ae354fa6ed:bin_2_compare_uncertanty_w_margin.ipynb
     ]
    },
    {
     "name": "stdout",
     "output_type": "stream",
     "text": [
<<<<<<< HEAD:bin_2_1compare_uncertanty_w_margin_MNIST.ipynb
      "Epoch 70, Accuracy: 95.10%\n"
=======
      "Epoch 70, Accuracy: 95.37%\n"
>>>>>>> bdc5fca78a045bb591ec2ee0328572ae354fa6ed:bin_2_compare_uncertanty_w_margin.ipynb
     ]
    },
    {
     "name": "stderr",
     "output_type": "stream",
     "text": [
<<<<<<< HEAD:bin_2_1compare_uncertanty_w_margin_MNIST.ipynb
      " 80%|████████  | 80/100 [00:25<00:11,  1.77it/s]"
=======
      " 80%|████████  | 80/100 [08:07<02:20,  7.03s/it]"
>>>>>>> bdc5fca78a045bb591ec2ee0328572ae354fa6ed:bin_2_compare_uncertanty_w_margin.ipynb
     ]
    },
    {
     "name": "stdout",
     "output_type": "stream",
     "text": [
<<<<<<< HEAD:bin_2_1compare_uncertanty_w_margin_MNIST.ipynb
      "Epoch 80, Accuracy: 95.22%\n"
=======
      "Epoch 80, Accuracy: 95.35%\n"
>>>>>>> bdc5fca78a045bb591ec2ee0328572ae354fa6ed:bin_2_compare_uncertanty_w_margin.ipynb
     ]
    },
    {
     "name": "stderr",
     "output_type": "stream",
     "text": [
<<<<<<< HEAD:bin_2_1compare_uncertanty_w_margin_MNIST.ipynb
      " 91%|█████████ | 91/100 [00:29<00:04,  2.20it/s]"
=======
      " 90%|█████████ | 90/100 [09:07<01:10,  7.01s/it]"
>>>>>>> bdc5fca78a045bb591ec2ee0328572ae354fa6ed:bin_2_compare_uncertanty_w_margin.ipynb
     ]
    },
    {
     "name": "stdout",
     "output_type": "stream",
     "text": [
<<<<<<< HEAD:bin_2_1compare_uncertanty_w_margin_MNIST.ipynb
      "Epoch 90, Accuracy: 95.35%\n"
=======
      "Epoch 90, Accuracy: 95.37%\n"
>>>>>>> bdc5fca78a045bb591ec2ee0328572ae354fa6ed:bin_2_compare_uncertanty_w_margin.ipynb
     ]
    },
    {
     "name": "stderr",
     "output_type": "stream",
     "text": [
<<<<<<< HEAD:bin_2_1compare_uncertanty_w_margin_MNIST.ipynb
      "100%|██████████| 100/100 [00:32<00:00,  3.10it/s]\n"
=======
      "100%|██████████| 100/100 [10:08<00:00,  6.08s/it]\n"
>>>>>>> bdc5fca78a045bb591ec2ee0328572ae354fa6ed:bin_2_compare_uncertanty_w_margin.ipynb
     ]
    },
    {
     "name": "stdout",
     "output_type": "stream",
     "text": [
<<<<<<< HEAD:bin_2_1compare_uncertanty_w_margin_MNIST.ipynb
      "Epoch 100, Accuracy: 95.17%\n"
=======
      "Epoch 100, Accuracy: 95.42%\n"
>>>>>>> bdc5fca78a045bb591ec2ee0328572ae354fa6ed:bin_2_compare_uncertanty_w_margin.ipynb
     ]
    },
    {
     "name": "stderr",
     "output_type": "stream",
     "text": [
<<<<<<< HEAD:bin_2_1compare_uncertanty_w_margin_MNIST.ipynb
      "100%|██████████| 835/835 [00:13<00:00, 60.18it/s]\n"
=======
      "100%|██████████| 835/835 [00:51<00:00, 16.14it/s]\n"
>>>>>>> bdc5fca78a045bb591ec2ee0328572ae354fa6ed:bin_2_compare_uncertanty_w_margin.ipynb
     ]
    },
    {
     "name": "stdout",
     "output_type": "stream",
     "text": [
      "Adding 53 images to training set\n",
      "2\n"
     ]
    },
    {
     "name": "stderr",
     "output_type": "stream",
     "text": [
<<<<<<< HEAD:bin_2_1compare_uncertanty_w_margin_MNIST.ipynb
      " 10%|█         | 10/100 [00:03<00:52,  1.71it/s]"
=======
      " 10%|█         | 10/100 [01:06<11:36,  7.74s/it]"
>>>>>>> bdc5fca78a045bb591ec2ee0328572ae354fa6ed:bin_2_compare_uncertanty_w_margin.ipynb
     ]
    },
    {
     "name": "stdout",
     "output_type": "stream",
     "text": [
<<<<<<< HEAD:bin_2_1compare_uncertanty_w_margin_MNIST.ipynb
      "Epoch 10, Accuracy: 93.02%\n"
=======
      "Epoch 10, Accuracy: 95.35%\n"
>>>>>>> bdc5fca78a045bb591ec2ee0328572ae354fa6ed:bin_2_compare_uncertanty_w_margin.ipynb
     ]
    },
    {
     "name": "stderr",
     "output_type": "stream",
     "text": [
<<<<<<< HEAD:bin_2_1compare_uncertanty_w_margin_MNIST.ipynb
      " 20%|██        | 20/100 [00:06<00:46,  1.72it/s]"
=======
      " 20%|██        | 20/100 [02:13<10:06,  7.58s/it]"
>>>>>>> bdc5fca78a045bb591ec2ee0328572ae354fa6ed:bin_2_compare_uncertanty_w_margin.ipynb
     ]
    },
    {
     "name": "stdout",
     "output_type": "stream",
     "text": [
<<<<<<< HEAD:bin_2_1compare_uncertanty_w_margin_MNIST.ipynb
      "Epoch 20, Accuracy: 94.98%\n"
=======
      "Epoch 20, Accuracy: 95.93%\n"
>>>>>>> bdc5fca78a045bb591ec2ee0328572ae354fa6ed:bin_2_compare_uncertanty_w_margin.ipynb
     ]
    },
    {
     "name": "stderr",
     "output_type": "stream",
     "text": [
<<<<<<< HEAD:bin_2_1compare_uncertanty_w_margin_MNIST.ipynb
      " 30%|███       | 30/100 [00:10<00:41,  1.71it/s]"
=======
      " 30%|███       | 30/100 [03:20<08:59,  7.70s/it]"
>>>>>>> bdc5fca78a045bb591ec2ee0328572ae354fa6ed:bin_2_compare_uncertanty_w_margin.ipynb
     ]
    },
    {
     "name": "stdout",
     "output_type": "stream",
     "text": [
<<<<<<< HEAD:bin_2_1compare_uncertanty_w_margin_MNIST.ipynb
      "Epoch 30, Accuracy: 95.45%\n"
=======
      "Epoch 30, Accuracy: 95.87%\n"
>>>>>>> bdc5fca78a045bb591ec2ee0328572ae354fa6ed:bin_2_compare_uncertanty_w_margin.ipynb
     ]
    },
    {
     "name": "stderr",
     "output_type": "stream",
     "text": [
<<<<<<< HEAD:bin_2_1compare_uncertanty_w_margin_MNIST.ipynb
      " 40%|████      | 40/100 [00:13<00:35,  1.71it/s]"
=======
      " 40%|████      | 40/100 [04:27<07:36,  7.61s/it]"
>>>>>>> bdc5fca78a045bb591ec2ee0328572ae354fa6ed:bin_2_compare_uncertanty_w_margin.ipynb
     ]
    },
    {
     "name": "stdout",
     "output_type": "stream",
     "text": [
<<<<<<< HEAD:bin_2_1compare_uncertanty_w_margin_MNIST.ipynb
      "Epoch 40, Accuracy: 95.63%\n"
=======
      "Epoch 40, Accuracy: 95.93%\n"
>>>>>>> bdc5fca78a045bb591ec2ee0328572ae354fa6ed:bin_2_compare_uncertanty_w_margin.ipynb
     ]
    },
    {
     "name": "stderr",
     "output_type": "stream",
     "text": [
<<<<<<< HEAD:bin_2_1compare_uncertanty_w_margin_MNIST.ipynb
      " 50%|█████     | 50/100 [00:17<00:29,  1.71it/s]"
=======
      " 50%|█████     | 50/100 [05:34<06:19,  7.58s/it]"
>>>>>>> bdc5fca78a045bb591ec2ee0328572ae354fa6ed:bin_2_compare_uncertanty_w_margin.ipynb
     ]
    },
    {
     "name": "stdout",
     "output_type": "stream",
     "text": [
<<<<<<< HEAD:bin_2_1compare_uncertanty_w_margin_MNIST.ipynb
      "Epoch 50, Accuracy: 95.65%\n"
=======
      "Epoch 50, Accuracy: 96.07%\n"
>>>>>>> bdc5fca78a045bb591ec2ee0328572ae354fa6ed:bin_2_compare_uncertanty_w_margin.ipynb
     ]
    },
    {
     "name": "stderr",
     "output_type": "stream",
     "text": [
<<<<<<< HEAD:bin_2_1compare_uncertanty_w_margin_MNIST.ipynb
      " 60%|██████    | 60/100 [00:20<00:23,  1.71it/s]"
=======
      " 60%|██████    | 60/100 [06:41<05:09,  7.73s/it]"
>>>>>>> bdc5fca78a045bb591ec2ee0328572ae354fa6ed:bin_2_compare_uncertanty_w_margin.ipynb
     ]
    },
    {
     "name": "stdout",
     "output_type": "stream",
     "text": [
<<<<<<< HEAD:bin_2_1compare_uncertanty_w_margin_MNIST.ipynb
      "Epoch 60, Accuracy: 95.57%\n"
=======
      "Epoch 60, Accuracy: 95.95%\n"
>>>>>>> bdc5fca78a045bb591ec2ee0328572ae354fa6ed:bin_2_compare_uncertanty_w_margin.ipynb
     ]
    },
    {
     "name": "stderr",
     "output_type": "stream",
     "text": [
<<<<<<< HEAD:bin_2_1compare_uncertanty_w_margin_MNIST.ipynb
      " 70%|███████   | 70/100 [00:24<00:17,  1.71it/s]"
=======
      " 70%|███████   | 70/100 [07:47<03:47,  7.58s/it]"
>>>>>>> bdc5fca78a045bb591ec2ee0328572ae354fa6ed:bin_2_compare_uncertanty_w_margin.ipynb
     ]
    },
    {
     "name": "stdout",
     "output_type": "stream",
     "text": [
<<<<<<< HEAD:bin_2_1compare_uncertanty_w_margin_MNIST.ipynb
      "Epoch 70, Accuracy: 95.62%\n"
=======
      "Epoch 70, Accuracy: 96.13%\n"
>>>>>>> bdc5fca78a045bb591ec2ee0328572ae354fa6ed:bin_2_compare_uncertanty_w_margin.ipynb
     ]
    },
    {
     "name": "stderr",
     "output_type": "stream",
     "text": [
<<<<<<< HEAD:bin_2_1compare_uncertanty_w_margin_MNIST.ipynb
      " 80%|████████  | 80/100 [00:27<00:11,  1.71it/s]"
=======
      " 80%|████████  | 80/100 [08:53<02:33,  7.68s/it]"
>>>>>>> bdc5fca78a045bb591ec2ee0328572ae354fa6ed:bin_2_compare_uncertanty_w_margin.ipynb
     ]
    },
    {
     "name": "stdout",
     "output_type": "stream",
     "text": [
<<<<<<< HEAD:bin_2_1compare_uncertanty_w_margin_MNIST.ipynb
      "Epoch 80, Accuracy: 95.53%\n"
=======
      "Epoch 80, Accuracy: 96.17%\n"
>>>>>>> bdc5fca78a045bb591ec2ee0328572ae354fa6ed:bin_2_compare_uncertanty_w_margin.ipynb
     ]
    },
    {
     "name": "stderr",
     "output_type": "stream",
     "text": [
<<<<<<< HEAD:bin_2_1compare_uncertanty_w_margin_MNIST.ipynb
      " 90%|█████████ | 90/100 [00:30<00:05,  1.70it/s]"
=======
      " 90%|█████████ | 90/100 [10:00<01:17,  7.74s/it]"
>>>>>>> bdc5fca78a045bb591ec2ee0328572ae354fa6ed:bin_2_compare_uncertanty_w_margin.ipynb
     ]
    },
    {
     "name": "stdout",
     "output_type": "stream",
     "text": [
<<<<<<< HEAD:bin_2_1compare_uncertanty_w_margin_MNIST.ipynb
      "Epoch 90, Accuracy: 95.55%\n"
=======
      "Epoch 90, Accuracy: 96.17%\n"
>>>>>>> bdc5fca78a045bb591ec2ee0328572ae354fa6ed:bin_2_compare_uncertanty_w_margin.ipynb
     ]
    },
    {
     "name": "stderr",
     "output_type": "stream",
     "text": [
<<<<<<< HEAD:bin_2_1compare_uncertanty_w_margin_MNIST.ipynb
      "100%|██████████| 100/100 [00:34<00:00,  2.90it/s]\n"
=======
      "100%|██████████| 100/100 [11:07<00:00,  6.68s/it]\n"
>>>>>>> bdc5fca78a045bb591ec2ee0328572ae354fa6ed:bin_2_compare_uncertanty_w_margin.ipynb
     ]
    },
    {
     "name": "stdout",
     "output_type": "stream",
     "text": [
<<<<<<< HEAD:bin_2_1compare_uncertanty_w_margin_MNIST.ipynb
      "Epoch 100, Accuracy: 95.62%\n"
=======
      "Epoch 100, Accuracy: 96.10%\n"
>>>>>>> bdc5fca78a045bb591ec2ee0328572ae354fa6ed:bin_2_compare_uncertanty_w_margin.ipynb
     ]
    },
    {
     "name": "stderr",
     "output_type": "stream",
     "text": [
<<<<<<< HEAD:bin_2_1compare_uncertanty_w_margin_MNIST.ipynb
      "100%|██████████| 834/834 [00:13<00:00, 60.10it/s]\n"
=======
      "100%|██████████| 834/834 [00:50<00:00, 16.38it/s]\n"
>>>>>>> bdc5fca78a045bb591ec2ee0328572ae354fa6ed:bin_2_compare_uncertanty_w_margin.ipynb
     ]
    },
    {
     "name": "stdout",
     "output_type": "stream",
     "text": [
      "Adding 53 images to training set\n",
      "3\n"
     ]
    },
    {
     "name": "stderr",
     "output_type": "stream",
     "text": [
<<<<<<< HEAD:bin_2_1compare_uncertanty_w_margin_MNIST.ipynb
      " 10%|█         | 10/100 [00:03<00:52,  1.71it/s]"
=======
      " 10%|█         | 10/100 [01:07<11:36,  7.74s/it]"
>>>>>>> bdc5fca78a045bb591ec2ee0328572ae354fa6ed:bin_2_compare_uncertanty_w_margin.ipynb
     ]
    },
    {
     "name": "stdout",
     "output_type": "stream",
     "text": [
<<<<<<< HEAD:bin_2_1compare_uncertanty_w_margin_MNIST.ipynb
      "Epoch 10, Accuracy: 94.10%\n"
=======
      "Epoch 10, Accuracy: 95.07%\n"
>>>>>>> bdc5fca78a045bb591ec2ee0328572ae354fa6ed:bin_2_compare_uncertanty_w_margin.ipynb
     ]
    },
    {
     "name": "stderr",
     "output_type": "stream",
     "text": [
<<<<<<< HEAD:bin_2_1compare_uncertanty_w_margin_MNIST.ipynb
      " 20%|██        | 20/100 [00:07<00:46,  1.72it/s]"
=======
      " 20%|██        | 20/100 [02:13<10:06,  7.58s/it]"
>>>>>>> bdc5fca78a045bb591ec2ee0328572ae354fa6ed:bin_2_compare_uncertanty_w_margin.ipynb
     ]
    },
    {
     "name": "stdout",
     "output_type": "stream",
     "text": [
<<<<<<< HEAD:bin_2_1compare_uncertanty_w_margin_MNIST.ipynb
      "Epoch 20, Accuracy: 96.35%\n"
=======
      "Epoch 20, Accuracy: 95.92%\n"
>>>>>>> bdc5fca78a045bb591ec2ee0328572ae354fa6ed:bin_2_compare_uncertanty_w_margin.ipynb
     ]
    },
    {
     "name": "stderr",
     "output_type": "stream",
     "text": [
<<<<<<< HEAD:bin_2_1compare_uncertanty_w_margin_MNIST.ipynb
      " 30%|███       | 30/100 [00:10<00:40,  1.72it/s]"
=======
      " 30%|███       | 30/100 [03:20<08:54,  7.63s/it]"
>>>>>>> bdc5fca78a045bb591ec2ee0328572ae354fa6ed:bin_2_compare_uncertanty_w_margin.ipynb
     ]
    },
    {
     "name": "stdout",
     "output_type": "stream",
     "text": [
<<<<<<< HEAD:bin_2_1compare_uncertanty_w_margin_MNIST.ipynb
      "Epoch 30, Accuracy: 96.27%\n"
=======
      "Epoch 30, Accuracy: 96.23%\n"
>>>>>>> bdc5fca78a045bb591ec2ee0328572ae354fa6ed:bin_2_compare_uncertanty_w_margin.ipynb
     ]
    },
    {
     "name": "stderr",
     "output_type": "stream",
     "text": [
<<<<<<< HEAD:bin_2_1compare_uncertanty_w_margin_MNIST.ipynb
      " 40%|████      | 40/100 [00:13<00:35,  1.71it/s]"
=======
      " 40%|████      | 40/100 [04:27<07:36,  7.61s/it]"
>>>>>>> bdc5fca78a045bb591ec2ee0328572ae354fa6ed:bin_2_compare_uncertanty_w_margin.ipynb
     ]
    },
    {
     "name": "stdout",
     "output_type": "stream",
     "text": [
<<<<<<< HEAD:bin_2_1compare_uncertanty_w_margin_MNIST.ipynb
      "Epoch 40, Accuracy: 96.65%\n"
=======
      "Epoch 40, Accuracy: 96.25%\n"
>>>>>>> bdc5fca78a045bb591ec2ee0328572ae354fa6ed:bin_2_compare_uncertanty_w_margin.ipynb
     ]
    },
    {
     "name": "stderr",
     "output_type": "stream",
     "text": [
<<<<<<< HEAD:bin_2_1compare_uncertanty_w_margin_MNIST.ipynb
      " 50%|█████     | 50/100 [00:17<00:29,  1.70it/s]"
=======
      " 50%|█████     | 50/100 [05:34<06:18,  7.58s/it]"
>>>>>>> bdc5fca78a045bb591ec2ee0328572ae354fa6ed:bin_2_compare_uncertanty_w_margin.ipynb
     ]
    },
    {
     "name": "stdout",
     "output_type": "stream",
     "text": [
<<<<<<< HEAD:bin_2_1compare_uncertanty_w_margin_MNIST.ipynb
      "Epoch 50, Accuracy: 96.83%\n"
=======
      "Epoch 50, Accuracy: 96.28%\n"
>>>>>>> bdc5fca78a045bb591ec2ee0328572ae354fa6ed:bin_2_compare_uncertanty_w_margin.ipynb
     ]
    },
    {
     "name": "stderr",
     "output_type": "stream",
     "text": [
<<<<<<< HEAD:bin_2_1compare_uncertanty_w_margin_MNIST.ipynb
      " 60%|██████    | 60/100 [00:20<00:23,  1.72it/s]"
=======
      " 60%|██████    | 60/100 [06:41<05:07,  7.70s/it]"
>>>>>>> bdc5fca78a045bb591ec2ee0328572ae354fa6ed:bin_2_compare_uncertanty_w_margin.ipynb
     ]
    },
    {
     "name": "stdout",
     "output_type": "stream",
     "text": [
      "Epoch 60, Accuracy: 96.38%\n"
     ]
    },
    {
     "name": "stderr",
     "output_type": "stream",
     "text": [
      " 70%|███████   | 70/100 [07:48<03:50,  7.70s/it]"
     ]
    },
    {
     "name": "stdout",
     "output_type": "stream",
     "text": [
      "Epoch 70, Accuracy: 96.42%\n"
     ]
    },
    {
     "name": "stderr",
     "output_type": "stream",
     "text": [
      " 80%|████████  | 80/100 [08:55<02:35,  7.79s/it]"
     ]
    },
    {
     "name": "stdout",
     "output_type": "stream",
     "text": [
      "Epoch 80, Accuracy: 96.20%\n"
     ]
    },
    {
     "name": "stderr",
     "output_type": "stream",
     "text": [
      " 90%|█████████ | 90/100 [10:02<01:16,  7.61s/it]"
     ]
    },
    {
     "name": "stdout",
     "output_type": "stream",
     "text": [
      "Epoch 90, Accuracy: 96.40%\n"
     ]
    },
    {
     "name": "stderr",
     "output_type": "stream",
     "text": [
      "100%|██████████| 100/100 [11:09<00:00,  6.70s/it]\n"
     ]
    },
    {
     "name": "stdout",
     "output_type": "stream",
     "text": [
      "Epoch 100, Accuracy: 96.33%\n"
     ]
    },
    {
     "name": "stderr",
     "output_type": "stream",
     "text": [
      "100%|██████████| 833/833 [00:51<00:00, 16.26it/s]\n"
     ]
    },
    {
     "name": "stdout",
     "output_type": "stream",
     "text": [
      "Adding 53 images to training set\n",
      "4\n"
     ]
    },
    {
     "name": "stderr",
     "output_type": "stream",
     "text": [
      " 10%|█         | 10/100 [01:09<11:53,  7.93s/it]"
     ]
    },
    {
     "name": "stdout",
     "output_type": "stream",
     "text": [
      "Epoch 10, Accuracy: 93.77%\n"
     ]
    },
    {
     "name": "stderr",
     "output_type": "stream",
     "text": [
      " 20%|██        | 20/100 [02:20<10:36,  7.96s/it]"
     ]
    },
    {
     "name": "stdout",
     "output_type": "stream",
     "text": [
      "Epoch 20, Accuracy: 91.00%\n"
     ]
    },
    {
     "name": "stderr",
     "output_type": "stream",
     "text": [
      " 30%|███       | 30/100 [03:29<09:06,  7.81s/it]"
     ]
    },
    {
     "name": "stdout",
     "output_type": "stream",
     "text": [
      "Epoch 30, Accuracy: 96.52%\n"
     ]
    },
    {
     "name": "stderr",
     "output_type": "stream",
     "text": [
      " 40%|████      | 40/100 [04:37<07:45,  7.76s/it]"
     ]
    },
    {
     "name": "stdout",
     "output_type": "stream",
     "text": [
      "Epoch 40, Accuracy: 96.32%\n"
     ]
    },
    {
     "name": "stderr",
     "output_type": "stream",
     "text": [
      " 50%|█████     | 50/100 [05:47<06:38,  7.97s/it]"
     ]
    },
    {
     "name": "stdout",
     "output_type": "stream",
     "text": [
      "Epoch 50, Accuracy: 96.67%\n"
     ]
    },
    {
     "name": "stderr",
     "output_type": "stream",
     "text": [
      " 60%|██████    | 60/100 [06:57<05:21,  8.05s/it]"
     ]
    },
    {
     "name": "stdout",
     "output_type": "stream",
     "text": [
      "Epoch 60, Accuracy: 96.87%\n"
     ]
    },
    {
     "name": "stderr",
     "output_type": "stream",
     "text": [
      " 70%|███████   | 70/100 [08:07<03:57,  7.93s/it]"
     ]
    },
    {
     "name": "stdout",
     "output_type": "stream",
     "text": [
      "Epoch 70, Accuracy: 96.87%\n"
     ]
    },
    {
     "name": "stderr",
     "output_type": "stream",
     "text": [
      " 80%|████████  | 80/100 [09:16<02:38,  7.93s/it]"
     ]
    },
    {
     "name": "stdout",
     "output_type": "stream",
     "text": [
      "Epoch 80, Accuracy: 96.87%\n"
     ]
    },
    {
     "name": "stderr",
     "output_type": "stream",
     "text": [
      " 90%|█████████ | 90/100 [10:26<01:18,  7.90s/it]"
     ]
    },
    {
     "name": "stdout",
     "output_type": "stream",
     "text": [
      "Epoch 90, Accuracy: 96.88%\n"
     ]
    },
    {
     "name": "stderr",
     "output_type": "stream",
     "text": [
      "100%|██████████| 100/100 [11:35<00:00,  6.96s/it]\n"
     ]
    },
    {
     "name": "stdout",
     "output_type": "stream",
     "text": [
      "Epoch 100, Accuracy: 96.90%\n"
     ]
    },
    {
     "name": "stderr",
     "output_type": "stream",
     "text": [
      "100%|██████████| 832/832 [00:49<00:00, 16.73it/s]\n"
     ]
    },
    {
     "name": "stdout",
     "output_type": "stream",
     "text": [
      "Adding 53 images to training set\n",
      "5\n"
     ]
    },
    {
     "name": "stderr",
     "output_type": "stream",
     "text": [
      " 10%|█         | 10/100 [01:15<12:45,  8.50s/it]"
     ]
    },
    {
     "name": "stdout",
     "output_type": "stream",
     "text": [
      "Epoch 10, Accuracy: 94.75%\n"
     ]
    },
    {
     "name": "stderr",
     "output_type": "stream",
     "text": [
      " 20%|██        | 20/100 [02:32<11:29,  8.62s/it]"
     ]
    },
    {
     "name": "stdout",
     "output_type": "stream",
     "text": [
      "Epoch 20, Accuracy: 96.60%\n"
     ]
    },
    {
     "name": "stderr",
     "output_type": "stream",
     "text": [
      " 30%|███       | 30/100 [03:47<09:56,  8.53s/it]"
     ]
    },
    {
     "name": "stdout",
     "output_type": "stream",
     "text": [
      "Epoch 30, Accuracy: 96.75%\n"
     ]
    },
    {
     "name": "stderr",
     "output_type": "stream",
     "text": [
      " 40%|████      | 40/100 [05:03<08:31,  8.53s/it]"
     ]
    },
    {
     "name": "stdout",
     "output_type": "stream",
     "text": [
      "Epoch 40, Accuracy: 96.78%\n"
     ]
    },
    {
     "name": "stderr",
     "output_type": "stream",
     "text": [
      " 50%|█████     | 50/100 [06:18<07:03,  8.47s/it]"
     ]
    },
    {
     "name": "stdout",
     "output_type": "stream",
     "text": [
      "Epoch 50, Accuracy: 96.92%\n"
     ]
    },
    {
     "name": "stderr",
     "output_type": "stream",
     "text": [
      " 60%|██████    | 60/100 [07:34<05:42,  8.55s/it]"
     ]
    },
    {
     "name": "stdout",
     "output_type": "stream",
     "text": [
      "Epoch 60, Accuracy: 96.18%\n"
     ]
    },
    {
     "name": "stderr",
     "output_type": "stream",
     "text": [
      " 70%|███████   | 70/100 [08:50<04:17,  8.59s/it]"
     ]
    },
    {
     "name": "stdout",
     "output_type": "stream",
     "text": [
      "Epoch 70, Accuracy: 94.83%\n"
     ]
    },
    {
     "name": "stderr",
     "output_type": "stream",
     "text": [
      " 80%|████████  | 80/100 [10:05<02:48,  8.43s/it]"
     ]
    },
    {
     "name": "stdout",
     "output_type": "stream",
     "text": [
      "Epoch 80, Accuracy: 88.88%\n"
     ]
    },
    {
     "name": "stderr",
     "output_type": "stream",
     "text": [
      " 90%|█████████ | 90/100 [11:20<01:24,  8.47s/it]"
     ]
    },
    {
     "name": "stdout",
     "output_type": "stream",
     "text": [
      "Epoch 90, Accuracy: 95.78%\n"
     ]
    },
    {
     "name": "stderr",
     "output_type": "stream",
     "text": [
      "100%|██████████| 100/100 [12:36<00:00,  7.56s/it]\n"
     ]
    },
    {
     "name": "stdout",
     "output_type": "stream",
     "text": [
      "Epoch 100, Accuracy: 96.32%\n"
     ]
    },
    {
     "name": "stderr",
     "output_type": "stream",
     "text": [
      "100%|██████████| 832/832 [00:50<00:00, 16.61it/s]\n"
     ]
    },
    {
     "name": "stdout",
     "output_type": "stream",
     "text": [
      "Adding 53 images to training set\n",
      "6\n"
     ]
    },
    {
     "name": "stderr",
     "output_type": "stream",
     "text": [
      " 10%|█         | 10/100 [01:21<13:37,  9.08s/it]"
     ]
    },
    {
     "name": "stdout",
     "output_type": "stream",
     "text": [
      "Epoch 10, Accuracy: 92.63%\n"
     ]
    },
    {
     "name": "stderr",
     "output_type": "stream",
     "text": [
      " 20%|██        | 20/100 [02:42<11:58,  8.98s/it]"
     ]
    },
    {
     "name": "stdout",
     "output_type": "stream",
     "text": [
      "Epoch 20, Accuracy: 96.92%\n"
     ]
    },
    {
     "name": "stderr",
     "output_type": "stream",
     "text": [
      " 30%|███       | 30/100 [04:02<10:35,  9.08s/it]"
     ]
    },
    {
     "name": "stdout",
     "output_type": "stream",
     "text": [
      "Epoch 30, Accuracy: 97.03%\n"
     ]
    },
    {
     "name": "stderr",
     "output_type": "stream",
     "text": [
      " 40%|████      | 40/100 [05:23<09:02,  9.04s/it]"
     ]
    },
    {
     "name": "stdout",
     "output_type": "stream",
     "text": [
      "Epoch 40, Accuracy: 97.02%\n"
     ]
    },
    {
     "name": "stderr",
     "output_type": "stream",
     "text": [
      " 50%|█████     | 50/100 [06:44<07:32,  9.05s/it]"
     ]
    },
    {
     "name": "stdout",
     "output_type": "stream",
     "text": [
      "Epoch 50, Accuracy: 96.98%\n"
     ]
    },
    {
     "name": "stderr",
     "output_type": "stream",
     "text": [
      " 60%|██████    | 60/100 [08:05<06:03,  9.10s/it]"
     ]
    },
    {
     "name": "stdout",
     "output_type": "stream",
     "text": [
      "Epoch 60, Accuracy: 97.07%\n"
     ]
    },
    {
     "name": "stderr",
     "output_type": "stream",
     "text": [
      " 70%|███████   | 70/100 [09:25<04:28,  8.94s/it]"
     ]
    },
    {
     "name": "stdout",
     "output_type": "stream",
     "text": [
      "Epoch 70, Accuracy: 97.07%\n"
     ]
    },
    {
     "name": "stderr",
     "output_type": "stream",
     "text": [
      " 80%|████████  | 80/100 [10:46<02:59,  9.00s/it]"
     ]
    },
    {
     "name": "stdout",
     "output_type": "stream",
     "text": [
      "Epoch 80, Accuracy: 97.12%\n"
     ]
    },
    {
     "name": "stderr",
     "output_type": "stream",
     "text": [
      " 90%|█████████ | 90/100 [12:08<01:31,  9.16s/it]"
     ]
    },
    {
     "name": "stdout",
     "output_type": "stream",
     "text": [
      "Epoch 90, Accuracy: 97.03%\n"
     ]
    },
    {
     "name": "stderr",
     "output_type": "stream",
     "text": [
      "100%|██████████| 100/100 [13:29<00:00,  8.09s/it]\n"
     ]
    },
    {
     "name": "stdout",
     "output_type": "stream",
     "text": [
      "Epoch 100, Accuracy: 97.13%\n"
     ]
    },
    {
     "name": "stderr",
     "output_type": "stream",
     "text": [
      "100%|██████████| 831/831 [00:50<00:00, 16.54it/s]\n"
     ]
    },
    {
     "name": "stdout",
     "output_type": "stream",
     "text": [
      "Adding 53 images to training set\n",
      "7\n"
     ]
    },
    {
     "name": "stderr",
     "output_type": "stream",
     "text": [
      " 10%|█         | 10/100 [01:27<14:32,  9.69s/it]"
     ]
    },
    {
     "name": "stdout",
     "output_type": "stream",
     "text": [
      "Epoch 10, Accuracy: 95.57%\n"
     ]
    },
    {
     "name": "stderr",
     "output_type": "stream",
     "text": [
      " 20%|██        | 20/100 [02:55<12:57,  9.72s/it]"
     ]
    },
    {
     "name": "stdout",
     "output_type": "stream",
     "text": [
      "Epoch 20, Accuracy: 96.68%\n"
     ]
    },
    {
     "name": "stderr",
     "output_type": "stream",
     "text": [
      " 30%|███       | 30/100 [04:23<11:17,  9.68s/it]"
     ]
    },
    {
     "name": "stdout",
     "output_type": "stream",
     "text": [
      "Epoch 30, Accuracy: 97.05%\n"
     ]
    },
    {
     "name": "stderr",
     "output_type": "stream",
     "text": [
      " 40%|████      | 40/100 [05:51<09:48,  9.80s/it]"
     ]
    },
    {
     "name": "stdout",
     "output_type": "stream",
     "text": [
      "Epoch 40, Accuracy: 97.20%\n"
     ]
    },
    {
     "name": "stderr",
     "output_type": "stream",
     "text": [
      " 50%|█████     | 50/100 [07:18<08:02,  9.64s/it]"
     ]
    },
    {
     "name": "stdout",
     "output_type": "stream",
     "text": [
      "Epoch 50, Accuracy: 97.12%\n"
     ]
    },
    {
     "name": "stderr",
     "output_type": "stream",
     "text": [
      " 60%|██████    | 60/100 [08:46<06:31,  9.78s/it]"
     ]
    },
    {
     "name": "stdout",
     "output_type": "stream",
     "text": [
      "Epoch 60, Accuracy: 97.08%\n"
     ]
    },
    {
     "name": "stderr",
     "output_type": "stream",
     "text": [
      " 70%|███████   | 70/100 [10:13<04:49,  9.64s/it]"
     ]
    },
    {
     "name": "stdout",
     "output_type": "stream",
     "text": [
      "Epoch 70, Accuracy: 97.20%\n"
     ]
    },
    {
     "name": "stderr",
     "output_type": "stream",
     "text": [
      " 80%|████████  | 80/100 [11:41<03:14,  9.72s/it]"
     ]
    },
    {
     "name": "stdout",
     "output_type": "stream",
     "text": [
      "Epoch 80, Accuracy: 97.13%\n"
     ]
    },
    {
     "name": "stderr",
     "output_type": "stream",
     "text": [
      " 90%|█████████ | 90/100 [13:08<01:36,  9.65s/it]"
     ]
    },
    {
     "name": "stdout",
     "output_type": "stream",
     "text": [
      "Epoch 90, Accuracy: 97.03%\n"
     ]
    },
    {
     "name": "stderr",
     "output_type": "stream",
     "text": [
      "100%|██████████| 100/100 [14:35<00:00,  8.76s/it]\n"
     ]
    },
    {
     "name": "stdout",
     "output_type": "stream",
     "text": [
      "Epoch 100, Accuracy: 97.17%\n"
     ]
    },
    {
     "name": "stderr",
     "output_type": "stream",
     "text": [
      "100%|██████████| 830/830 [00:49<00:00, 16.62it/s]\n"
     ]
    },
    {
     "name": "stdout",
     "output_type": "stream",
     "text": [
      "Adding 53 images to training set\n",
      "8\n"
     ]
    },
    {
     "name": "stderr",
     "output_type": "stream",
     "text": [
      " 10%|█         | 10/100 [01:32<15:17, 10.19s/it]"
     ]
    },
    {
     "name": "stdout",
     "output_type": "stream",
     "text": [
      "Epoch 10, Accuracy: 96.37%\n"
     ]
    },
    {
     "name": "stderr",
     "output_type": "stream",
     "text": [
      " 20%|██        | 20/100 [03:05<13:40, 10.26s/it]"
     ]
    },
    {
     "name": "stdout",
     "output_type": "stream",
     "text": [
      "Epoch 20, Accuracy: 96.53%\n"
     ]
    },
    {
     "name": "stderr",
     "output_type": "stream",
     "text": [
      " 30%|███       | 30/100 [04:37<11:51, 10.17s/it]"
     ]
    },
    {
     "name": "stdout",
     "output_type": "stream",
     "text": [
      "Epoch 30, Accuracy: 93.78%\n"
     ]
    },
    {
     "name": "stderr",
     "output_type": "stream",
     "text": [
      " 40%|████      | 40/100 [06:11<10:23, 10.38s/it]"
     ]
    },
    {
     "name": "stdout",
     "output_type": "stream",
     "text": [
      "Epoch 40, Accuracy: 96.47%\n"
     ]
    },
    {
     "name": "stderr",
     "output_type": "stream",
     "text": [
      " 50%|█████     | 50/100 [07:45<08:33, 10.27s/it]"
     ]
    },
    {
     "name": "stdout",
     "output_type": "stream",
     "text": [
      "Epoch 50, Accuracy: 96.40%\n"
     ]
    },
    {
     "name": "stderr",
     "output_type": "stream",
     "text": [
      " 60%|██████    | 60/100 [09:17<06:51, 10.30s/it]"
     ]
    },
    {
     "name": "stdout",
     "output_type": "stream",
     "text": [
      "Epoch 60, Accuracy: 97.20%\n"
     ]
    },
    {
     "name": "stderr",
     "output_type": "stream",
     "text": [
      " 70%|███████   | 70/100 [10:52<05:11, 10.39s/it]"
     ]
    },
    {
     "name": "stdout",
     "output_type": "stream",
     "text": [
      "Epoch 70, Accuracy: 97.30%\n"
     ]
    },
    {
     "name": "stderr",
     "output_type": "stream",
     "text": [
      " 80%|████████  | 80/100 [12:25<03:22, 10.14s/it]"
     ]
    },
    {
     "name": "stdout",
     "output_type": "stream",
     "text": [
      "Epoch 80, Accuracy: 97.43%\n"
     ]
    },
    {
     "name": "stderr",
     "output_type": "stream",
     "text": [
      " 90%|█████████ | 90/100 [13:57<01:41, 10.15s/it]"
     ]
    },
    {
     "name": "stdout",
     "output_type": "stream",
     "text": [
      "Epoch 90, Accuracy: 97.53%\n"
     ]
    },
    {
     "name": "stderr",
     "output_type": "stream",
     "text": [
      "100%|██████████| 100/100 [15:30<00:00,  9.31s/it]\n"
     ]
    },
    {
     "name": "stdout",
     "output_type": "stream",
     "text": [
      "Epoch 100, Accuracy: 97.60%\n"
     ]
    },
    {
     "name": "stderr",
     "output_type": "stream",
     "text": [
      "100%|██████████| 829/829 [00:49<00:00, 16.74it/s]\n"
     ]
    },
    {
     "name": "stdout",
     "output_type": "stream",
     "text": [
      "Adding 53 images to training set\n",
      "9\n"
     ]
    },
    {
     "name": "stderr",
     "output_type": "stream",
     "text": [
      " 10%|█         | 10/100 [01:32<15:17, 10.19s/it]"
     ]
    },
    {
     "name": "stdout",
     "output_type": "stream",
     "text": [
      "Epoch 10, Accuracy: 94.22%\n"
     ]
    },
    {
     "name": "stderr",
     "output_type": "stream",
     "text": [
      " 20%|██        | 20/100 [03:05<13:42, 10.28s/it]"
     ]
    },
    {
     "name": "stdout",
     "output_type": "stream",
     "text": [
      "Epoch 20, Accuracy: 97.05%\n"
     ]
    },
    {
     "name": "stderr",
     "output_type": "stream",
     "text": [
      " 30%|███       | 30/100 [04:38<11:54, 10.20s/it]"
     ]
    },
    {
     "name": "stdout",
     "output_type": "stream",
     "text": [
      "Epoch 30, Accuracy: 97.22%\n"
     ]
    },
    {
     "name": "stderr",
     "output_type": "stream",
     "text": [
      " 40%|████      | 40/100 [06:11<10:13, 10.22s/it]"
     ]
    },
    {
     "name": "stdout",
     "output_type": "stream",
     "text": [
      "Epoch 40, Accuracy: 97.30%\n"
     ]
    },
    {
     "name": "stderr",
     "output_type": "stream",
     "text": [
      " 50%|█████     | 50/100 [07:44<08:32, 10.24s/it]"
     ]
    },
    {
     "name": "stdout",
     "output_type": "stream",
     "text": [
      "Epoch 50, Accuracy: 97.45%\n"
     ]
    },
    {
     "name": "stderr",
     "output_type": "stream",
     "text": [
      " 60%|██████    | 60/100 [09:17<06:49, 10.23s/it]"
     ]
    },
    {
     "name": "stdout",
     "output_type": "stream",
     "text": [
      "Epoch 60, Accuracy: 97.35%\n"
     ]
    },
    {
     "name": "stderr",
     "output_type": "stream",
     "text": [
      " 70%|███████   | 70/100 [10:50<05:08, 10.29s/it]"
     ]
    },
    {
     "name": "stdout",
     "output_type": "stream",
     "text": [
      "Epoch 70, Accuracy: 97.43%\n"
     ]
    },
    {
     "name": "stderr",
     "output_type": "stream",
     "text": [
      " 80%|████████  | 80/100 [12:22<03:23, 10.17s/it]"
     ]
    },
    {
     "name": "stdout",
     "output_type": "stream",
     "text": [
      "Epoch 80, Accuracy: 95.97%\n"
     ]
    },
    {
     "name": "stderr",
     "output_type": "stream",
     "text": [
      " 90%|█████████ | 90/100 [13:56<01:44, 10.43s/it]"
     ]
    },
    {
     "name": "stdout",
     "output_type": "stream",
     "text": [
      "Epoch 90, Accuracy: 94.85%\n"
     ]
    },
    {
     "name": "stderr",
     "output_type": "stream",
     "text": [
      "100%|██████████| 100/100 [15:30<00:00,  9.30s/it]\n"
     ]
    },
    {
     "name": "stdout",
     "output_type": "stream",
     "text": [
      "Epoch 100, Accuracy: 96.90%\n"
     ]
    },
    {
     "name": "stderr",
     "output_type": "stream",
     "text": [
      "100%|██████████| 828/828 [00:49<00:00, 16.62it/s]\n"
     ]
    },
    {
     "name": "stdout",
     "output_type": "stream",
     "text": [
      "Adding 52 images to training set\n",
      "10\n"
     ]
    },
    {
     "name": "stderr",
     "output_type": "stream",
     "text": [
      " 10%|█         | 10/100 [01:39<16:23, 10.92s/it]"
     ]
    },
    {
     "name": "stdout",
     "output_type": "stream",
     "text": [
      "Epoch 10, Accuracy: 95.47%\n"
     ]
    },
    {
     "name": "stderr",
     "output_type": "stream",
     "text": [
      " 20%|██        | 20/100 [03:18<14:27, 10.85s/it]"
     ]
    },
    {
     "name": "stdout",
     "output_type": "stream",
     "text": [
      "Epoch 20, Accuracy: 96.73%\n"
     ]
    },
    {
     "name": "stderr",
     "output_type": "stream",
     "text": [
      " 30%|███       | 30/100 [04:57<12:38, 10.83s/it]"
     ]
    },
    {
     "name": "stdout",
     "output_type": "stream",
     "text": [
      "Epoch 30, Accuracy: 96.02%\n"
     ]
    },
    {
     "name": "stderr",
     "output_type": "stream",
     "text": [
      " 40%|████      | 40/100 [06:35<10:52, 10.88s/it]"
     ]
    },
    {
     "name": "stdout",
     "output_type": "stream",
     "text": [
      "Epoch 40, Accuracy: 97.13%\n"
     ]
    },
    {
     "name": "stderr",
     "output_type": "stream",
     "text": [
      " 50%|█████     | 50/100 [08:14<08:59, 10.78s/it]"
     ]
    },
    {
     "name": "stdout",
     "output_type": "stream",
     "text": [
      "Epoch 50, Accuracy: 97.10%\n"
     ]
    },
    {
     "name": "stderr",
     "output_type": "stream",
     "text": [
      " 60%|██████    | 60/100 [09:53<07:08, 10.71s/it]"
     ]
    },
    {
     "name": "stdout",
     "output_type": "stream",
     "text": [
      "Epoch 60, Accuracy: 97.60%\n"
     ]
    },
    {
     "name": "stderr",
     "output_type": "stream",
     "text": [
      " 70%|███████   | 70/100 [11:31<05:25, 10.84s/it]"
     ]
    },
    {
     "name": "stdout",
     "output_type": "stream",
     "text": [
      "Epoch 70, Accuracy: 97.82%\n"
     ]
    },
    {
     "name": "stderr",
     "output_type": "stream",
     "text": [
      " 80%|████████  | 80/100 [13:10<03:34, 10.74s/it]"
     ]
    },
    {
     "name": "stdout",
     "output_type": "stream",
     "text": [
      "Epoch 80, Accuracy: 97.88%\n"
     ]
    },
    {
     "name": "stderr",
     "output_type": "stream",
     "text": [
      " 90%|█████████ | 90/100 [14:47<01:47, 10.76s/it]"
     ]
    },
    {
     "name": "stdout",
     "output_type": "stream",
     "text": [
      "Epoch 90, Accuracy: 97.85%\n"
     ]
    },
    {
     "name": "stderr",
     "output_type": "stream",
     "text": [
      "100%|██████████| 100/100 [16:25<00:00,  9.85s/it]\n"
     ]
    },
    {
     "name": "stdout",
     "output_type": "stream",
     "text": [
      "Epoch 100, Accuracy: 97.78%\n"
     ]
    },
    {
     "name": "stderr",
     "output_type": "stream",
     "text": [
      "100%|██████████| 828/828 [00:49<00:00, 16.79it/s]\n"
     ]
    },
    {
     "name": "stdout",
     "output_type": "stream",
     "text": [
      "Adding 52 images to training set\n",
      "11\n"
     ]
    },
    {
     "name": "stderr",
     "output_type": "stream",
     "text": [
      " 10%|█         | 10/100 [01:45<17:13, 11.49s/it]"
     ]
    },
    {
     "name": "stdout",
     "output_type": "stream",
     "text": [
      "Epoch 10, Accuracy: 95.08%\n"
     ]
    },
    {
     "name": "stderr",
     "output_type": "stream",
     "text": [
      " 20%|██        | 20/100 [03:31<15:28, 11.61s/it]"
     ]
    },
    {
     "name": "stdout",
     "output_type": "stream",
     "text": [
      "Epoch 20, Accuracy: 97.40%\n"
     ]
    },
    {
     "name": "stderr",
     "output_type": "stream",
     "text": [
      " 30%|███       | 30/100 [05:16<13:26, 11.52s/it]"
     ]
    },
    {
     "name": "stdout",
     "output_type": "stream",
     "text": [
      "Epoch 30, Accuracy: 97.15%\n"
     ]
    },
    {
     "name": "stderr",
     "output_type": "stream",
     "text": [
      " 40%|████      | 40/100 [07:02<11:48, 11.80s/it]"
     ]
    },
    {
     "name": "stdout",
     "output_type": "stream",
     "text": [
      "Epoch 40, Accuracy: 97.32%\n"
     ]
    },
    {
     "name": "stderr",
     "output_type": "stream",
     "text": [
      " 50%|█████     | 50/100 [08:48<09:36, 11.53s/it]"
     ]
    },
    {
     "name": "stdout",
     "output_type": "stream",
     "text": [
      "Epoch 50, Accuracy: 92.02%\n"
     ]
    },
    {
     "name": "stderr",
     "output_type": "stream",
     "text": [
      " 60%|██████    | 60/100 [10:35<07:45, 11.63s/it]"
     ]
    },
    {
     "name": "stdout",
     "output_type": "stream",
     "text": [
      "Epoch 60, Accuracy: 95.70%\n"
     ]
    },
    {
     "name": "stderr",
     "output_type": "stream",
     "text": [
      " 70%|███████   | 70/100 [12:20<05:43, 11.44s/it]"
     ]
    },
    {
     "name": "stdout",
     "output_type": "stream",
     "text": [
      "Epoch 70, Accuracy: 97.73%\n"
     ]
    },
    {
     "name": "stderr",
     "output_type": "stream",
     "text": [
      " 80%|████████  | 80/100 [14:04<03:47, 11.38s/it]"
     ]
    },
    {
     "name": "stdout",
     "output_type": "stream",
     "text": [
      "Epoch 80, Accuracy: 96.72%\n"
     ]
    },
    {
     "name": "stderr",
     "output_type": "stream",
     "text": [
      " 90%|█████████ | 90/100 [15:50<01:54, 11.50s/it]"
     ]
    },
    {
     "name": "stdout",
     "output_type": "stream",
     "text": [
      "Epoch 90, Accuracy: 97.45%\n"
     ]
    },
    {
     "name": "stderr",
     "output_type": "stream",
     "text": [
      "100%|██████████| 100/100 [17:36<00:00, 10.56s/it]\n"
     ]
    },
    {
     "name": "stdout",
     "output_type": "stream",
     "text": [
      "Epoch 100, Accuracy: 97.53%\n"
     ]
    },
    {
     "name": "stderr",
     "output_type": "stream",
     "text": [
      "100%|██████████| 827/827 [00:49<00:00, 16.78it/s]\n"
     ]
    },
    {
     "name": "stdout",
     "output_type": "stream",
     "text": [
      "Adding 52 images to training set\n",
      "12\n"
     ]
    },
    {
     "name": "stderr",
     "output_type": "stream",
     "text": [
      " 10%|█         | 10/100 [01:50<18:21, 12.24s/it]"
     ]
    },
    {
     "name": "stdout",
     "output_type": "stream",
     "text": [
      "Epoch 10, Accuracy: 95.92%\n"
     ]
    },
    {
     "name": "stderr",
     "output_type": "stream",
     "text": [
      " 20%|██        | 20/100 [03:42<16:02, 12.03s/it]"
     ]
    },
    {
     "name": "stdout",
     "output_type": "stream",
     "text": [
      "Epoch 20, Accuracy: 97.03%\n"
     ]
    },
    {
     "name": "stderr",
     "output_type": "stream",
     "text": [
      " 30%|███       | 30/100 [05:32<13:56, 11.95s/it]"
     ]
    },
    {
     "name": "stdout",
     "output_type": "stream",
     "text": [
      "Epoch 30, Accuracy: 94.37%\n"
     ]
    },
    {
     "name": "stderr",
     "output_type": "stream",
     "text": [
      " 40%|████      | 40/100 [07:23<12:01, 12.02s/it]"
     ]
    },
    {
     "name": "stdout",
     "output_type": "stream",
     "text": [
      "Epoch 40, Accuracy: 97.43%\n"
     ]
    },
    {
     "name": "stderr",
     "output_type": "stream",
     "text": [
      " 50%|█████     | 50/100 [09:13<09:59, 11.99s/it]"
     ]
    },
    {
     "name": "stdout",
     "output_type": "stream",
     "text": [
      "Epoch 50, Accuracy: 96.38%\n"
     ]
    },
    {
     "name": "stderr",
     "output_type": "stream",
     "text": [
      " 60%|██████    | 60/100 [11:03<08:00, 12.00s/it]"
     ]
    },
    {
     "name": "stdout",
     "output_type": "stream",
     "text": [
      "Epoch 60, Accuracy: 93.02%\n"
     ]
    },
    {
     "name": "stderr",
     "output_type": "stream",
     "text": [
      " 70%|███████   | 70/100 [12:53<06:01, 12.05s/it]"
     ]
    },
    {
     "name": "stdout",
     "output_type": "stream",
     "text": [
      "Epoch 70, Accuracy: 97.67%\n"
     ]
    },
    {
     "name": "stderr",
     "output_type": "stream",
     "text": [
      " 80%|████████  | 80/100 [14:44<04:00, 12.04s/it]"
     ]
    },
    {
     "name": "stdout",
     "output_type": "stream",
     "text": [
      "Epoch 80, Accuracy: 98.00%\n"
     ]
    },
    {
     "name": "stderr",
     "output_type": "stream",
     "text": [
      " 90%|█████████ | 90/100 [16:35<01:59, 11.97s/it]"
     ]
    },
    {
     "name": "stdout",
     "output_type": "stream",
     "text": [
      "Epoch 90, Accuracy: 98.12%\n"
     ]
    },
    {
     "name": "stderr",
     "output_type": "stream",
     "text": [
      "100%|██████████| 100/100 [18:26<00:00, 11.06s/it]\n"
     ]
    },
    {
     "name": "stdout",
     "output_type": "stream",
     "text": [
      "Epoch 100, Accuracy: 98.02%\n"
     ]
    },
    {
     "name": "stderr",
     "output_type": "stream",
     "text": [
      "100%|██████████| 826/826 [00:49<00:00, 16.67it/s]\n"
     ]
    },
    {
     "name": "stdout",
     "output_type": "stream",
     "text": [
      "Adding 52 images to training set\n",
      "13\n"
     ]
    },
    {
     "name": "stderr",
     "output_type": "stream",
     "text": [
      " 10%|█         | 10/100 [01:57<19:04, 12.72s/it]"
     ]
    },
    {
     "name": "stdout",
     "output_type": "stream",
     "text": [
      "Epoch 10, Accuracy: 94.45%\n"
     ]
    },
    {
     "name": "stderr",
     "output_type": "stream",
     "text": [
      " 20%|██        | 20/100 [03:55<17:01, 12.76s/it]"
     ]
    },
    {
     "name": "stdout",
     "output_type": "stream",
     "text": [
      "Epoch 20, Accuracy: 94.50%\n"
     ]
    },
    {
     "name": "stderr",
     "output_type": "stream",
     "text": [
      " 30%|███       | 30/100 [05:53<14:48, 12.69s/it]"
     ]
    },
    {
     "name": "stdout",
     "output_type": "stream",
     "text": [
      "Epoch 30, Accuracy: 97.15%\n"
     ]
    },
    {
     "name": "stderr",
     "output_type": "stream",
     "text": [
      " 40%|████      | 40/100 [07:51<12:44, 12.74s/it]"
     ]
    },
    {
     "name": "stdout",
     "output_type": "stream",
     "text": [
      "Epoch 40, Accuracy: 97.18%\n"
     ]
    },
    {
     "name": "stderr",
     "output_type": "stream",
     "text": [
      " 50%|█████     | 50/100 [09:48<10:36, 12.74s/it]"
     ]
    },
    {
     "name": "stdout",
     "output_type": "stream",
     "text": [
      "Epoch 50, Accuracy: 95.75%\n"
     ]
    },
    {
     "name": "stderr",
     "output_type": "stream",
     "text": [
      " 60%|██████    | 60/100 [11:45<08:28, 12.72s/it]"
     ]
    },
    {
     "name": "stdout",
     "output_type": "stream",
     "text": [
      "Epoch 60, Accuracy: 96.50%\n"
     ]
    },
    {
     "name": "stderr",
     "output_type": "stream",
     "text": [
      " 70%|███████   | 70/100 [13:42<06:23, 12.79s/it]"
     ]
    },
    {
     "name": "stdout",
     "output_type": "stream",
     "text": [
      "Epoch 70, Accuracy: 97.75%\n"
     ]
    },
    {
     "name": "stderr",
     "output_type": "stream",
     "text": [
      " 80%|████████  | 80/100 [15:40<04:16, 12.81s/it]"
     ]
    },
    {
     "name": "stdout",
     "output_type": "stream",
     "text": [
      "Epoch 80, Accuracy: 97.68%\n"
     ]
    },
    {
     "name": "stderr",
     "output_type": "stream",
     "text": [
      " 90%|█████████ | 90/100 [17:37<02:07, 12.75s/it]"
     ]
    },
    {
     "name": "stdout",
     "output_type": "stream",
     "text": [
      "Epoch 90, Accuracy: 97.77%\n"
     ]
    },
    {
     "name": "stderr",
     "output_type": "stream",
     "text": [
      "100%|██████████| 100/100 [19:35<00:00, 11.76s/it]\n"
     ]
    },
    {
     "name": "stdout",
     "output_type": "stream",
     "text": [
      "Epoch 100, Accuracy: 97.83%\n"
     ]
    },
    {
     "name": "stderr",
     "output_type": "stream",
     "text": [
      "100%|██████████| 825/825 [00:49<00:00, 16.77it/s]\n"
     ]
    },
    {
     "name": "stdout",
     "output_type": "stream",
     "text": [
      "Adding 52 images to training set\n",
      "14\n"
     ]
    },
    {
     "name": "stderr",
     "output_type": "stream",
     "text": [
      " 10%|█         | 10/100 [01:55<18:49, 12.55s/it]"
     ]
    },
    {
     "name": "stdout",
     "output_type": "stream",
     "text": [
      "Epoch 10, Accuracy: 91.48%\n"
     ]
    },
    {
     "name": "stderr",
     "output_type": "stream",
     "text": [
      " 20%|██        | 20/100 [03:52<16:44, 12.56s/it]"
     ]
    },
    {
     "name": "stdout",
     "output_type": "stream",
     "text": [
      "Epoch 20, Accuracy: 96.65%\n"
     ]
    },
    {
     "name": "stderr",
     "output_type": "stream",
     "text": [
      " 30%|███       | 30/100 [05:48<14:33, 12.48s/it]"
     ]
    },
    {
     "name": "stdout",
     "output_type": "stream",
     "text": [
      "Epoch 30, Accuracy: 96.98%\n"
     ]
    },
    {
     "name": "stderr",
     "output_type": "stream",
     "text": [
      " 40%|████      | 40/100 [07:43<12:27, 12.46s/it]"
     ]
    },
    {
     "name": "stdout",
     "output_type": "stream",
     "text": [
      "Epoch 40, Accuracy: 95.80%\n"
     ]
    },
    {
     "name": "stderr",
     "output_type": "stream",
     "text": [
      " 50%|█████     | 50/100 [09:40<10:30, 12.61s/it]"
     ]
    },
    {
     "name": "stdout",
     "output_type": "stream",
     "text": [
      "Epoch 50, Accuracy: 96.95%\n"
     ]
    },
    {
     "name": "stderr",
     "output_type": "stream",
     "text": [
      " 60%|██████    | 60/100 [11:36<08:22, 12.56s/it]"
     ]
    },
    {
     "name": "stdout",
     "output_type": "stream",
     "text": [
      "Epoch 60, Accuracy: 97.92%\n"
     ]
    },
    {
     "name": "stderr",
     "output_type": "stream",
     "text": [
      " 70%|███████   | 70/100 [13:32<06:21, 12.73s/it]"
     ]
    },
    {
     "name": "stdout",
     "output_type": "stream",
     "text": [
      "Epoch 70, Accuracy: 98.07%\n"
     ]
    },
    {
     "name": "stderr",
     "output_type": "stream",
     "text": [
      " 80%|████████  | 80/100 [15:28<04:11, 12.57s/it]"
     ]
    },
    {
     "name": "stdout",
     "output_type": "stream",
     "text": [
      "Epoch 80, Accuracy: 98.15%\n"
     ]
    },
    {
     "name": "stderr",
     "output_type": "stream",
     "text": [
      " 90%|█████████ | 90/100 [17:24<02:06, 12.67s/it]"
     ]
    },
    {
     "name": "stdout",
     "output_type": "stream",
     "text": [
      "Epoch 90, Accuracy: 97.68%\n"
     ]
    },
    {
     "name": "stderr",
     "output_type": "stream",
     "text": [
      "100%|██████████| 100/100 [19:22<00:00, 11.62s/it]\n"
     ]
    },
    {
     "name": "stdout",
     "output_type": "stream",
     "text": [
      "Epoch 100, Accuracy: 96.05%\n"
     ]
    },
    {
     "name": "stderr",
     "output_type": "stream",
     "text": [
      "100%|██████████| 824/824 [00:49<00:00, 16.59it/s]\n"
     ]
    },
    {
     "name": "stdout",
     "output_type": "stream",
     "text": [
      "Adding 52 images to training set\n",
      "15\n"
     ]
    },
    {
     "name": "stderr",
     "output_type": "stream",
     "text": [
      " 10%|█         | 10/100 [02:02<19:57, 13.31s/it]"
     ]
    },
    {
     "name": "stdout",
     "output_type": "stream",
     "text": [
      "Epoch 10, Accuracy: 96.27%\n"
     ]
    },
    {
     "name": "stderr",
     "output_type": "stream",
     "text": [
      " 20%|██        | 20/100 [04:08<18:03, 13.54s/it]"
     ]
    },
    {
     "name": "stdout",
     "output_type": "stream",
     "text": [
      "Epoch 20, Accuracy: 95.88%\n"
     ]
    },
    {
     "name": "stderr",
     "output_type": "stream",
     "text": [
      " 30%|███       | 30/100 [06:11<15:30, 13.30s/it]"
     ]
    },
    {
     "name": "stdout",
     "output_type": "stream",
     "text": [
      "Epoch 30, Accuracy: 97.35%\n"
     ]
    },
    {
     "name": "stderr",
     "output_type": "stream",
     "text": [
      " 40%|████      | 40/100 [08:14<13:24, 13.40s/it]"
     ]
    },
    {
     "name": "stdout",
     "output_type": "stream",
     "text": [
      "Epoch 40, Accuracy: 97.50%\n"
     ]
    },
    {
     "name": "stderr",
     "output_type": "stream",
     "text": [
      " 50%|█████     | 50/100 [10:18<11:06, 13.33s/it]"
     ]
    },
    {
     "name": "stdout",
     "output_type": "stream",
     "text": [
      "Epoch 50, Accuracy: 97.88%\n"
     ]
    },
    {
     "name": "stderr",
     "output_type": "stream",
     "text": [
      " 60%|██████    | 60/100 [12:21<08:51, 13.28s/it]"
     ]
    },
    {
     "name": "stdout",
     "output_type": "stream",
     "text": [
      "Epoch 60, Accuracy: 97.93%\n"
     ]
    },
    {
     "name": "stderr",
     "output_type": "stream",
     "text": [
      " 70%|███████   | 70/100 [14:24<06:35, 13.20s/it]"
     ]
    },
    {
     "name": "stdout",
     "output_type": "stream",
     "text": [
      "Epoch 70, Accuracy: 98.05%\n"
     ]
    },
    {
     "name": "stderr",
     "output_type": "stream",
     "text": [
      " 80%|████████  | 80/100 [16:26<04:23, 13.19s/it]"
     ]
    },
    {
     "name": "stdout",
     "output_type": "stream",
     "text": [
      "Epoch 80, Accuracy: 98.00%\n"
     ]
    },
    {
     "name": "stderr",
     "output_type": "stream",
     "text": [
      " 90%|█████████ | 90/100 [18:28<02:12, 13.23s/it]"
     ]
    },
    {
     "name": "stdout",
     "output_type": "stream",
     "text": [
      "Epoch 90, Accuracy: 97.98%\n"
     ]
    },
    {
     "name": "stderr",
     "output_type": "stream",
     "text": [
      "100%|██████████| 100/100 [20:31<00:00, 12.32s/it]\n"
     ]
    },
    {
     "name": "stdout",
     "output_type": "stream",
     "text": [
      "Epoch 100, Accuracy: 97.97%\n"
     ]
    },
    {
     "name": "stderr",
     "output_type": "stream",
     "text": [
      "100%|██████████| 823/823 [00:48<00:00, 16.89it/s]\n"
     ]
    },
    {
     "name": "stdout",
     "output_type": "stream",
     "text": [
      "Adding 52 images to training set\n",
      "16\n"
     ]
    },
    {
     "name": "stderr",
     "output_type": "stream",
     "text": [
      " 10%|█         | 10/100 [02:08<20:46, 13.84s/it]"
     ]
    },
    {
     "name": "stdout",
     "output_type": "stream",
     "text": [
      "Epoch 10, Accuracy: 95.32%\n"
     ]
    },
    {
     "name": "stderr",
     "output_type": "stream",
     "text": [
      " 20%|██        | 20/100 [04:16<18:17, 13.72s/it]"
     ]
    },
    {
     "name": "stdout",
     "output_type": "stream",
     "text": [
      "Epoch 20, Accuracy: 97.02%\n"
     ]
    },
    {
     "name": "stderr",
     "output_type": "stream",
     "text": [
      " 30%|███       | 30/100 [06:24<15:59, 13.71s/it]"
     ]
    },
    {
     "name": "stdout",
     "output_type": "stream",
     "text": [
      "Epoch 30, Accuracy: 97.60%\n"
     ]
    },
    {
     "name": "stderr",
     "output_type": "stream",
     "text": [
      " 40%|████      | 40/100 [08:33<13:50, 13.83s/it]"
     ]
    },
    {
     "name": "stdout",
     "output_type": "stream",
     "text": [
      "Epoch 40, Accuracy: 97.85%\n"
     ]
    },
    {
     "name": "stderr",
     "output_type": "stream",
     "text": [
      " 50%|█████     | 50/100 [10:42<11:33, 13.88s/it]"
     ]
    },
    {
     "name": "stdout",
     "output_type": "stream",
     "text": [
      "Epoch 50, Accuracy: 96.12%\n"
     ]
    },
    {
     "name": "stderr",
     "output_type": "stream",
     "text": [
      " 60%|██████    | 60/100 [12:49<09:09, 13.73s/it]"
     ]
    },
    {
     "name": "stdout",
     "output_type": "stream",
     "text": [
      "Epoch 60, Accuracy: 95.62%\n"
     ]
    },
    {
     "name": "stderr",
     "output_type": "stream",
     "text": [
      " 70%|███████   | 70/100 [14:57<06:50, 13.70s/it]"
     ]
    },
    {
     "name": "stdout",
     "output_type": "stream",
     "text": [
      "Epoch 70, Accuracy: 97.88%\n"
     ]
    },
    {
     "name": "stderr",
     "output_type": "stream",
     "text": [
      " 80%|████████  | 80/100 [17:05<04:36, 13.83s/it]"
     ]
    },
    {
     "name": "stdout",
     "output_type": "stream",
     "text": [
      "Epoch 80, Accuracy: 98.15%\n"
     ]
    },
    {
     "name": "stderr",
     "output_type": "stream",
     "text": [
      " 90%|█████████ | 90/100 [19:13<02:17, 13.71s/it]"
     ]
    },
    {
     "name": "stdout",
     "output_type": "stream",
     "text": [
      "Epoch 90, Accuracy: 97.75%\n"
     ]
    },
    {
     "name": "stderr",
     "output_type": "stream",
     "text": [
      "100%|██████████| 100/100 [21:20<00:00, 12.80s/it]\n"
     ]
    },
    {
     "name": "stdout",
     "output_type": "stream",
     "text": [
      "Epoch 100, Accuracy: 95.87%\n"
     ]
    },
    {
     "name": "stderr",
     "output_type": "stream",
     "text": [
      "100%|██████████| 823/823 [00:49<00:00, 16.57it/s]\n"
     ]
    },
    {
     "name": "stdout",
     "output_type": "stream",
     "text": [
      "Adding 52 images to training set\n",
      "17\n"
     ]
    },
    {
     "name": "stderr",
     "output_type": "stream",
     "text": [
      " 10%|█         | 10/100 [02:13<21:27, 14.31s/it]"
     ]
    },
    {
     "name": "stdout",
     "output_type": "stream",
     "text": [
      "Epoch 10, Accuracy: 95.95%\n"
     ]
    },
    {
     "name": "stderr",
     "output_type": "stream",
     "text": [
      " 20%|██        | 20/100 [04:28<19:12, 14.40s/it]"
     ]
    },
    {
     "name": "stdout",
     "output_type": "stream",
     "text": [
      "Epoch 20, Accuracy: 97.75%\n"
     ]
    },
    {
     "name": "stderr",
     "output_type": "stream",
     "text": [
      " 30%|███       | 30/100 [06:44<17:00, 14.58s/it]"
     ]
    },
    {
     "name": "stdout",
     "output_type": "stream",
     "text": [
      "Epoch 30, Accuracy: 97.98%\n"
     ]
    },
    {
     "name": "stderr",
     "output_type": "stream",
     "text": [
      " 40%|████      | 40/100 [08:58<14:24, 14.41s/it]"
     ]
    },
    {
     "name": "stdout",
     "output_type": "stream",
     "text": [
      "Epoch 40, Accuracy: 98.10%\n"
     ]
    },
    {
     "name": "stderr",
     "output_type": "stream",
     "text": [
      " 50%|█████     | 50/100 [11:13<12:03, 14.46s/it]"
     ]
    },
    {
     "name": "stdout",
     "output_type": "stream",
     "text": [
      "Epoch 50, Accuracy: 98.17%\n"
     ]
    },
    {
     "name": "stderr",
     "output_type": "stream",
     "text": [
      " 60%|██████    | 60/100 [13:30<09:49, 14.73s/it]"
     ]
    },
    {
     "name": "stdout",
     "output_type": "stream",
     "text": [
      "Epoch 60, Accuracy: 98.23%\n"
     ]
    },
    {
     "name": "stderr",
     "output_type": "stream",
     "text": [
      " 70%|███████   | 70/100 [15:47<07:19, 14.64s/it]"
     ]
    },
    {
     "name": "stdout",
     "output_type": "stream",
     "text": [
      "Epoch 70, Accuracy: 98.25%\n"
     ]
    },
    {
     "name": "stderr",
     "output_type": "stream",
     "text": [
      " 80%|████████  | 80/100 [18:02<04:49, 14.46s/it]"
     ]
    },
    {
     "name": "stdout",
     "output_type": "stream",
     "text": [
      "Epoch 80, Accuracy: 98.22%\n"
     ]
    },
    {
     "name": "stderr",
     "output_type": "stream",
     "text": [
      " 90%|█████████ | 90/100 [20:19<02:26, 14.62s/it]"
     ]
    },
    {
     "name": "stdout",
     "output_type": "stream",
     "text": [
      "Epoch 90, Accuracy: 98.23%\n"
     ]
    },
    {
     "name": "stderr",
     "output_type": "stream",
     "text": [
      "100%|██████████| 100/100 [22:34<00:00, 13.55s/it]\n"
     ]
    },
    {
     "name": "stdout",
     "output_type": "stream",
     "text": [
      "Epoch 100, Accuracy: 98.23%\n"
     ]
    },
    {
     "name": "stderr",
     "output_type": "stream",
     "text": [
      "100%|██████████| 822/822 [00:49<00:00, 16.73it/s]\n"
     ]
    },
    {
     "name": "stdout",
     "output_type": "stream",
     "text": [
      "Adding 52 images to training set\n",
      "18\n"
     ]
    },
    {
     "name": "stderr",
     "output_type": "stream",
     "text": [
      " 10%|█         | 10/100 [02:19<22:28, 14.98s/it]"
     ]
    },
    {
     "name": "stdout",
     "output_type": "stream",
     "text": [
      "Epoch 10, Accuracy: 94.27%\n"
     ]
    },
    {
     "name": "stderr",
     "output_type": "stream",
     "text": [
      " 20%|██        | 20/100 [04:38<19:47, 14.84s/it]"
     ]
    },
    {
     "name": "stdout",
     "output_type": "stream",
     "text": [
      "Epoch 20, Accuracy: 96.43%\n"
     ]
    },
    {
     "name": "stderr",
     "output_type": "stream",
     "text": [
      " 30%|███       | 30/100 [06:58<17:23, 14.91s/it]"
     ]
    },
    {
     "name": "stdout",
     "output_type": "stream",
     "text": [
      "Epoch 30, Accuracy: 97.55%\n"
     ]
    },
    {
     "name": "stderr",
     "output_type": "stream",
     "text": [
      " 40%|████      | 40/100 [09:17<14:51, 14.87s/it]"
     ]
    },
    {
     "name": "stdout",
     "output_type": "stream",
     "text": [
      "Epoch 40, Accuracy: 96.92%\n"
     ]
    },
    {
     "name": "stderr",
     "output_type": "stream",
     "text": [
      " 50%|█████     | 50/100 [11:37<12:24, 14.88s/it]"
     ]
    },
    {
     "name": "stdout",
     "output_type": "stream",
     "text": [
      "Epoch 50, Accuracy: 97.92%\n"
     ]
    },
    {
     "name": "stderr",
     "output_type": "stream",
     "text": [
      " 60%|██████    | 60/100 [13:57<09:54, 14.87s/it]"
     ]
    },
    {
     "name": "stdout",
     "output_type": "stream",
     "text": [
      "Epoch 60, Accuracy: 97.48%\n"
     ]
    },
    {
     "name": "stderr",
     "output_type": "stream",
     "text": [
      " 70%|███████   | 70/100 [16:18<07:30, 15.02s/it]"
     ]
    },
    {
     "name": "stdout",
     "output_type": "stream",
     "text": [
      "Epoch 70, Accuracy: 94.73%\n"
     ]
    },
    {
     "name": "stderr",
     "output_type": "stream",
     "text": [
      " 80%|████████  | 80/100 [18:37<04:57, 14.88s/it]"
     ]
    },
    {
     "name": "stdout",
     "output_type": "stream",
     "text": [
      "Epoch 80, Accuracy: 98.07%\n"
     ]
    },
    {
     "name": "stderr",
     "output_type": "stream",
     "text": [
      " 90%|█████████ | 90/100 [20:57<02:28, 14.87s/it]"
     ]
    },
    {
     "name": "stdout",
     "output_type": "stream",
     "text": [
      "Epoch 90, Accuracy: 98.27%\n"
     ]
    },
    {
     "name": "stderr",
     "output_type": "stream",
     "text": [
      "100%|██████████| 100/100 [23:16<00:00, 13.96s/it]\n"
     ]
    },
    {
     "name": "stdout",
     "output_type": "stream",
     "text": [
      "Epoch 100, Accuracy: 98.20%\n"
     ]
    },
    {
     "name": "stderr",
     "output_type": "stream",
     "text": [
      "100%|██████████| 821/821 [00:49<00:00, 16.66it/s]\n"
     ]
    },
    {
     "name": "stdout",
     "output_type": "stream",
     "text": [
      "Adding 52 images to training set\n",
      "19\n"
     ]
    },
    {
     "name": "stderr",
     "output_type": "stream",
     "text": [
      " 10%|█         | 10/100 [02:26<23:24, 15.60s/it]"
     ]
    },
    {
     "name": "stdout",
     "output_type": "stream",
     "text": [
      "Epoch 10, Accuracy: 96.88%\n"
     ]
    },
    {
     "name": "stderr",
     "output_type": "stream",
     "text": [
      " 20%|██        | 20/100 [04:53<20:47, 15.60s/it]"
     ]
    },
    {
     "name": "stdout",
     "output_type": "stream",
     "text": [
      "Epoch 20, Accuracy: 96.50%\n"
     ]
    },
    {
     "name": "stderr",
     "output_type": "stream",
     "text": [
      " 30%|███       | 30/100 [07:19<18:06, 15.52s/it]"
     ]
    },
    {
     "name": "stdout",
     "output_type": "stream",
     "text": [
      "Epoch 30, Accuracy: 92.65%\n"
     ]
    },
    {
     "name": "stderr",
     "output_type": "stream",
     "text": [
      " 40%|████      | 40/100 [09:45<15:28, 15.48s/it]"
     ]
    },
    {
     "name": "stdout",
     "output_type": "stream",
     "text": [
      "Epoch 40, Accuracy: 96.03%\n"
     ]
    },
    {
     "name": "stderr",
     "output_type": "stream",
     "text": [
      " 50%|█████     | 50/100 [12:12<13:03, 15.68s/it]"
     ]
    },
    {
     "name": "stdout",
     "output_type": "stream",
     "text": [
      "Epoch 50, Accuracy: 97.23%\n"
     ]
    },
    {
     "name": "stderr",
     "output_type": "stream",
     "text": [
      " 60%|██████    | 60/100 [14:38<10:24, 15.62s/it]"
     ]
    },
    {
     "name": "stdout",
     "output_type": "stream",
     "text": [
      "Epoch 60, Accuracy: 98.08%\n"
     ]
    },
    {
     "name": "stderr",
     "output_type": "stream",
     "text": [
      " 70%|███████   | 70/100 [17:05<07:47, 15.59s/it]"
     ]
    },
    {
     "name": "stdout",
     "output_type": "stream",
     "text": [
      "Epoch 70, Accuracy: 98.08%\n"
     ]
    },
    {
     "name": "stderr",
     "output_type": "stream",
     "text": [
      " 80%|████████  | 80/100 [19:32<05:12, 15.63s/it]"
     ]
    },
    {
     "name": "stdout",
     "output_type": "stream",
     "text": [
      "Epoch 80, Accuracy: 98.18%\n"
     ]
    },
    {
     "name": "stderr",
     "output_type": "stream",
     "text": [
      " 90%|█████████ | 90/100 [21:59<02:36, 15.65s/it]"
     ]
    },
    {
     "name": "stdout",
     "output_type": "stream",
     "text": [
      "Epoch 90, Accuracy: 87.97%\n"
     ]
    },
    {
     "name": "stderr",
     "output_type": "stream",
     "text": [
      "100%|██████████| 100/100 [24:25<00:00, 14.66s/it]"
     ]
    },
    {
     "name": "stdout",
     "output_type": "stream",
     "text": [
      "Epoch 100, Accuracy: 98.20%\n"
     ]
    },
    {
     "name": "stderr",
     "output_type": "stream",
     "text": [
      "\n"
     ]
    }
   ],
   "source": [
    "## Run active learning Margin\n",
    "datapoint_list_MAR = []\n",
    "accuracy_list_MAR = []\n",
    "\n",
    "train_dataset.targets = start_train_dataset.targets\n",
    "train_dataset.data = start_train_dataset.data\n",
    "unlabbelled_dataset.targets = start_unlabbelled_dataset.targets\n",
    "unlabbelled_dataset.data = start_unlabbelled_dataset.data\n",
    "for i in range(label_iterations):\n",
    "    print(i)\n",
    "    train_loader = torch.utils.data.DataLoader(train_dataset, batch_size=batch_size, shuffle=True, drop_last=True)\n",
    "    model.load_state_dict(model_parameters)  # Important to reset the model each time\n",
    "    accuracies = train_model(model, train_loader, val_loader, criterion, optimizer, device, num_epochs=num_epochs, val_interval=10)\n",
    "    datapoint_list_MAR.append(len(train_dataset))\n",
    "    accuracy_list_MAR.append(accuracies)\n",
    "    if i < label_iterations - 1:\n",
    "        train_dataset, unlabbelled_dataset = label_iteration_margin_based(model, train_dataset, unlabbelled_dataset, device, top_frac=0.001)"
   ]
  },
  {
   "cell_type": "code",
<<<<<<< HEAD:bin_2_1compare_uncertanty_w_margin_MNIST.ipynb
   "execution_count": null,
   "metadata": {},
   "outputs": [],
   "source": [
    "# Add baseline accuracy (no active learning)\n",
    "n_datapoints = len(train_dataset) - len(start_train_dataset)\n",
    "model.load_state_dict(model_parameters)\n",
    "# We reuse the initial training set to reduce run to run variance\n",
    "train_dataset.data = torch.cat([start_train_dataset.data, start_unlabbelled_dataset.data[:n_datapoints]])\n",
    "train_dataset.targets = torch.cat([start_train_dataset.targets, start_unlabbelled_dataset.targets[:n_datapoints]])"
   ]
  },
  {
   "cell_type": "code",
   "execution_count": null,
=======
   "execution_count": 38,
>>>>>>> bdc5fca78a045bb591ec2ee0328572ae354fa6ed:bin_2_compare_uncertanty_w_margin.ipynb
   "metadata": {},
   "outputs": [
    {
     "name": "stdout",
     "output_type": "stream",
     "text": [
      "0\n"
     ]
    },
    {
     "name": "stderr",
     "output_type": "stream",
     "text": [
      " 10%|█         | 10/100 [00:51<09:07,  6.09s/it]"
     ]
    },
    {
     "name": "stdout",
     "output_type": "stream",
     "text": [
      "Epoch 10, Accuracy: 92.63%\n"
     ]
    },
    {
     "name": "stderr",
     "output_type": "stream",
     "text": [
      " 20%|██        | 20/100 [01:43<08:12,  6.16s/it]"
     ]
    },
    {
     "name": "stdout",
     "output_type": "stream",
     "text": [
      "Epoch 20, Accuracy: 93.57%\n"
     ]
    },
    {
     "name": "stderr",
     "output_type": "stream",
     "text": [
      " 30%|███       | 30/100 [02:35<07:21,  6.31s/it]"
     ]
    },
    {
     "name": "stdout",
     "output_type": "stream",
     "text": [
      "Epoch 30, Accuracy: 94.12%\n"
     ]
    },
    {
     "name": "stderr",
     "output_type": "stream",
     "text": [
      " 40%|████      | 40/100 [03:28<06:14,  6.24s/it]"
     ]
    },
    {
     "name": "stdout",
     "output_type": "stream",
     "text": [
      "Epoch 40, Accuracy: 93.85%\n"
     ]
    },
    {
     "name": "stderr",
     "output_type": "stream",
     "text": [
      " 50%|█████     | 50/100 [04:19<05:08,  6.17s/it]"
     ]
    },
    {
     "name": "stdout",
     "output_type": "stream",
     "text": [
      "Epoch 50, Accuracy: 93.93%\n"
     ]
    },
    {
     "name": "stderr",
     "output_type": "stream",
     "text": [
      " 60%|██████    | 60/100 [05:10<04:01,  6.03s/it]"
     ]
    },
    {
     "name": "stdout",
     "output_type": "stream",
     "text": [
      "Epoch 60, Accuracy: 94.20%\n"
     ]
    },
    {
     "name": "stderr",
     "output_type": "stream",
     "text": [
      " 70%|███████   | 70/100 [06:01<03:01,  6.06s/it]"
     ]
    },
    {
     "name": "stdout",
     "output_type": "stream",
     "text": [
      "Epoch 70, Accuracy: 94.22%\n"
     ]
    },
    {
     "name": "stderr",
     "output_type": "stream",
     "text": [
      " 80%|████████  | 80/100 [06:53<02:01,  6.06s/it]"
     ]
    },
    {
     "name": "stdout",
     "output_type": "stream",
     "text": [
      "Epoch 80, Accuracy: 94.13%\n"
     ]
    },
    {
     "name": "stderr",
     "output_type": "stream",
     "text": [
      " 90%|█████████ | 90/100 [07:46<01:01,  6.17s/it]"
     ]
    },
    {
     "name": "stdout",
     "output_type": "stream",
     "text": [
      "Epoch 90, Accuracy: 94.10%\n"
     ]
    },
    {
     "name": "stderr",
     "output_type": "stream",
     "text": [
      "100%|██████████| 100/100 [08:39<00:00,  5.19s/it]\n"
     ]
    },
    {
     "name": "stdout",
     "output_type": "stream",
     "text": [
      "Epoch 100, Accuracy: 94.33%\n"
     ]
    },
    {
     "name": "stderr",
     "output_type": "stream",
     "text": [
      "100%|██████████| 836/836 [00:49<00:00, 16.75it/s]\n"
     ]
    },
    {
     "name": "stdout",
     "output_type": "stream",
     "text": [
      "Adding 53 images to training set\n",
      "1\n"
     ]
    },
    {
     "name": "stderr",
     "output_type": "stream",
     "text": [
      " 10%|█         | 10/100 [00:58<10:13,  6.82s/it]"
     ]
    },
    {
     "name": "stdout",
     "output_type": "stream",
     "text": [
      "Epoch 10, Accuracy: 93.95%\n"
     ]
    },
    {
     "name": "stderr",
     "output_type": "stream",
     "text": [
      " 20%|██        | 20/100 [01:55<09:04,  6.80s/it]"
     ]
    },
    {
     "name": "stdout",
     "output_type": "stream",
     "text": [
      "Epoch 20, Accuracy: 93.10%\n"
     ]
    },
    {
     "name": "stderr",
     "output_type": "stream",
     "text": [
      " 30%|███       | 30/100 [02:53<07:54,  6.78s/it]"
     ]
    },
    {
     "name": "stdout",
     "output_type": "stream",
     "text": [
      "Epoch 30, Accuracy: 94.67%\n"
     ]
    },
    {
     "name": "stderr",
     "output_type": "stream",
     "text": [
      " 40%|████      | 40/100 [03:50<06:41,  6.69s/it]"
     ]
    },
    {
     "name": "stdout",
     "output_type": "stream",
     "text": [
      "Epoch 40, Accuracy: 95.13%\n"
     ]
    },
    {
     "name": "stderr",
     "output_type": "stream",
     "text": [
      " 50%|█████     | 50/100 [04:48<05:41,  6.82s/it]"
     ]
    },
    {
     "name": "stdout",
     "output_type": "stream",
     "text": [
      "Epoch 50, Accuracy: 95.12%\n"
     ]
    },
    {
     "name": "stderr",
     "output_type": "stream",
     "text": [
      " 60%|██████    | 60/100 [05:46<04:27,  6.70s/it]"
     ]
    },
    {
     "name": "stdout",
     "output_type": "stream",
     "text": [
      "Epoch 60, Accuracy: 95.37%\n"
     ]
    },
    {
     "name": "stderr",
     "output_type": "stream",
     "text": [
      " 70%|███████   | 70/100 [06:43<03:19,  6.66s/it]"
     ]
    },
    {
     "name": "stdout",
     "output_type": "stream",
     "text": [
      "Epoch 70, Accuracy: 95.40%\n"
     ]
    },
    {
     "name": "stderr",
     "output_type": "stream",
     "text": [
      " 80%|████████  | 80/100 [07:41<02:13,  6.67s/it]"
     ]
    },
    {
     "name": "stdout",
     "output_type": "stream",
     "text": [
      "Epoch 80, Accuracy: 95.47%\n"
     ]
    },
    {
     "name": "stderr",
     "output_type": "stream",
     "text": [
      " 90%|█████████ | 90/100 [08:38<01:06,  6.70s/it]"
     ]
    },
    {
     "name": "stdout",
     "output_type": "stream",
     "text": [
      "Epoch 90, Accuracy: 95.48%\n"
     ]
    },
    {
     "name": "stderr",
     "output_type": "stream",
     "text": [
      "100%|██████████| 100/100 [09:36<00:00,  5.76s/it]\n"
     ]
    },
    {
     "name": "stdout",
     "output_type": "stream",
     "text": [
      "Epoch 100, Accuracy: 95.45%\n"
     ]
    },
    {
     "name": "stderr",
     "output_type": "stream",
     "text": [
      "100%|██████████| 835/835 [00:49<00:00, 16.92it/s]\n"
     ]
    },
    {
     "name": "stdout",
     "output_type": "stream",
     "text": [
      "Adding 53 images to training set\n",
      "2\n"
     ]
    },
    {
     "name": "stderr",
     "output_type": "stream",
     "text": [
      " 10%|█         | 10/100 [01:03<10:56,  7.29s/it]"
     ]
    },
    {
     "name": "stdout",
     "output_type": "stream",
     "text": [
      "Epoch 10, Accuracy: 88.12%\n"
     ]
    },
    {
     "name": "stderr",
     "output_type": "stream",
     "text": [
      " 20%|██        | 20/100 [02:07<09:41,  7.27s/it]"
     ]
    },
    {
     "name": "stdout",
     "output_type": "stream",
     "text": [
      "Epoch 20, Accuracy: 95.00%\n"
     ]
    },
    {
     "name": "stderr",
     "output_type": "stream",
     "text": [
      " 30%|███       | 30/100 [03:11<08:31,  7.30s/it]"
     ]
    },
    {
     "name": "stdout",
     "output_type": "stream",
     "text": [
      "Epoch 30, Accuracy: 95.53%\n"
     ]
    },
    {
     "name": "stderr",
     "output_type": "stream",
     "text": [
      " 40%|████      | 40/100 [04:14<07:19,  7.32s/it]"
     ]
    },
    {
     "name": "stdout",
     "output_type": "stream",
     "text": [
      "Epoch 40, Accuracy: 95.55%\n"
     ]
    },
    {
     "name": "stderr",
     "output_type": "stream",
     "text": [
      " 50%|█████     | 50/100 [05:18<06:10,  7.41s/it]"
     ]
    },
    {
     "name": "stdout",
     "output_type": "stream",
     "text": [
      "Epoch 50, Accuracy: 95.63%\n"
     ]
    },
    {
     "name": "stderr",
     "output_type": "stream",
     "text": [
      " 60%|██████    | 60/100 [06:22<04:50,  7.27s/it]"
     ]
    },
    {
     "name": "stdout",
     "output_type": "stream",
     "text": [
      "Epoch 60, Accuracy: 95.65%\n"
     ]
    },
    {
     "name": "stderr",
     "output_type": "stream",
     "text": [
      " 70%|███████   | 70/100 [07:26<03:42,  7.43s/it]"
     ]
    },
    {
     "name": "stdout",
     "output_type": "stream",
     "text": [
      "Epoch 70, Accuracy: 95.58%\n"
     ]
    },
    {
     "name": "stderr",
     "output_type": "stream",
     "text": [
      " 80%|████████  | 80/100 [08:30<02:28,  7.41s/it]"
     ]
    },
    {
     "name": "stdout",
     "output_type": "stream",
     "text": [
      "Epoch 80, Accuracy: 95.62%\n"
     ]
    },
    {
     "name": "stderr",
     "output_type": "stream",
     "text": [
      " 90%|█████████ | 90/100 [09:34<01:14,  7.45s/it]"
     ]
    },
    {
     "name": "stdout",
     "output_type": "stream",
     "text": [
      "Epoch 90, Accuracy: 95.68%\n"
     ]
    },
    {
     "name": "stderr",
     "output_type": "stream",
     "text": [
      "100%|██████████| 100/100 [10:37<00:00,  6.38s/it]\n"
     ]
    },
    {
     "name": "stdout",
     "output_type": "stream",
     "text": [
      "Epoch 100, Accuracy: 95.60%\n"
     ]
    },
    {
     "name": "stderr",
     "output_type": "stream",
     "text": [
      "100%|██████████| 834/834 [00:50<00:00, 16.48it/s]\n"
     ]
    },
    {
     "name": "stdout",
     "output_type": "stream",
     "text": [
      "Adding 53 images to training set\n",
      "3\n"
     ]
    },
    {
     "name": "stderr",
     "output_type": "stream",
     "text": [
      " 10%|█         | 10/100 [01:03<11:12,  7.47s/it]"
     ]
    },
    {
     "name": "stdout",
     "output_type": "stream",
     "text": [
      "Epoch 10, Accuracy: 93.70%\n"
     ]
    },
    {
     "name": "stderr",
     "output_type": "stream",
     "text": [
      " 20%|██        | 20/100 [02:07<09:51,  7.39s/it]"
     ]
    },
    {
     "name": "stdout",
     "output_type": "stream",
     "text": [
      "Epoch 20, Accuracy: 95.75%\n"
     ]
    },
    {
     "name": "stderr",
     "output_type": "stream",
     "text": [
      " 30%|███       | 30/100 [03:10<08:32,  7.32s/it]"
     ]
    },
    {
     "name": "stdout",
     "output_type": "stream",
     "text": [
      "Epoch 30, Accuracy: 96.12%\n"
     ]
    },
    {
     "name": "stderr",
     "output_type": "stream",
     "text": [
      " 40%|████      | 40/100 [04:13<07:11,  7.19s/it]"
     ]
    },
    {
     "name": "stdout",
     "output_type": "stream",
     "text": [
      "Epoch 40, Accuracy: 95.93%\n"
     ]
    },
    {
     "name": "stderr",
     "output_type": "stream",
     "text": [
      " 50%|█████     | 50/100 [05:16<06:04,  7.30s/it]"
     ]
    },
    {
     "name": "stdout",
     "output_type": "stream",
     "text": [
      "Epoch 50, Accuracy: 96.07%\n"
     ]
    },
    {
     "name": "stderr",
     "output_type": "stream",
     "text": [
      " 60%|██████    | 60/100 [06:19<04:50,  7.27s/it]"
     ]
    },
    {
     "name": "stdout",
     "output_type": "stream",
     "text": [
      "Epoch 60, Accuracy: 96.12%\n"
     ]
    },
    {
     "name": "stderr",
     "output_type": "stream",
     "text": [
      " 70%|███████   | 70/100 [07:22<03:38,  7.29s/it]"
     ]
    },
    {
     "name": "stdout",
     "output_type": "stream",
     "text": [
      "Epoch 70, Accuracy: 96.27%\n"
     ]
    },
    {
     "name": "stderr",
     "output_type": "stream",
     "text": [
      " 80%|████████  | 80/100 [08:25<02:24,  7.23s/it]"
     ]
    },
    {
     "name": "stdout",
     "output_type": "stream",
     "text": [
      "Epoch 80, Accuracy: 96.35%\n"
     ]
    },
    {
     "name": "stderr",
     "output_type": "stream",
     "text": [
      " 90%|█████████ | 90/100 [09:29<01:12,  7.30s/it]"
     ]
    },
    {
     "name": "stdout",
     "output_type": "stream",
     "text": [
      "Epoch 90, Accuracy: 96.30%\n"
     ]
    },
    {
     "name": "stderr",
     "output_type": "stream",
     "text": [
      "100%|██████████| 100/100 [10:33<00:00,  6.33s/it]\n"
     ]
    },
    {
     "name": "stdout",
     "output_type": "stream",
     "text": [
      "Epoch 100, Accuracy: 96.20%\n"
     ]
    },
    {
     "name": "stderr",
     "output_type": "stream",
     "text": [
      "100%|██████████| 833/833 [00:49<00:00, 16.70it/s]\n"
     ]
    },
    {
     "name": "stdout",
     "output_type": "stream",
     "text": [
      "Adding 53 images to training set\n",
      "4\n"
     ]
    },
    {
     "name": "stderr",
     "output_type": "stream",
     "text": [
      " 10%|█         | 10/100 [01:09<11:45,  7.84s/it]"
     ]
    },
    {
     "name": "stdout",
     "output_type": "stream",
     "text": [
      "Epoch 10, Accuracy: 94.87%\n"
     ]
    },
    {
     "name": "stderr",
     "output_type": "stream",
     "text": [
      " 20%|██        | 20/100 [02:19<10:30,  7.89s/it]"
     ]
    },
    {
     "name": "stdout",
     "output_type": "stream",
     "text": [
      "Epoch 20, Accuracy: 96.07%\n"
     ]
    },
    {
     "name": "stderr",
     "output_type": "stream",
     "text": [
      " 30%|███       | 30/100 [03:29<09:13,  7.91s/it]"
     ]
    },
    {
     "name": "stdout",
     "output_type": "stream",
     "text": [
      "Epoch 30, Accuracy: 96.18%\n"
     ]
    },
    {
     "name": "stderr",
     "output_type": "stream",
     "text": [
      " 40%|████      | 40/100 [04:38<07:55,  7.93s/it]"
     ]
    },
    {
     "name": "stdout",
     "output_type": "stream",
     "text": [
      "Epoch 40, Accuracy: 96.30%\n"
     ]
    },
    {
     "name": "stderr",
     "output_type": "stream",
     "text": [
      " 50%|█████     | 50/100 [05:48<06:37,  7.96s/it]"
     ]
    },
    {
     "name": "stdout",
     "output_type": "stream",
     "text": [
      "Epoch 50, Accuracy: 96.33%\n"
     ]
    },
    {
     "name": "stderr",
     "output_type": "stream",
     "text": [
      " 60%|██████    | 60/100 [06:57<05:12,  7.82s/it]"
     ]
    },
    {
     "name": "stdout",
     "output_type": "stream",
     "text": [
      "Epoch 60, Accuracy: 96.38%\n"
     ]
    },
    {
     "name": "stderr",
     "output_type": "stream",
     "text": [
      " 70%|███████   | 70/100 [08:06<03:56,  7.88s/it]"
     ]
    },
    {
     "name": "stdout",
     "output_type": "stream",
     "text": [
      "Epoch 70, Accuracy: 96.27%\n"
     ]
    },
    {
     "name": "stderr",
     "output_type": "stream",
     "text": [
      " 80%|████████  | 80/100 [09:15<02:37,  7.85s/it]"
     ]
    },
    {
     "name": "stdout",
     "output_type": "stream",
     "text": [
      "Epoch 80, Accuracy: 96.35%\n"
     ]
    },
    {
     "name": "stderr",
     "output_type": "stream",
     "text": [
      " 90%|█████████ | 90/100 [10:25<01:18,  7.88s/it]"
     ]
    },
    {
     "name": "stdout",
     "output_type": "stream",
     "text": [
      "Epoch 90, Accuracy: 96.27%\n"
     ]
    },
    {
     "name": "stderr",
     "output_type": "stream",
     "text": [
      "100%|██████████| 100/100 [11:34<00:00,  6.95s/it]\n"
     ]
    },
    {
     "name": "stdout",
     "output_type": "stream",
     "text": [
      "Epoch 100, Accuracy: 96.35%\n"
     ]
    },
    {
     "name": "stderr",
     "output_type": "stream",
     "text": [
      "100%|██████████| 832/832 [00:49<00:00, 16.84it/s]\n"
     ]
    },
    {
     "name": "stdout",
     "output_type": "stream",
     "text": [
      "Adding 53 images to training set\n",
      "5\n"
     ]
    },
    {
     "name": "stderr",
     "output_type": "stream",
     "text": [
      " 10%|█         | 10/100 [01:15<12:51,  8.57s/it]"
     ]
    },
    {
     "name": "stdout",
     "output_type": "stream",
     "text": [
      "Epoch 10, Accuracy: 95.97%\n"
     ]
    },
    {
     "name": "stderr",
     "output_type": "stream",
     "text": [
      " 20%|██        | 20/100 [02:30<11:23,  8.54s/it]"
     ]
    },
    {
     "name": "stdout",
     "output_type": "stream",
     "text": [
      "Epoch 20, Accuracy: 96.63%\n"
     ]
    },
    {
     "name": "stderr",
     "output_type": "stream",
     "text": [
      " 30%|███       | 30/100 [03:45<09:51,  8.45s/it]"
     ]
    },
    {
     "name": "stdout",
     "output_type": "stream",
     "text": [
      "Epoch 30, Accuracy: 97.05%\n"
     ]
    },
    {
     "name": "stderr",
     "output_type": "stream",
     "text": [
      " 40%|████      | 40/100 [05:01<08:28,  8.48s/it]"
     ]
    },
    {
     "name": "stdout",
     "output_type": "stream",
     "text": [
      "Epoch 40, Accuracy: 96.82%\n"
     ]
    },
    {
     "name": "stderr",
     "output_type": "stream",
     "text": [
      " 50%|█████     | 50/100 [06:17<07:14,  8.68s/it]"
     ]
    },
    {
     "name": "stdout",
     "output_type": "stream",
     "text": [
      "Epoch 50, Accuracy: 96.90%\n"
     ]
    },
    {
     "name": "stderr",
     "output_type": "stream",
     "text": [
      " 60%|██████    | 60/100 [07:33<05:44,  8.62s/it]"
     ]
    },
    {
     "name": "stdout",
     "output_type": "stream",
     "text": [
      "Epoch 60, Accuracy: 96.82%\n"
     ]
    },
    {
     "name": "stderr",
     "output_type": "stream",
     "text": [
      " 70%|███████   | 70/100 [08:49<04:13,  8.45s/it]"
     ]
    },
    {
     "name": "stdout",
     "output_type": "stream",
     "text": [
      "Epoch 70, Accuracy: 96.88%\n"
     ]
    },
    {
     "name": "stderr",
     "output_type": "stream",
     "text": [
      " 80%|████████  | 80/100 [10:07<02:56,  8.80s/it]"
     ]
    },
    {
     "name": "stdout",
     "output_type": "stream",
     "text": [
      "Epoch 80, Accuracy: 96.93%\n"
     ]
    },
    {
     "name": "stderr",
     "output_type": "stream",
     "text": [
      " 90%|█████████ | 90/100 [11:22<01:25,  8.55s/it]"
     ]
    },
    {
     "name": "stdout",
     "output_type": "stream",
     "text": [
      "Epoch 90, Accuracy: 96.90%\n"
     ]
    },
    {
     "name": "stderr",
     "output_type": "stream",
     "text": [
      "100%|██████████| 100/100 [12:39<00:00,  7.59s/it]\n"
     ]
    },
    {
     "name": "stdout",
     "output_type": "stream",
     "text": [
      "Epoch 100, Accuracy: 96.83%\n"
     ]
    },
    {
     "name": "stderr",
     "output_type": "stream",
     "text": [
      "100%|██████████| 832/832 [00:50<00:00, 16.62it/s]\n"
     ]
    },
    {
     "name": "stdout",
     "output_type": "stream",
     "text": [
      "Adding 53 images to training set\n",
      "6\n"
     ]
    },
    {
     "name": "stderr",
     "output_type": "stream",
     "text": [
      " 10%|█         | 10/100 [01:21<13:37,  9.08s/it]"
     ]
    },
    {
     "name": "stdout",
     "output_type": "stream",
     "text": [
      "Epoch 10, Accuracy: 95.25%\n"
     ]
    },
    {
     "name": "stderr",
     "output_type": "stream",
     "text": [
      " 20%|██        | 20/100 [02:43<12:16,  9.20s/it]"
     ]
    },
    {
     "name": "stdout",
     "output_type": "stream",
     "text": [
      "Epoch 20, Accuracy: 96.97%\n"
     ]
    },
    {
     "name": "stderr",
     "output_type": "stream",
     "text": [
      " 30%|███       | 30/100 [04:04<10:34,  9.06s/it]"
     ]
    },
    {
     "name": "stdout",
     "output_type": "stream",
     "text": [
      "Epoch 30, Accuracy: 97.03%\n"
     ]
    },
    {
     "name": "stderr",
     "output_type": "stream",
     "text": [
      " 40%|████      | 40/100 [05:25<09:04,  9.08s/it]"
     ]
    },
    {
     "name": "stdout",
     "output_type": "stream",
     "text": [
      "Epoch 40, Accuracy: 97.05%\n"
     ]
    },
    {
     "name": "stderr",
     "output_type": "stream",
     "text": [
      " 50%|█████     | 50/100 [06:47<07:39,  9.19s/it]"
     ]
    },
    {
     "name": "stdout",
     "output_type": "stream",
     "text": [
      "Epoch 50, Accuracy: 97.07%\n"
     ]
    },
    {
     "name": "stderr",
     "output_type": "stream",
     "text": [
      " 60%|██████    | 60/100 [08:08<06:02,  9.07s/it]"
     ]
    },
    {
     "name": "stdout",
     "output_type": "stream",
     "text": [
      "Epoch 60, Accuracy: 97.07%\n"
     ]
    },
    {
     "name": "stderr",
     "output_type": "stream",
     "text": [
      " 70%|███████   | 70/100 [09:30<04:33,  9.10s/it]"
     ]
    },
    {
     "name": "stdout",
     "output_type": "stream",
     "text": [
      "Epoch 70, Accuracy: 97.32%\n"
     ]
    },
    {
     "name": "stderr",
     "output_type": "stream",
     "text": [
      " 80%|████████  | 80/100 [10:51<03:02,  9.11s/it]"
     ]
    },
    {
     "name": "stdout",
     "output_type": "stream",
     "text": [
      "Epoch 80, Accuracy: 97.23%\n"
     ]
    },
    {
     "name": "stderr",
     "output_type": "stream",
     "text": [
      " 90%|█████████ | 90/100 [12:12<01:30,  9.06s/it]"
     ]
    },
    {
     "name": "stdout",
     "output_type": "stream",
     "text": [
      "Epoch 90, Accuracy: 97.12%\n"
     ]
    },
    {
     "name": "stderr",
     "output_type": "stream",
     "text": [
      "100%|██████████| 100/100 [13:34<00:00,  8.14s/it]\n"
     ]
    },
    {
     "name": "stdout",
     "output_type": "stream",
     "text": [
      "Epoch 100, Accuracy: 97.10%\n"
     ]
    },
    {
     "name": "stderr",
     "output_type": "stream",
     "text": [
      "100%|██████████| 831/831 [00:49<00:00, 16.80it/s]\n"
     ]
    },
    {
     "name": "stdout",
     "output_type": "stream",
     "text": [
      "Adding 53 images to training set\n",
      "7\n"
     ]
    },
    {
     "name": "stderr",
     "output_type": "stream",
     "text": [
      " 10%|█         | 10/100 [01:27<14:39,  9.77s/it]"
     ]
    },
    {
     "name": "stdout",
     "output_type": "stream",
     "text": [
      "Epoch 10, Accuracy: 95.38%\n"
     ]
    },
    {
     "name": "stderr",
     "output_type": "stream",
     "text": [
      " 20%|██        | 20/100 [02:54<12:57,  9.72s/it]"
     ]
    },
    {
     "name": "stdout",
     "output_type": "stream",
     "text": [
      "Epoch 20, Accuracy: 97.43%\n"
     ]
    },
    {
     "name": "stderr",
     "output_type": "stream",
     "text": [
      " 30%|███       | 30/100 [04:22<11:42, 10.04s/it]"
     ]
    },
    {
     "name": "stdout",
     "output_type": "stream",
     "text": [
      "Epoch 30, Accuracy: 97.33%\n"
     ]
    },
    {
     "name": "stderr",
     "output_type": "stream",
     "text": [
      " 40%|████      | 40/100 [05:49<09:38,  9.64s/it]"
     ]
    },
    {
     "name": "stdout",
     "output_type": "stream",
     "text": [
      "Epoch 40, Accuracy: 97.50%\n"
     ]
    },
    {
     "name": "stderr",
     "output_type": "stream",
     "text": [
      " 50%|█████     | 50/100 [07:17<08:03,  9.67s/it]"
     ]
    },
    {
     "name": "stdout",
     "output_type": "stream",
     "text": [
      "Epoch 50, Accuracy: 97.45%\n"
     ]
    },
    {
     "name": "stderr",
     "output_type": "stream",
     "text": [
      " 60%|██████    | 60/100 [08:44<06:27,  9.69s/it]"
     ]
    },
    {
     "name": "stdout",
     "output_type": "stream",
     "text": [
      "Epoch 60, Accuracy: 97.45%\n"
     ]
    },
    {
     "name": "stderr",
     "output_type": "stream",
     "text": [
      " 70%|███████   | 70/100 [10:12<04:51,  9.72s/it]"
     ]
    },
    {
     "name": "stdout",
     "output_type": "stream",
     "text": [
      "Epoch 70, Accuracy: 97.40%\n"
     ]
    },
    {
     "name": "stderr",
     "output_type": "stream",
     "text": [
      " 80%|████████  | 80/100 [11:40<03:13,  9.68s/it]"
     ]
    },
    {
     "name": "stdout",
     "output_type": "stream",
     "text": [
      "Epoch 80, Accuracy: 97.33%\n"
     ]
    },
    {
     "name": "stderr",
     "output_type": "stream",
     "text": [
      " 90%|█████████ | 90/100 [13:06<01:35,  9.60s/it]"
     ]
    },
    {
     "name": "stdout",
     "output_type": "stream",
     "text": [
      "Epoch 90, Accuracy: 97.35%\n"
     ]
    },
    {
     "name": "stderr",
     "output_type": "stream",
     "text": [
      "100%|██████████| 100/100 [14:34<00:00,  8.75s/it]\n"
     ]
    },
    {
     "name": "stdout",
     "output_type": "stream",
     "text": [
      "Epoch 100, Accuracy: 97.42%\n"
     ]
    },
    {
     "name": "stderr",
     "output_type": "stream",
     "text": [
      "100%|██████████| 830/830 [00:49<00:00, 16.69it/s]\n"
     ]
    },
    {
     "name": "stdout",
     "output_type": "stream",
     "text": [
      "Adding 53 images to training set\n",
      "8\n"
     ]
    },
    {
     "name": "stderr",
     "output_type": "stream",
     "text": [
      " 10%|█         | 10/100 [01:32<15:20, 10.23s/it]"
     ]
    },
    {
     "name": "stdout",
     "output_type": "stream",
     "text": [
      "Epoch 10, Accuracy: 93.62%\n"
     ]
    },
    {
     "name": "stderr",
     "output_type": "stream",
     "text": [
      " 20%|██        | 20/100 [03:07<13:51, 10.39s/it]"
     ]
    },
    {
     "name": "stdout",
     "output_type": "stream",
     "text": [
      "Epoch 20, Accuracy: 97.42%\n"
     ]
    },
    {
     "name": "stderr",
     "output_type": "stream",
     "text": [
      " 30%|███       | 30/100 [04:40<11:58, 10.27s/it]"
     ]
    },
    {
     "name": "stdout",
     "output_type": "stream",
     "text": [
      "Epoch 30, Accuracy: 97.53%\n"
     ]
    },
    {
     "name": "stderr",
     "output_type": "stream",
     "text": [
      " 40%|████      | 40/100 [06:13<10:22, 10.37s/it]"
     ]
    },
    {
     "name": "stdout",
     "output_type": "stream",
     "text": [
      "Epoch 40, Accuracy: 97.57%\n"
     ]
    },
    {
     "name": "stderr",
     "output_type": "stream",
     "text": [
      " 50%|█████     | 50/100 [07:46<08:30, 10.22s/it]"
     ]
    },
    {
     "name": "stdout",
     "output_type": "stream",
     "text": [
      "Epoch 50, Accuracy: 97.58%\n"
     ]
    },
    {
     "name": "stderr",
     "output_type": "stream",
     "text": [
      " 60%|██████    | 60/100 [09:19<06:50, 10.26s/it]"
     ]
    },
    {
     "name": "stdout",
     "output_type": "stream",
     "text": [
      "Epoch 60, Accuracy: 97.60%\n"
     ]
    },
    {
     "name": "stderr",
     "output_type": "stream",
     "text": [
      " 70%|███████   | 70/100 [10:53<05:11, 10.37s/it]"
     ]
    },
    {
     "name": "stdout",
     "output_type": "stream",
     "text": [
      "Epoch 70, Accuracy: 97.58%\n"
     ]
    },
    {
     "name": "stderr",
     "output_type": "stream",
     "text": [
      " 80%|████████  | 80/100 [12:27<03:25, 10.29s/it]"
     ]
    },
    {
     "name": "stdout",
     "output_type": "stream",
     "text": [
      "Epoch 80, Accuracy: 97.65%\n"
     ]
    },
    {
     "name": "stderr",
     "output_type": "stream",
     "text": [
      " 90%|█████████ | 90/100 [14:01<01:44, 10.42s/it]"
     ]
    },
    {
     "name": "stdout",
     "output_type": "stream",
     "text": [
      "Epoch 90, Accuracy: 97.60%\n"
     ]
    },
    {
     "name": "stderr",
     "output_type": "stream",
     "text": [
      "100%|██████████| 100/100 [15:34<00:00,  9.34s/it]\n"
     ]
    },
    {
     "name": "stdout",
     "output_type": "stream",
     "text": [
      "Epoch 100, Accuracy: 97.60%\n"
     ]
    },
    {
     "name": "stderr",
     "output_type": "stream",
     "text": [
      "100%|██████████| 829/829 [00:49<00:00, 16.69it/s]\n"
     ]
    },
    {
     "name": "stdout",
     "output_type": "stream",
     "text": [
      "Adding 53 images to training set\n",
      "9\n"
     ]
    },
    {
     "name": "stderr",
     "output_type": "stream",
     "text": [
      " 10%|█         | 10/100 [01:33<15:37, 10.41s/it]"
     ]
    },
    {
     "name": "stdout",
     "output_type": "stream",
     "text": [
      "Epoch 10, Accuracy: 94.00%\n"
     ]
    },
    {
     "name": "stderr",
     "output_type": "stream",
     "text": [
      " 20%|██        | 20/100 [03:05<13:34, 10.19s/it]"
     ]
    },
    {
     "name": "stdout",
     "output_type": "stream",
     "text": [
      "Epoch 20, Accuracy: 95.93%\n"
     ]
    },
    {
     "name": "stderr",
     "output_type": "stream",
     "text": [
      " 30%|███       | 30/100 [04:38<11:48, 10.12s/it]"
     ]
    },
    {
     "name": "stdout",
     "output_type": "stream",
     "text": [
      "Epoch 30, Accuracy: 97.07%\n"
     ]
    },
    {
     "name": "stderr",
     "output_type": "stream",
     "text": [
      " 40%|████      | 40/100 [06:10<10:08, 10.14s/it]"
     ]
    },
    {
     "name": "stdout",
     "output_type": "stream",
     "text": [
      "Epoch 40, Accuracy: 97.80%\n"
     ]
    },
    {
     "name": "stderr",
     "output_type": "stream",
     "text": [
      " 50%|█████     | 50/100 [07:44<08:43, 10.47s/it]"
     ]
    },
    {
     "name": "stdout",
     "output_type": "stream",
     "text": [
      "Epoch 50, Accuracy: 97.60%\n"
     ]
    },
    {
     "name": "stderr",
     "output_type": "stream",
     "text": [
      " 60%|██████    | 60/100 [09:17<06:44, 10.12s/it]"
     ]
    },
    {
     "name": "stdout",
     "output_type": "stream",
     "text": [
      "Epoch 60, Accuracy: 97.77%\n"
     ]
    },
    {
     "name": "stderr",
     "output_type": "stream",
     "text": [
      " 70%|███████   | 70/100 [10:49<05:05, 10.17s/it]"
     ]
    },
    {
     "name": "stdout",
     "output_type": "stream",
     "text": [
      "Epoch 70, Accuracy: 97.72%\n"
     ]
    },
    {
     "name": "stderr",
     "output_type": "stream",
     "text": [
      " 80%|████████  | 80/100 [12:24<03:35, 10.79s/it]"
     ]
    },
    {
     "name": "stdout",
     "output_type": "stream",
     "text": [
      "Epoch 80, Accuracy: 97.62%\n"
     ]
    },
    {
     "name": "stderr",
     "output_type": "stream",
     "text": [
      " 90%|█████████ | 90/100 [13:57<01:42, 10.25s/it]"
     ]
    },
    {
     "name": "stdout",
     "output_type": "stream",
     "text": [
      "Epoch 90, Accuracy: 97.77%\n"
     ]
    },
    {
     "name": "stderr",
     "output_type": "stream",
     "text": [
      "100%|██████████| 100/100 [15:29<00:00,  9.29s/it]\n"
     ]
    },
    {
     "name": "stdout",
     "output_type": "stream",
     "text": [
      "Epoch 100, Accuracy: 97.70%\n"
     ]
    },
    {
     "name": "stderr",
     "output_type": "stream",
     "text": [
      "100%|██████████| 828/828 [00:49<00:00, 16.87it/s]\n"
     ]
    },
    {
     "name": "stdout",
     "output_type": "stream",
     "text": [
      "Adding 52 images to training set\n",
      "10\n"
     ]
    },
    {
     "name": "stderr",
     "output_type": "stream",
     "text": [
      " 10%|█         | 10/100 [01:39<16:18, 10.88s/it]"
     ]
    },
    {
     "name": "stdout",
     "output_type": "stream",
     "text": [
      "Epoch 10, Accuracy: 95.28%\n"
     ]
    },
    {
     "name": "stderr",
     "output_type": "stream",
     "text": [
      " 20%|██        | 20/100 [03:18<14:26, 10.83s/it]"
     ]
    },
    {
     "name": "stdout",
     "output_type": "stream",
     "text": [
      "Epoch 20, Accuracy: 97.65%\n"
     ]
    },
    {
     "name": "stderr",
     "output_type": "stream",
     "text": [
      " 30%|███       | 30/100 [04:58<12:38, 10.83s/it]"
     ]
    },
    {
     "name": "stdout",
     "output_type": "stream",
     "text": [
      "Epoch 30, Accuracy: 97.83%\n"
     ]
    },
    {
     "name": "stderr",
     "output_type": "stream",
     "text": [
      " 40%|████      | 40/100 [06:38<10:55, 10.92s/it]"
     ]
    },
    {
     "name": "stdout",
     "output_type": "stream",
     "text": [
      "Epoch 40, Accuracy: 97.93%\n"
     ]
    },
    {
     "name": "stderr",
     "output_type": "stream",
     "text": [
      " 50%|█████     | 50/100 [08:18<09:08, 10.98s/it]"
     ]
    },
    {
     "name": "stdout",
     "output_type": "stream",
     "text": [
      "Epoch 50, Accuracy: 98.00%\n"
     ]
    },
    {
     "name": "stderr",
     "output_type": "stream",
     "text": [
      " 60%|██████    | 60/100 [09:56<07:12, 10.81s/it]"
     ]
    },
    {
     "name": "stdout",
     "output_type": "stream",
     "text": [
      "Epoch 60, Accuracy: 98.05%\n"
     ]
    },
    {
     "name": "stderr",
     "output_type": "stream",
     "text": [
      " 70%|███████   | 70/100 [11:35<05:24, 10.83s/it]"
     ]
    },
    {
     "name": "stdout",
     "output_type": "stream",
     "text": [
      "Epoch 70, Accuracy: 98.05%\n"
     ]
    },
    {
     "name": "stderr",
     "output_type": "stream",
     "text": [
      " 80%|████████  | 80/100 [13:15<03:39, 10.99s/it]"
     ]
    },
    {
     "name": "stdout",
     "output_type": "stream",
     "text": [
      "Epoch 80, Accuracy: 98.03%\n"
     ]
    },
    {
     "name": "stderr",
     "output_type": "stream",
     "text": [
      " 90%|█████████ | 90/100 [14:54<01:48, 10.87s/it]"
     ]
    },
    {
     "name": "stdout",
     "output_type": "stream",
     "text": [
      "Epoch 90, Accuracy: 98.00%\n"
     ]
    },
    {
     "name": "stderr",
     "output_type": "stream",
     "text": [
      "100%|██████████| 100/100 [16:34<00:00,  9.95s/it]\n"
     ]
    },
    {
     "name": "stdout",
     "output_type": "stream",
     "text": [
      "Epoch 100, Accuracy: 97.97%\n"
     ]
    },
    {
     "name": "stderr",
     "output_type": "stream",
     "text": [
      "100%|██████████| 828/828 [00:49<00:00, 16.84it/s]\n"
     ]
    },
    {
     "name": "stdout",
     "output_type": "stream",
     "text": [
      "Adding 52 images to training set\n",
      "11\n"
     ]
    },
    {
     "name": "stderr",
     "output_type": "stream",
     "text": [
      " 10%|█         | 10/100 [01:44<17:24, 11.61s/it]"
     ]
    },
    {
     "name": "stdout",
     "output_type": "stream",
     "text": [
      "Epoch 10, Accuracy: 93.98%\n"
     ]
    },
    {
     "name": "stderr",
     "output_type": "stream",
     "text": [
      " 20%|██        | 20/100 [03:28<15:06, 11.33s/it]"
     ]
    },
    {
     "name": "stdout",
     "output_type": "stream",
     "text": [
      "Epoch 20, Accuracy: 97.93%\n"
     ]
    },
    {
     "name": "stderr",
     "output_type": "stream",
     "text": [
      " 30%|███       | 30/100 [05:13<13:20, 11.43s/it]"
     ]
    },
    {
     "name": "stdout",
     "output_type": "stream",
     "text": [
      "Epoch 30, Accuracy: 98.02%\n"
     ]
    },
    {
     "name": "stderr",
     "output_type": "stream",
     "text": [
      " 40%|████      | 40/100 [06:57<11:23, 11.39s/it]"
     ]
    },
    {
     "name": "stdout",
     "output_type": "stream",
     "text": [
      "Epoch 40, Accuracy: 98.28%\n"
     ]
    },
    {
     "name": "stderr",
     "output_type": "stream",
     "text": [
      " 50%|█████     | 50/100 [08:41<09:31, 11.43s/it]"
     ]
    },
    {
     "name": "stdout",
     "output_type": "stream",
     "text": [
      "Epoch 50, Accuracy: 98.00%\n"
     ]
    },
    {
     "name": "stderr",
     "output_type": "stream",
     "text": [
      " 60%|██████    | 60/100 [10:26<07:34, 11.36s/it]"
     ]
    },
    {
     "name": "stdout",
     "output_type": "stream",
     "text": [
      "Epoch 60, Accuracy: 98.03%\n"
     ]
    },
    {
     "name": "stderr",
     "output_type": "stream",
     "text": [
      " 70%|███████   | 70/100 [12:10<05:42, 11.40s/it]"
     ]
    },
    {
     "name": "stdout",
     "output_type": "stream",
     "text": [
      "Epoch 70, Accuracy: 98.08%\n"
     ]
    },
    {
     "name": "stderr",
     "output_type": "stream",
     "text": [
      " 80%|████████  | 80/100 [13:56<03:50, 11.51s/it]"
     ]
    },
    {
     "name": "stdout",
     "output_type": "stream",
     "text": [
      "Epoch 80, Accuracy: 98.02%\n"
     ]
    },
    {
     "name": "stderr",
     "output_type": "stream",
     "text": [
      " 90%|█████████ | 90/100 [15:39<01:53, 11.34s/it]"
     ]
    },
    {
     "name": "stdout",
     "output_type": "stream",
     "text": [
      "Epoch 90, Accuracy: 98.08%\n"
     ]
    },
    {
     "name": "stderr",
     "output_type": "stream",
     "text": [
      "100%|██████████| 100/100 [17:24<00:00, 10.44s/it]\n"
     ]
    },
    {
     "name": "stdout",
     "output_type": "stream",
     "text": [
      "Epoch 100, Accuracy: 97.93%\n"
     ]
    },
    {
     "name": "stderr",
     "output_type": "stream",
     "text": [
      "100%|██████████| 827/827 [00:49<00:00, 16.60it/s]\n"
     ]
    },
    {
     "name": "stdout",
     "output_type": "stream",
     "text": [
      "Adding 52 images to training set\n",
      "12\n"
     ]
    },
    {
     "name": "stderr",
     "output_type": "stream",
     "text": [
      " 10%|█         | 10/100 [01:51<18:07, 12.08s/it]"
     ]
    },
    {
     "name": "stdout",
     "output_type": "stream",
     "text": [
      "Epoch 10, Accuracy: 95.65%\n"
     ]
    },
    {
     "name": "stderr",
     "output_type": "stream",
     "text": [
      " 20%|██        | 20/100 [03:41<16:08, 12.10s/it]"
     ]
    },
    {
     "name": "stdout",
     "output_type": "stream",
     "text": [
      "Epoch 20, Accuracy: 96.62%\n"
     ]
    },
    {
     "name": "stderr",
     "output_type": "stream",
     "text": [
      " 30%|███       | 30/100 [05:32<14:11, 12.17s/it]"
     ]
    },
    {
     "name": "stdout",
     "output_type": "stream",
     "text": [
      "Epoch 30, Accuracy: 97.10%\n"
     ]
    },
    {
     "name": "stderr",
     "output_type": "stream",
     "text": [
      " 40%|████      | 40/100 [07:23<12:02, 12.04s/it]"
     ]
    },
    {
     "name": "stdout",
     "output_type": "stream",
     "text": [
      "Epoch 40, Accuracy: 97.43%\n"
     ]
    },
    {
     "name": "stderr",
     "output_type": "stream",
     "text": [
      " 50%|█████     | 50/100 [09:14<09:59, 11.98s/it]"
     ]
    },
    {
     "name": "stdout",
     "output_type": "stream",
     "text": [
      "Epoch 50, Accuracy: 97.85%\n"
     ]
    },
    {
     "name": "stderr",
     "output_type": "stream",
     "text": [
      " 60%|██████    | 60/100 [11:05<08:01, 12.04s/it]"
     ]
    },
    {
     "name": "stdout",
     "output_type": "stream",
     "text": [
      "Epoch 60, Accuracy: 98.12%\n"
     ]
    },
    {
     "name": "stderr",
     "output_type": "stream",
     "text": [
      " 70%|███████   | 70/100 [12:57<06:02, 12.08s/it]"
     ]
    },
    {
     "name": "stdout",
     "output_type": "stream",
     "text": [
      "Epoch 70, Accuracy: 98.07%\n"
     ]
    },
    {
     "name": "stderr",
     "output_type": "stream",
     "text": [
      " 80%|████████  | 80/100 [14:49<04:02, 12.15s/it]"
     ]
    },
    {
     "name": "stdout",
     "output_type": "stream",
     "text": [
      "Epoch 80, Accuracy: 98.15%\n"
     ]
    },
    {
     "name": "stderr",
     "output_type": "stream",
     "text": [
      " 90%|█████████ | 90/100 [16:42<02:04, 12.41s/it]"
     ]
    },
    {
     "name": "stdout",
     "output_type": "stream",
     "text": [
      "Epoch 90, Accuracy: 98.28%\n"
     ]
    },
    {
     "name": "stderr",
     "output_type": "stream",
     "text": [
      "100%|██████████| 100/100 [18:34<00:00, 11.14s/it]\n"
     ]
    },
    {
     "name": "stdout",
     "output_type": "stream",
     "text": [
      "Epoch 100, Accuracy: 98.20%\n"
     ]
    },
    {
     "name": "stderr",
     "output_type": "stream",
     "text": [
      "100%|██████████| 826/826 [00:49<00:00, 16.76it/s]\n"
     ]
    },
    {
     "name": "stdout",
     "output_type": "stream",
     "text": [
      "Adding 52 images to training set\n",
      "13\n"
     ]
    },
    {
     "name": "stderr",
     "output_type": "stream",
     "text": [
      " 10%|█         | 10/100 [01:59<19:13, 12.82s/it]"
     ]
    },
    {
     "name": "stdout",
     "output_type": "stream",
     "text": [
      "Epoch 10, Accuracy: 94.03%\n"
     ]
    },
    {
     "name": "stderr",
     "output_type": "stream",
     "text": [
      " 20%|██        | 20/100 [03:55<16:48, 12.60s/it]"
     ]
    },
    {
     "name": "stdout",
     "output_type": "stream",
     "text": [
      "Epoch 20, Accuracy: 97.27%\n"
     ]
    },
    {
     "name": "stderr",
     "output_type": "stream",
     "text": [
      " 30%|███       | 30/100 [05:52<14:49, 12.71s/it]"
     ]
    },
    {
     "name": "stdout",
     "output_type": "stream",
     "text": [
      "Epoch 30, Accuracy: 96.53%\n"
     ]
    },
    {
     "name": "stderr",
     "output_type": "stream",
     "text": [
      " 40%|████      | 40/100 [07:52<13:02, 13.04s/it]"
     ]
    },
    {
     "name": "stdout",
     "output_type": "stream",
     "text": [
      "Epoch 40, Accuracy: 97.58%\n"
     ]
    },
    {
     "name": "stderr",
     "output_type": "stream",
     "text": [
      " 50%|█████     | 50/100 [09:48<10:29, 12.60s/it]"
     ]
    },
    {
     "name": "stdout",
     "output_type": "stream",
     "text": [
      "Epoch 50, Accuracy: 97.75%\n"
     ]
    },
    {
     "name": "stderr",
     "output_type": "stream",
     "text": [
      " 60%|██████    | 60/100 [11:45<08:22, 12.55s/it]"
     ]
    },
    {
     "name": "stdout",
     "output_type": "stream",
     "text": [
      "Epoch 60, Accuracy: 97.87%\n"
     ]
    },
    {
     "name": "stderr",
     "output_type": "stream",
     "text": [
      " 70%|███████   | 70/100 [13:40<06:16, 12.54s/it]"
     ]
    },
    {
     "name": "stdout",
     "output_type": "stream",
     "text": [
      "Epoch 70, Accuracy: 98.00%\n"
     ]
    },
    {
     "name": "stderr",
     "output_type": "stream",
     "text": [
      " 80%|████████  | 80/100 [15:37<04:10, 12.54s/it]"
     ]
    },
    {
     "name": "stdout",
     "output_type": "stream",
     "text": [
      "Epoch 80, Accuracy: 97.83%\n"
     ]
    },
    {
     "name": "stderr",
     "output_type": "stream",
     "text": [
      " 90%|█████████ | 90/100 [17:32<02:05, 12.53s/it]"
     ]
    },
    {
     "name": "stdout",
     "output_type": "stream",
     "text": [
      "Epoch 90, Accuracy: 97.95%\n"
     ]
    },
    {
     "name": "stderr",
     "output_type": "stream",
     "text": [
      "100%|██████████| 100/100 [19:28<00:00, 11.68s/it]\n"
     ]
    },
    {
     "name": "stdout",
     "output_type": "stream",
     "text": [
      "Epoch 100, Accuracy: 98.03%\n"
     ]
    },
    {
     "name": "stderr",
     "output_type": "stream",
     "text": [
      "100%|██████████| 825/825 [00:49<00:00, 16.61it/s]\n"
     ]
    },
    {
     "name": "stdout",
     "output_type": "stream",
     "text": [
      "Adding 52 images to training set\n",
      "14\n"
     ]
    },
    {
     "name": "stderr",
     "output_type": "stream",
     "text": [
      " 10%|█         | 10/100 [01:58<19:18, 12.87s/it]"
     ]
    },
    {
     "name": "stdout",
     "output_type": "stream",
     "text": [
      "Epoch 10, Accuracy: 95.27%\n"
     ]
    },
    {
     "name": "stderr",
     "output_type": "stream",
     "text": [
      " 20%|██        | 20/100 [03:54<16:46, 12.58s/it]"
     ]
    },
    {
     "name": "stdout",
     "output_type": "stream",
     "text": [
      "Epoch 20, Accuracy: 97.93%\n"
     ]
    },
    {
     "name": "stderr",
     "output_type": "stream",
     "text": [
      " 30%|███       | 30/100 [05:52<14:50, 12.73s/it]"
     ]
    },
    {
     "name": "stdout",
     "output_type": "stream",
     "text": [
      "Epoch 30, Accuracy: 96.00%\n"
     ]
    },
    {
     "name": "stderr",
     "output_type": "stream",
     "text": [
      " 40%|████      | 40/100 [07:50<12:49, 12.83s/it]"
     ]
    },
    {
     "name": "stdout",
     "output_type": "stream",
     "text": [
      "Epoch 40, Accuracy: 96.77%\n"
     ]
    },
    {
     "name": "stderr",
     "output_type": "stream",
     "text": [
      " 50%|█████     | 50/100 [09:48<10:40, 12.82s/it]"
     ]
    },
    {
     "name": "stdout",
     "output_type": "stream",
     "text": [
      "Epoch 50, Accuracy: 97.88%\n"
     ]
    },
    {
     "name": "stderr",
     "output_type": "stream",
     "text": [
      " 60%|██████    | 60/100 [11:45<08:29, 12.74s/it]"
     ]
    },
    {
     "name": "stdout",
     "output_type": "stream",
     "text": [
      "Epoch 60, Accuracy: 98.22%\n"
     ]
    },
    {
     "name": "stderr",
     "output_type": "stream",
     "text": [
      " 70%|███████   | 70/100 [13:43<06:21, 12.72s/it]"
     ]
    },
    {
     "name": "stdout",
     "output_type": "stream",
     "text": [
      "Epoch 70, Accuracy: 98.13%\n"
     ]
    },
    {
     "name": "stderr",
     "output_type": "stream",
     "text": [
      " 80%|████████  | 80/100 [15:40<04:13, 12.66s/it]"
     ]
    },
    {
     "name": "stdout",
     "output_type": "stream",
     "text": [
      "Epoch 80, Accuracy: 98.17%\n"
     ]
    },
    {
     "name": "stderr",
     "output_type": "stream",
     "text": [
      " 90%|█████████ | 90/100 [17:37<02:06, 12.62s/it]"
     ]
    },
    {
     "name": "stdout",
     "output_type": "stream",
     "text": [
      "Epoch 90, Accuracy: 98.20%\n"
     ]
    },
    {
     "name": "stderr",
     "output_type": "stream",
     "text": [
      "100%|██████████| 100/100 [19:34<00:00, 11.74s/it]\n"
     ]
    },
    {
     "name": "stdout",
     "output_type": "stream",
     "text": [
      "Epoch 100, Accuracy: 98.15%\n"
     ]
    },
    {
     "name": "stderr",
     "output_type": "stream",
     "text": [
      "100%|██████████| 824/824 [00:49<00:00, 16.64it/s]\n"
     ]
    },
    {
     "name": "stdout",
     "output_type": "stream",
     "text": [
      "Adding 52 images to training set\n",
      "15\n"
     ]
    },
    {
     "name": "stderr",
     "output_type": "stream",
     "text": [
      " 10%|█         | 10/100 [02:01<19:32, 13.02s/it]"
     ]
    },
    {
     "name": "stdout",
     "output_type": "stream",
     "text": [
      "Epoch 10, Accuracy: 93.47%\n"
     ]
    },
    {
     "name": "stderr",
     "output_type": "stream",
     "text": [
      " 20%|██        | 20/100 [04:02<17:20, 13.01s/it]"
     ]
    },
    {
     "name": "stdout",
     "output_type": "stream",
     "text": [
      "Epoch 20, Accuracy: 97.73%\n"
     ]
    },
    {
     "name": "stderr",
     "output_type": "stream",
     "text": [
      " 30%|███       | 30/100 [06:05<15:23, 13.19s/it]"
     ]
    },
    {
     "name": "stdout",
     "output_type": "stream",
     "text": [
      "Epoch 30, Accuracy: 98.07%\n"
     ]
    },
    {
     "name": "stderr",
     "output_type": "stream",
     "text": [
      " 40%|████      | 40/100 [08:06<13:11, 13.19s/it]"
     ]
    },
    {
     "name": "stdout",
     "output_type": "stream",
     "text": [
      "Epoch 40, Accuracy: 96.17%\n"
     ]
    },
    {
     "name": "stderr",
     "output_type": "stream",
     "text": [
      " 50%|█████     | 50/100 [10:08<10:53, 13.07s/it]"
     ]
    },
    {
     "name": "stdout",
     "output_type": "stream",
     "text": [
      "Epoch 50, Accuracy: 97.45%\n"
     ]
    },
    {
     "name": "stderr",
     "output_type": "stream",
     "text": [
      " 60%|██████    | 60/100 [12:10<08:41, 13.04s/it]"
     ]
    },
    {
     "name": "stdout",
     "output_type": "stream",
     "text": [
      "Epoch 60, Accuracy: 98.03%\n"
     ]
    },
    {
     "name": "stderr",
     "output_type": "stream",
     "text": [
      " 70%|███████   | 70/100 [14:11<06:30, 13.02s/it]"
     ]
    },
    {
     "name": "stdout",
     "output_type": "stream",
     "text": [
      "Epoch 70, Accuracy: 98.28%\n"
     ]
    },
    {
     "name": "stderr",
     "output_type": "stream",
     "text": [
      " 80%|████████  | 80/100 [16:15<04:25, 13.29s/it]"
     ]
    },
    {
     "name": "stdout",
     "output_type": "stream",
     "text": [
      "Epoch 80, Accuracy: 98.30%\n"
     ]
    },
    {
     "name": "stderr",
     "output_type": "stream",
     "text": [
      " 90%|█████████ | 90/100 [18:17<02:11, 13.17s/it]"
     ]
    },
    {
     "name": "stdout",
     "output_type": "stream",
     "text": [
      "Epoch 90, Accuracy: 98.47%\n"
     ]
    },
    {
     "name": "stderr",
     "output_type": "stream",
     "text": [
      "100%|██████████| 100/100 [20:20<00:00, 12.21s/it]\n"
     ]
    },
    {
     "name": "stdout",
     "output_type": "stream",
     "text": [
      "Epoch 100, Accuracy: 98.55%\n"
     ]
    },
    {
     "name": "stderr",
     "output_type": "stream",
     "text": [
      "100%|██████████| 823/823 [00:49<00:00, 16.68it/s]\n"
     ]
    },
    {
     "name": "stdout",
     "output_type": "stream",
     "text": [
      "Adding 52 images to training set\n",
      "16\n"
     ]
    },
    {
     "name": "stderr",
     "output_type": "stream",
     "text": [
      " 10%|█         | 10/100 [02:09<20:54, 13.94s/it]"
     ]
    },
    {
     "name": "stdout",
     "output_type": "stream",
     "text": [
      "Epoch 10, Accuracy: 94.68%\n"
     ]
    },
    {
     "name": "stderr",
     "output_type": "stream",
     "text": [
      " 20%|██        | 20/100 [04:18<18:34, 13.93s/it]"
     ]
    },
    {
     "name": "stdout",
     "output_type": "stream",
     "text": [
      "Epoch 20, Accuracy: 97.00%\n"
     ]
    },
    {
     "name": "stderr",
     "output_type": "stream",
     "text": [
      " 30%|███       | 30/100 [06:26<16:06, 13.81s/it]"
     ]
    },
    {
     "name": "stdout",
     "output_type": "stream",
     "text": [
      "Epoch 30, Accuracy: 94.63%\n"
     ]
    },
    {
     "name": "stderr",
     "output_type": "stream",
     "text": [
      " 40%|████      | 40/100 [08:35<13:56, 13.94s/it]"
     ]
    },
    {
     "name": "stdout",
     "output_type": "stream",
     "text": [
      "Epoch 40, Accuracy: 97.73%\n"
     ]
    },
    {
     "name": "stderr",
     "output_type": "stream",
     "text": [
      " 50%|█████     | 50/100 [10:45<11:32, 13.85s/it]"
     ]
    },
    {
     "name": "stdout",
     "output_type": "stream",
     "text": [
      "Epoch 50, Accuracy: 97.92%\n"
     ]
    },
    {
     "name": "stderr",
     "output_type": "stream",
     "text": [
      " 60%|██████    | 60/100 [12:53<09:10, 13.75s/it]"
     ]
    },
    {
     "name": "stdout",
     "output_type": "stream",
     "text": [
      "Epoch 60, Accuracy: 98.03%\n"
     ]
    },
    {
     "name": "stderr",
     "output_type": "stream",
     "text": [
      " 70%|███████   | 70/100 [15:02<06:54, 13.81s/it]"
     ]
    },
    {
     "name": "stdout",
     "output_type": "stream",
     "text": [
      "Epoch 70, Accuracy: 98.03%\n"
     ]
    },
    {
     "name": "stderr",
     "output_type": "stream",
     "text": [
      " 80%|████████  | 80/100 [17:10<04:36, 13.83s/it]"
     ]
    },
    {
     "name": "stdout",
     "output_type": "stream",
     "text": [
      "Epoch 80, Accuracy: 98.00%\n"
     ]
    },
    {
     "name": "stderr",
     "output_type": "stream",
     "text": [
      " 90%|█████████ | 90/100 [19:19<02:19, 13.98s/it]"
     ]
    },
    {
     "name": "stdout",
     "output_type": "stream",
     "text": [
      "Epoch 90, Accuracy: 98.05%\n"
     ]
    },
    {
     "name": "stderr",
     "output_type": "stream",
     "text": [
      "100%|██████████| 100/100 [21:28<00:00, 12.89s/it]\n"
     ]
    },
    {
     "name": "stdout",
     "output_type": "stream",
     "text": [
      "Epoch 100, Accuracy: 98.05%\n"
     ]
    },
    {
     "name": "stderr",
     "output_type": "stream",
     "text": [
      "100%|██████████| 823/823 [00:49<00:00, 16.67it/s]\n"
     ]
    },
    {
     "name": "stdout",
     "output_type": "stream",
     "text": [
      "Adding 52 images to training set\n",
      "17\n"
     ]
    },
    {
     "name": "stderr",
     "output_type": "stream",
     "text": [
      " 10%|█         | 10/100 [02:15<21:49, 14.55s/it]"
     ]
    },
    {
     "name": "stdout",
     "output_type": "stream",
     "text": [
      "Epoch 10, Accuracy: 92.78%\n"
     ]
    },
    {
     "name": "stderr",
     "output_type": "stream",
     "text": [
      " 20%|██        | 20/100 [04:29<19:06, 14.33s/it]"
     ]
    },
    {
     "name": "stdout",
     "output_type": "stream",
     "text": [
      "Epoch 20, Accuracy: 97.78%\n"
     ]
    },
    {
     "name": "stderr",
     "output_type": "stream",
     "text": [
      " 30%|███       | 30/100 [06:42<16:39, 14.28s/it]"
     ]
    },
    {
     "name": "stdout",
     "output_type": "stream",
     "text": [
      "Epoch 30, Accuracy: 97.67%\n"
     ]
    },
    {
     "name": "stderr",
     "output_type": "stream",
     "text": [
      " 40%|████      | 40/100 [08:56<14:22, 14.38s/it]"
     ]
    },
    {
     "name": "stdout",
     "output_type": "stream",
     "text": [
      "Epoch 40, Accuracy: 97.13%\n"
     ]
    },
    {
     "name": "stderr",
     "output_type": "stream",
     "text": [
      " 50%|█████     | 50/100 [11:09<11:54, 14.30s/it]"
     ]
    },
    {
     "name": "stdout",
     "output_type": "stream",
     "text": [
      "Epoch 50, Accuracy: 96.55%\n"
     ]
    },
    {
     "name": "stderr",
     "output_type": "stream",
     "text": [
      " 60%|██████    | 60/100 [13:23<09:30, 14.25s/it]"
     ]
    },
    {
     "name": "stdout",
     "output_type": "stream",
     "text": [
      "Epoch 60, Accuracy: 96.45%\n"
     ]
    },
    {
     "name": "stderr",
     "output_type": "stream",
     "text": [
      " 70%|███████   | 70/100 [15:36<07:06, 14.21s/it]"
     ]
    },
    {
     "name": "stdout",
     "output_type": "stream",
     "text": [
      "Epoch 70, Accuracy: 97.87%\n"
     ]
    },
    {
     "name": "stderr",
     "output_type": "stream",
     "text": [
      " 80%|████████  | 80/100 [17:49<04:44, 14.25s/it]"
     ]
    },
    {
     "name": "stdout",
     "output_type": "stream",
     "text": [
      "Epoch 80, Accuracy: 98.10%\n"
     ]
    },
    {
     "name": "stderr",
     "output_type": "stream",
     "text": [
      " 90%|█████████ | 90/100 [20:04<02:23, 14.38s/it]"
     ]
    },
    {
     "name": "stdout",
     "output_type": "stream",
     "text": [
      "Epoch 90, Accuracy: 97.93%\n"
     ]
    },
    {
     "name": "stderr",
     "output_type": "stream",
     "text": [
      "100%|██████████| 100/100 [22:18<00:00, 13.38s/it]\n"
     ]
    },
    {
     "name": "stdout",
     "output_type": "stream",
     "text": [
      "Epoch 100, Accuracy: 98.03%\n"
     ]
    },
    {
     "name": "stderr",
     "output_type": "stream",
     "text": [
      "100%|██████████| 822/822 [00:48<00:00, 16.81it/s]\n"
     ]
    },
    {
     "name": "stdout",
     "output_type": "stream",
     "text": [
      "Adding 52 images to training set\n",
      "18\n"
     ]
    },
    {
     "name": "stderr",
     "output_type": "stream",
     "text": [
      " 10%|█         | 10/100 [02:20<22:21, 14.91s/it]"
     ]
    },
    {
     "name": "stdout",
     "output_type": "stream",
     "text": [
      "Epoch 10, Accuracy: 96.17%\n"
     ]
    },
    {
     "name": "stderr",
     "output_type": "stream",
     "text": [
      " 20%|██        | 20/100 [04:41<20:00, 15.01s/it]"
     ]
    },
    {
     "name": "stdout",
     "output_type": "stream",
     "text": [
      "Epoch 20, Accuracy: 96.30%\n"
     ]
    },
    {
     "name": "stderr",
     "output_type": "stream",
     "text": [
      " 30%|███       | 30/100 [07:01<17:31, 15.02s/it]"
     ]
    },
    {
     "name": "stdout",
     "output_type": "stream",
     "text": [
      "Epoch 30, Accuracy: 98.13%\n"
     ]
    },
    {
     "name": "stderr",
     "output_type": "stream",
     "text": [
      " 40%|████      | 40/100 [09:23<15:14, 15.25s/it]"
     ]
    },
    {
     "name": "stdout",
     "output_type": "stream",
     "text": [
      "Epoch 40, Accuracy: 98.37%\n"
     ]
    },
    {
     "name": "stderr",
     "output_type": "stream",
     "text": [
      " 50%|█████     | 50/100 [11:45<12:34, 15.08s/it]"
     ]
    },
    {
     "name": "stdout",
     "output_type": "stream",
     "text": [
      "Epoch 50, Accuracy: 98.43%\n"
     ]
    },
    {
     "name": "stderr",
     "output_type": "stream",
     "text": [
      " 60%|██████    | 60/100 [14:06<10:06, 15.15s/it]"
     ]
    },
    {
     "name": "stdout",
     "output_type": "stream",
     "text": [
      "Epoch 60, Accuracy: 98.40%\n"
     ]
    },
    {
     "name": "stderr",
     "output_type": "stream",
     "text": [
      " 70%|███████   | 70/100 [16:27<07:32, 15.08s/it]"
     ]
    },
    {
     "name": "stdout",
     "output_type": "stream",
     "text": [
      "Epoch 70, Accuracy: 98.42%\n"
     ]
    },
    {
     "name": "stderr",
     "output_type": "stream",
     "text": [
      " 80%|████████  | 80/100 [18:48<05:02, 15.14s/it]"
     ]
    },
    {
     "name": "stdout",
     "output_type": "stream",
     "text": [
      "Epoch 80, Accuracy: 98.43%\n"
     ]
    },
    {
     "name": "stderr",
     "output_type": "stream",
     "text": [
      " 90%|█████████ | 90/100 [21:10<02:31, 15.10s/it]"
     ]
    },
    {
     "name": "stdout",
     "output_type": "stream",
     "text": [
      "Epoch 90, Accuracy: 98.37%\n"
     ]
    },
    {
     "name": "stderr",
     "output_type": "stream",
     "text": [
      "100%|██████████| 100/100 [23:31<00:00, 14.11s/it]\n"
     ]
    },
    {
     "name": "stdout",
     "output_type": "stream",
     "text": [
      "Epoch 100, Accuracy: 98.37%\n"
     ]
    },
    {
     "name": "stderr",
     "output_type": "stream",
     "text": [
      "100%|██████████| 821/821 [00:49<00:00, 16.45it/s]\n"
     ]
    },
    {
     "name": "stdout",
     "output_type": "stream",
     "text": [
      "Adding 52 images to training set\n",
      "19\n"
     ]
    },
    {
     "name": "stderr",
     "output_type": "stream",
     "text": [
      " 10%|█         | 10/100 [02:25<23:28, 15.65s/it]"
     ]
    },
    {
     "name": "stdout",
     "output_type": "stream",
     "text": [
      "Epoch 10, Accuracy: 94.67%\n"
     ]
    },
    {
     "name": "stderr",
     "output_type": "stream",
     "text": [
      " 20%|██        | 20/100 [04:51<20:39, 15.49s/it]"
     ]
    },
    {
     "name": "stdout",
     "output_type": "stream",
     "text": [
      "Epoch 20, Accuracy: 97.88%\n"
     ]
    },
    {
     "name": "stderr",
     "output_type": "stream",
     "text": [
      " 30%|███       | 30/100 [07:16<18:07, 15.54s/it]"
     ]
    },
    {
     "name": "stdout",
     "output_type": "stream",
     "text": [
      "Epoch 30, Accuracy: 98.30%\n"
     ]
    },
    {
     "name": "stderr",
     "output_type": "stream",
     "text": [
      " 40%|████      | 40/100 [09:41<15:33, 15.56s/it]"
     ]
    },
    {
     "name": "stdout",
     "output_type": "stream",
     "text": [
      "Epoch 40, Accuracy: 98.25%\n"
     ]
    },
    {
     "name": "stderr",
     "output_type": "stream",
     "text": [
      " 50%|█████     | 50/100 [12:07<12:51, 15.43s/it]"
     ]
    },
    {
     "name": "stdout",
     "output_type": "stream",
     "text": [
      "Epoch 50, Accuracy: 98.35%\n"
     ]
    },
    {
     "name": "stderr",
     "output_type": "stream",
     "text": [
      " 60%|██████    | 60/100 [14:33<10:32, 15.80s/it]"
     ]
    },
    {
     "name": "stdout",
     "output_type": "stream",
     "text": [
      "Epoch 60, Accuracy: 98.37%\n"
     ]
    },
    {
     "name": "stderr",
     "output_type": "stream",
     "text": [
      " 70%|███████   | 70/100 [16:58<07:41, 15.39s/it]"
     ]
    },
    {
     "name": "stdout",
     "output_type": "stream",
     "text": [
      "Epoch 70, Accuracy: 98.35%\n"
     ]
    },
    {
     "name": "stderr",
     "output_type": "stream",
     "text": [
      " 80%|████████  | 80/100 [19:24<05:09, 15.47s/it]"
     ]
    },
    {
     "name": "stdout",
     "output_type": "stream",
     "text": [
      "Epoch 80, Accuracy: 98.42%\n"
     ]
    },
    {
     "name": "stderr",
     "output_type": "stream",
     "text": [
      " 90%|█████████ | 90/100 [21:50<02:34, 15.47s/it]"
     ]
    },
    {
     "name": "stdout",
     "output_type": "stream",
     "text": [
      "Epoch 90, Accuracy: 98.42%\n"
     ]
    },
    {
     "name": "stderr",
     "output_type": "stream",
     "text": [
      "100%|██████████| 100/100 [24:14<00:00, 14.55s/it]"
     ]
    },
    {
     "name": "stdout",
     "output_type": "stream",
     "text": [
      "Epoch 100, Accuracy: 98.43%\n"
     ]
    },
    {
     "name": "stderr",
     "output_type": "stream",
     "text": [
      "\n"
     ]
    }
   ],
   "source": [
    "## Run active learning Uncertanty\n",
    "datapoint_list_US = []\n",
    "accuracy_list_US = []\n",
    "\n",
    "train_dataset.targets = start_train_dataset.targets\n",
    "train_dataset.data = start_train_dataset.data\n",
    "unlabbelled_dataset.targets = start_unlabbelled_dataset.targets\n",
    "unlabbelled_dataset.data = start_unlabbelled_dataset.data\n",
    "for i in range(label_iterations):\n",
    "    print(i)\n",
    "    train_loader = torch.utils.data.DataLoader(train_dataset, batch_size=batch_size, shuffle=True, drop_last=True)\n",
    "    model.load_state_dict(model_parameters)  # Important to reset the model each time\n",
    "    accuracies = train_model(model, train_loader, val_loader, criterion, optimizer, device, num_epochs=num_epochs, val_interval=10)\n",
    "    datapoint_list_US.append(len(train_dataset))\n",
    "    accuracy_list_US.append(accuracies)\n",
    "    if i < label_iterations - 1:\n",
    "        train_dataset, unlabbelled_dataset = label_iteration_uncertanty_sampling(model, train_dataset, unlabbelled_dataset, device, top_frac=0.001)"
   ]
  },
  {
   "cell_type": "code",
   "execution_count": 44,
   "metadata": {},
   "outputs": [
    {
     "name": "stdout",
     "output_type": "stream",
     "text": [
      "0\n"
     ]
    },
    {
     "name": "stderr",
     "output_type": "stream",
     "text": [
      " 10%|█         | 10/100 [00:50<08:54,  5.94s/it]"
     ]
    },
    {
     "name": "stdout",
     "output_type": "stream",
     "text": [
      "Epoch 10, Accuracy: 92.90%\n"
     ]
    },
    {
     "name": "stderr",
     "output_type": "stream",
     "text": [
      " 20%|██        | 20/100 [01:40<07:55,  5.94s/it]"
     ]
    },
    {
     "name": "stdout",
     "output_type": "stream",
     "text": [
      "Epoch 20, Accuracy: 94.17%\n"
     ]
    },
    {
     "name": "stderr",
     "output_type": "stream",
     "text": [
      " 30%|███       | 30/100 [02:31<06:50,  5.87s/it]"
     ]
    },
    {
     "name": "stdout",
     "output_type": "stream",
     "text": [
      "Epoch 30, Accuracy: 94.72%\n"
     ]
    },
    {
     "name": "stderr",
     "output_type": "stream",
     "text": [
      " 40%|████      | 40/100 [03:21<05:49,  5.83s/it]"
     ]
    },
    {
     "name": "stdout",
     "output_type": "stream",
     "text": [
      "Epoch 40, Accuracy: 94.48%\n"
     ]
    },
    {
     "name": "stderr",
     "output_type": "stream",
     "text": [
      " 50%|█████     | 50/100 [04:11<04:53,  5.86s/it]"
     ]
    },
    {
     "name": "stdout",
     "output_type": "stream",
     "text": [
      "Epoch 50, Accuracy: 95.03%\n"
     ]
    },
    {
     "name": "stderr",
     "output_type": "stream",
     "text": [
      " 60%|██████    | 60/100 [05:02<03:59,  5.99s/it]"
     ]
    },
    {
     "name": "stdout",
     "output_type": "stream",
     "text": [
      "Epoch 60, Accuracy: 95.10%\n"
     ]
    },
    {
     "name": "stderr",
     "output_type": "stream",
     "text": [
      " 70%|███████   | 70/100 [05:55<03:07,  6.26s/it]"
     ]
    },
    {
     "name": "stdout",
     "output_type": "stream",
     "text": [
      "Epoch 70, Accuracy: 95.18%\n"
     ]
    },
    {
     "name": "stderr",
     "output_type": "stream",
     "text": [
      " 80%|████████  | 80/100 [06:46<02:02,  6.13s/it]"
     ]
    },
    {
     "name": "stdout",
     "output_type": "stream",
     "text": [
      "Epoch 80, Accuracy: 95.23%\n"
     ]
    },
    {
     "name": "stderr",
     "output_type": "stream",
     "text": [
      " 90%|█████████ | 90/100 [07:38<01:01,  6.19s/it]"
     ]
    },
    {
     "name": "stdout",
     "output_type": "stream",
     "text": [
      "Epoch 90, Accuracy: 95.27%\n"
     ]
    },
    {
     "name": "stderr",
     "output_type": "stream",
     "text": [
      "100%|██████████| 100/100 [08:29<00:00,  5.10s/it]\n"
     ]
    },
    {
     "name": "stdout",
     "output_type": "stream",
     "text": [
      "Epoch 100, Accuracy: 95.40%\n"
     ]
    },
    {
     "name": "stderr",
     "output_type": "stream",
     "text": [
      "MC Dropout passes: 100%|██████████| 836/836 [00:45<00:00, 18.34it/s]\n",
      "MC Dropout passes: 100%|██████████| 836/836 [00:45<00:00, 18.41it/s]\n",
      "MC Dropout passes: 100%|██████████| 836/836 [00:45<00:00, 18.20it/s]\n",
      "MC Dropout passes: 100%|██████████| 836/836 [00:46<00:00, 17.97it/s]\n",
      "MC Dropout passes: 100%|██████████| 836/836 [00:45<00:00, 18.35it/s]\n",
      "MC Dropout passes: 100%|██████████| 836/836 [00:45<00:00, 18.47it/s]\n",
      "MC Dropout passes: 100%|██████████| 836/836 [00:45<00:00, 18.46it/s]\n",
      "MC Dropout passes: 100%|██████████| 836/836 [00:44<00:00, 18.58it/s]\n",
      "MC Dropout passes: 100%|██████████| 836/836 [00:45<00:00, 18.49it/s]\n",
      "MC Dropout passes: 100%|██████████| 836/836 [00:45<00:00, 18.49it/s]\n"
     ]
    },
    {
     "name": "stdout",
     "output_type": "stream",
     "text": [
      "Adding 53 images to training set\n",
      "1\n"
     ]
    },
    {
     "name": "stderr",
     "output_type": "stream",
     "text": [
      " 10%|█         | 10/100 [00:57<10:04,  6.71s/it]"
     ]
    },
    {
     "name": "stdout",
     "output_type": "stream",
     "text": [
      "Epoch 10, Accuracy: 93.17%\n"
     ]
    },
    {
     "name": "stderr",
     "output_type": "stream",
     "text": [
      " 20%|██        | 20/100 [01:54<08:52,  6.66s/it]"
     ]
    },
    {
     "name": "stdout",
     "output_type": "stream",
     "text": [
      "Epoch 20, Accuracy: 94.52%\n"
     ]
    },
    {
     "name": "stderr",
     "output_type": "stream",
     "text": [
      " 30%|███       | 30/100 [02:51<07:38,  6.54s/it]"
     ]
    },
    {
     "name": "stdout",
     "output_type": "stream",
     "text": [
      "Epoch 30, Accuracy: 95.10%\n"
     ]
    },
    {
     "name": "stderr",
     "output_type": "stream",
     "text": [
      " 40%|████      | 40/100 [03:48<06:35,  6.58s/it]"
     ]
    },
    {
     "name": "stdout",
     "output_type": "stream",
     "text": [
      "Epoch 40, Accuracy: 95.30%\n"
     ]
    },
    {
     "name": "stderr",
     "output_type": "stream",
     "text": [
      " 50%|█████     | 50/100 [04:45<05:35,  6.70s/it]"
     ]
    },
    {
     "name": "stdout",
     "output_type": "stream",
     "text": [
      "Epoch 50, Accuracy: 95.33%\n"
     ]
    },
    {
     "name": "stderr",
     "output_type": "stream",
     "text": [
      " 60%|██████    | 60/100 [05:43<04:31,  6.78s/it]"
     ]
    },
    {
     "name": "stdout",
     "output_type": "stream",
     "text": [
      "Epoch 60, Accuracy: 95.43%\n"
     ]
    },
    {
     "name": "stderr",
     "output_type": "stream",
     "text": [
      " 70%|███████   | 70/100 [06:41<03:22,  6.74s/it]"
     ]
    },
    {
     "name": "stdout",
     "output_type": "stream",
     "text": [
      "Epoch 70, Accuracy: 95.42%\n"
     ]
    },
    {
     "name": "stderr",
     "output_type": "stream",
     "text": [
      " 80%|████████  | 80/100 [07:38<02:13,  6.70s/it]"
     ]
    },
    {
     "name": "stdout",
     "output_type": "stream",
     "text": [
      "Epoch 80, Accuracy: 95.47%\n"
     ]
    },
    {
     "name": "stderr",
     "output_type": "stream",
     "text": [
      " 90%|█████████ | 90/100 [08:38<01:09,  6.94s/it]"
     ]
    },
    {
     "name": "stdout",
     "output_type": "stream",
     "text": [
      "Epoch 90, Accuracy: 95.43%\n"
     ]
    },
    {
     "name": "stderr",
     "output_type": "stream",
     "text": [
      "100%|██████████| 100/100 [09:36<00:00,  5.77s/it]\n"
     ]
    },
    {
     "name": "stdout",
     "output_type": "stream",
     "text": [
      "Epoch 100, Accuracy: 95.48%\n"
     ]
    },
    {
     "name": "stderr",
     "output_type": "stream",
     "text": [
      "MC Dropout passes: 100%|██████████| 835/835 [00:51<00:00, 16.27it/s]\n",
      "MC Dropout passes: 100%|██████████| 835/835 [00:51<00:00, 16.13it/s]\n",
      "MC Dropout passes: 100%|██████████| 835/835 [00:51<00:00, 16.30it/s]\n",
      "MC Dropout passes: 100%|██████████| 835/835 [00:51<00:00, 16.26it/s]\n",
      "MC Dropout passes: 100%|██████████| 835/835 [00:50<00:00, 16.38it/s]\n",
      "MC Dropout passes: 100%|██████████| 835/835 [00:49<00:00, 16.96it/s]\n",
      "MC Dropout passes: 100%|██████████| 835/835 [00:45<00:00, 18.52it/s]\n",
      "MC Dropout passes: 100%|██████████| 835/835 [00:44<00:00, 18.83it/s]\n",
      "MC Dropout passes: 100%|██████████| 835/835 [00:44<00:00, 18.89it/s]\n",
      "MC Dropout passes: 100%|██████████| 835/835 [00:44<00:00, 18.74it/s]\n"
     ]
    },
    {
     "name": "stdout",
     "output_type": "stream",
     "text": [
      "Adding 53 images to training set\n",
      "2\n"
     ]
    },
    {
     "name": "stderr",
     "output_type": "stream",
     "text": [
      " 10%|█         | 10/100 [01:02<10:51,  7.23s/it]"
     ]
    },
    {
     "name": "stdout",
     "output_type": "stream",
     "text": [
      "Epoch 10, Accuracy: 88.33%\n"
     ]
    },
    {
     "name": "stderr",
     "output_type": "stream",
     "text": [
      " 20%|██        | 20/100 [02:06<09:42,  7.28s/it]"
     ]
    },
    {
     "name": "stdout",
     "output_type": "stream",
     "text": [
      "Epoch 20, Accuracy: 95.55%\n"
     ]
    },
    {
     "name": "stderr",
     "output_type": "stream",
     "text": [
      " 30%|███       | 30/100 [03:10<08:37,  7.39s/it]"
     ]
    },
    {
     "name": "stdout",
     "output_type": "stream",
     "text": [
      "Epoch 30, Accuracy: 95.57%\n"
     ]
    },
    {
     "name": "stderr",
     "output_type": "stream",
     "text": [
      " 40%|████      | 40/100 [04:13<07:12,  7.20s/it]"
     ]
    },
    {
     "name": "stdout",
     "output_type": "stream",
     "text": [
      "Epoch 40, Accuracy: 89.20%\n"
     ]
    },
    {
     "name": "stderr",
     "output_type": "stream",
     "text": [
      " 50%|█████     | 50/100 [05:16<06:02,  7.24s/it]"
     ]
    },
    {
     "name": "stdout",
     "output_type": "stream",
     "text": [
      "Epoch 50, Accuracy: 90.05%\n"
     ]
    },
    {
     "name": "stderr",
     "output_type": "stream",
     "text": [
      " 60%|██████    | 60/100 [06:21<04:51,  7.28s/it]"
     ]
    },
    {
     "name": "stdout",
     "output_type": "stream",
     "text": [
      "Epoch 60, Accuracy: 94.10%\n"
     ]
    },
    {
     "name": "stderr",
     "output_type": "stream",
     "text": [
      " 70%|███████   | 70/100 [07:25<03:38,  7.28s/it]"
     ]
    },
    {
     "name": "stdout",
     "output_type": "stream",
     "text": [
      "Epoch 70, Accuracy: 94.20%\n"
     ]
    },
    {
     "name": "stderr",
     "output_type": "stream",
     "text": [
      " 80%|████████  | 80/100 [08:31<02:30,  7.52s/it]"
     ]
    },
    {
     "name": "stdout",
     "output_type": "stream",
     "text": [
      "Epoch 80, Accuracy: 95.38%\n"
     ]
    },
    {
     "name": "stderr",
     "output_type": "stream",
     "text": [
      " 90%|█████████ | 90/100 [09:36<01:14,  7.45s/it]"
     ]
    },
    {
     "name": "stdout",
     "output_type": "stream",
     "text": [
      "Epoch 90, Accuracy: 95.62%\n"
     ]
    },
    {
     "name": "stderr",
     "output_type": "stream",
     "text": [
      "100%|██████████| 100/100 [10:41<00:00,  6.41s/it]\n"
     ]
    },
    {
     "name": "stdout",
     "output_type": "stream",
     "text": [
      "Epoch 100, Accuracy: 95.80%\n"
     ]
    },
    {
     "name": "stderr",
     "output_type": "stream",
     "text": [
      "MC Dropout passes: 100%|██████████| 834/834 [00:51<00:00, 16.24it/s]\n",
      "MC Dropout passes: 100%|██████████| 834/834 [00:51<00:00, 16.25it/s]\n",
      "MC Dropout passes: 100%|██████████| 834/834 [00:51<00:00, 16.25it/s]\n",
      "MC Dropout passes: 100%|██████████| 834/834 [00:51<00:00, 16.05it/s]\n",
      "MC Dropout passes: 100%|██████████| 834/834 [00:50<00:00, 16.41it/s]\n",
      "MC Dropout passes: 100%|██████████| 834/834 [00:49<00:00, 16.99it/s]\n",
      "MC Dropout passes: 100%|██████████| 834/834 [00:45<00:00, 18.27it/s]\n",
      "MC Dropout passes: 100%|██████████| 834/834 [00:44<00:00, 18.83it/s]\n",
      "MC Dropout passes: 100%|██████████| 834/834 [00:44<00:00, 18.89it/s]\n",
      "MC Dropout passes: 100%|██████████| 834/834 [00:44<00:00, 18.87it/s]\n"
     ]
    },
    {
     "name": "stdout",
     "output_type": "stream",
     "text": [
      "Adding 53 images to training set\n",
      "3\n"
     ]
    },
    {
     "name": "stderr",
     "output_type": "stream",
     "text": [
      " 10%|█         | 10/100 [01:02<10:33,  7.04s/it]"
     ]
    },
    {
     "name": "stdout",
     "output_type": "stream",
     "text": [
      "Epoch 10, Accuracy: 94.37%\n"
     ]
    },
    {
     "name": "stderr",
     "output_type": "stream",
     "text": [
      " 20%|██        | 20/100 [02:04<09:29,  7.12s/it]"
     ]
    },
    {
     "name": "stdout",
     "output_type": "stream",
     "text": [
      "Epoch 20, Accuracy: 95.53%\n"
     ]
    },
    {
     "name": "stderr",
     "output_type": "stream",
     "text": [
      " 30%|███       | 30/100 [03:07<08:17,  7.11s/it]"
     ]
    },
    {
     "name": "stdout",
     "output_type": "stream",
     "text": [
      "Epoch 30, Accuracy: 95.90%\n"
     ]
    },
    {
     "name": "stderr",
     "output_type": "stream",
     "text": [
      " 40%|████      | 40/100 [04:09<07:12,  7.22s/it]"
     ]
    },
    {
     "name": "stdout",
     "output_type": "stream",
     "text": [
      "Epoch 40, Accuracy: 95.78%\n"
     ]
    },
    {
     "name": "stderr",
     "output_type": "stream",
     "text": [
      " 50%|█████     | 50/100 [05:13<06:00,  7.22s/it]"
     ]
    },
    {
     "name": "stdout",
     "output_type": "stream",
     "text": [
      "Epoch 50, Accuracy: 95.82%\n"
     ]
    },
    {
     "name": "stderr",
     "output_type": "stream",
     "text": [
      " 60%|██████    | 60/100 [06:16<04:51,  7.28s/it]"
     ]
    },
    {
     "name": "stdout",
     "output_type": "stream",
     "text": [
      "Epoch 60, Accuracy: 95.90%\n"
     ]
    },
    {
     "name": "stderr",
     "output_type": "stream",
     "text": [
      " 70%|███████   | 70/100 [07:18<03:34,  7.15s/it]"
     ]
    },
    {
     "name": "stdout",
     "output_type": "stream",
     "text": [
      "Epoch 70, Accuracy: 95.95%\n"
     ]
    },
    {
     "name": "stderr",
     "output_type": "stream",
     "text": [
      " 80%|████████  | 80/100 [08:22<02:28,  7.43s/it]"
     ]
    },
    {
     "name": "stdout",
     "output_type": "stream",
     "text": [
      "Epoch 80, Accuracy: 95.92%\n"
     ]
    },
    {
     "name": "stderr",
     "output_type": "stream",
     "text": [
      " 90%|█████████ | 90/100 [09:27<01:14,  7.42s/it]"
     ]
    },
    {
     "name": "stdout",
     "output_type": "stream",
     "text": [
      "Epoch 90, Accuracy: 95.93%\n"
     ]
    },
    {
     "name": "stderr",
     "output_type": "stream",
     "text": [
      "100%|██████████| 100/100 [10:31<00:00,  6.32s/it]\n"
     ]
    },
    {
     "name": "stdout",
     "output_type": "stream",
     "text": [
      "Epoch 100, Accuracy: 96.05%\n"
     ]
    },
    {
     "name": "stderr",
     "output_type": "stream",
     "text": [
      "MC Dropout passes: 100%|██████████| 833/833 [00:51<00:00, 16.26it/s]\n",
      "MC Dropout passes: 100%|██████████| 833/833 [00:51<00:00, 16.29it/s]\n",
      "MC Dropout passes: 100%|██████████| 833/833 [00:51<00:00, 16.16it/s]\n",
      "MC Dropout passes: 100%|██████████| 833/833 [00:50<00:00, 16.34it/s]\n",
      "MC Dropout passes: 100%|██████████| 833/833 [00:52<00:00, 15.91it/s]\n",
      "MC Dropout passes: 100%|██████████| 833/833 [00:49<00:00, 16.72it/s]\n",
      "MC Dropout passes: 100%|██████████| 833/833 [00:45<00:00, 18.21it/s]\n",
      "MC Dropout passes: 100%|██████████| 833/833 [00:43<00:00, 19.05it/s]\n",
      "MC Dropout passes: 100%|██████████| 833/833 [00:43<00:00, 18.97it/s]\n",
      "MC Dropout passes: 100%|██████████| 833/833 [00:44<00:00, 18.74it/s]\n"
     ]
    },
    {
     "name": "stdout",
     "output_type": "stream",
     "text": [
      "Adding 53 images to training set\n",
      "4\n"
     ]
    },
    {
     "name": "stderr",
     "output_type": "stream",
     "text": [
      " 10%|█         | 10/100 [01:09<11:42,  7.81s/it]"
     ]
    },
    {
     "name": "stdout",
     "output_type": "stream",
     "text": [
      "Epoch 10, Accuracy: 94.38%\n"
     ]
    },
    {
     "name": "stderr",
     "output_type": "stream",
     "text": [
      " 20%|██        | 20/100 [02:18<10:21,  7.77s/it]"
     ]
    },
    {
     "name": "stdout",
     "output_type": "stream",
     "text": [
      "Epoch 20, Accuracy: 95.15%\n"
     ]
    },
    {
     "name": "stderr",
     "output_type": "stream",
     "text": [
      " 30%|███       | 30/100 [03:27<09:06,  7.80s/it]"
     ]
    },
    {
     "name": "stdout",
     "output_type": "stream",
     "text": [
      "Epoch 30, Accuracy: 95.73%\n"
     ]
    },
    {
     "name": "stderr",
     "output_type": "stream",
     "text": [
      " 40%|████      | 40/100 [04:37<07:57,  7.96s/it]"
     ]
    },
    {
     "name": "stdout",
     "output_type": "stream",
     "text": [
      "Epoch 40, Accuracy: 96.45%\n"
     ]
    },
    {
     "name": "stderr",
     "output_type": "stream",
     "text": [
      " 50%|█████     | 50/100 [05:47<06:38,  7.97s/it]"
     ]
    },
    {
     "name": "stdout",
     "output_type": "stream",
     "text": [
      "Epoch 50, Accuracy: 96.58%\n"
     ]
    },
    {
     "name": "stderr",
     "output_type": "stream",
     "text": [
      " 60%|██████    | 60/100 [06:56<05:12,  7.80s/it]"
     ]
    },
    {
     "name": "stdout",
     "output_type": "stream",
     "text": [
      "Epoch 60, Accuracy: 96.62%\n"
     ]
    },
    {
     "name": "stderr",
     "output_type": "stream",
     "text": [
      " 70%|███████   | 70/100 [08:07<04:03,  8.11s/it]"
     ]
    },
    {
     "name": "stdout",
     "output_type": "stream",
     "text": [
      "Epoch 70, Accuracy: 96.57%\n"
     ]
    },
    {
     "name": "stderr",
     "output_type": "stream",
     "text": [
      " 80%|████████  | 80/100 [09:18<02:41,  8.09s/it]"
     ]
    },
    {
     "name": "stdout",
     "output_type": "stream",
     "text": [
      "Epoch 80, Accuracy: 96.58%\n"
     ]
    },
    {
     "name": "stderr",
     "output_type": "stream",
     "text": [
      " 90%|█████████ | 90/100 [10:30<01:21,  8.11s/it]"
     ]
    },
    {
     "name": "stdout",
     "output_type": "stream",
     "text": [
      "Epoch 90, Accuracy: 96.62%\n"
     ]
    },
    {
     "name": "stderr",
     "output_type": "stream",
     "text": [
      "100%|██████████| 100/100 [11:42<00:00,  7.02s/it]\n"
     ]
    },
    {
     "name": "stdout",
     "output_type": "stream",
     "text": [
      "Epoch 100, Accuracy: 96.63%\n"
     ]
    },
    {
     "name": "stderr",
     "output_type": "stream",
     "text": [
      "MC Dropout passes: 100%|██████████| 832/832 [00:50<00:00, 16.35it/s]\n",
      "MC Dropout passes: 100%|██████████| 832/832 [00:50<00:00, 16.39it/s]\n",
      "MC Dropout passes: 100%|██████████| 832/832 [00:50<00:00, 16.32it/s]\n",
      "MC Dropout passes: 100%|██████████| 832/832 [00:51<00:00, 16.27it/s]\n",
      "MC Dropout passes: 100%|██████████| 832/832 [00:50<00:00, 16.37it/s]\n",
      "MC Dropout passes: 100%|██████████| 832/832 [00:48<00:00, 17.06it/s]\n",
      "MC Dropout passes: 100%|██████████| 832/832 [00:44<00:00, 18.70it/s]\n",
      "MC Dropout passes: 100%|██████████| 832/832 [00:43<00:00, 19.09it/s]\n",
      "MC Dropout passes: 100%|██████████| 832/832 [00:44<00:00, 18.87it/s]\n",
      "MC Dropout passes: 100%|██████████| 832/832 [00:44<00:00, 18.71it/s]\n"
     ]
    },
    {
     "name": "stdout",
     "output_type": "stream",
     "text": [
      "Adding 53 images to training set\n",
      "5\n"
     ]
    },
    {
     "name": "stderr",
     "output_type": "stream",
     "text": [
      " 10%|█         | 10/100 [01:14<12:25,  8.28s/it]"
     ]
    },
    {
     "name": "stdout",
     "output_type": "stream",
     "text": [
      "Epoch 10, Accuracy: 95.03%\n"
     ]
    },
    {
     "name": "stderr",
     "output_type": "stream",
     "text": [
      " 20%|██        | 20/100 [02:27<11:01,  8.27s/it]"
     ]
    },
    {
     "name": "stdout",
     "output_type": "stream",
     "text": [
      "Epoch 20, Accuracy: 95.20%\n"
     ]
    },
    {
     "name": "stderr",
     "output_type": "stream",
     "text": [
      " 30%|███       | 30/100 [03:42<09:43,  8.33s/it]"
     ]
    },
    {
     "name": "stdout",
     "output_type": "stream",
     "text": [
      "Epoch 30, Accuracy: 94.77%\n"
     ]
    },
    {
     "name": "stderr",
     "output_type": "stream",
     "text": [
      " 40%|████      | 40/100 [04:57<08:30,  8.51s/it]"
     ]
    },
    {
     "name": "stdout",
     "output_type": "stream",
     "text": [
      "Epoch 40, Accuracy: 89.63%\n"
     ]
    },
    {
     "name": "stderr",
     "output_type": "stream",
     "text": [
      " 50%|█████     | 50/100 [06:13<07:02,  8.46s/it]"
     ]
    },
    {
     "name": "stdout",
     "output_type": "stream",
     "text": [
      "Epoch 50, Accuracy: 96.00%\n"
     ]
    },
    {
     "name": "stderr",
     "output_type": "stream",
     "text": [
      " 60%|██████    | 60/100 [07:28<05:35,  8.40s/it]"
     ]
    },
    {
     "name": "stdout",
     "output_type": "stream",
     "text": [
      "Epoch 60, Accuracy: 96.33%\n"
     ]
    },
    {
     "name": "stderr",
     "output_type": "stream",
     "text": [
      " 70%|███████   | 70/100 [08:45<04:19,  8.67s/it]"
     ]
    },
    {
     "name": "stdout",
     "output_type": "stream",
     "text": [
      "Epoch 70, Accuracy: 96.40%\n"
     ]
    },
    {
     "name": "stderr",
     "output_type": "stream",
     "text": [
      " 80%|████████  | 80/100 [10:02<02:53,  8.70s/it]"
     ]
    },
    {
     "name": "stdout",
     "output_type": "stream",
     "text": [
      "Epoch 80, Accuracy: 96.40%\n"
     ]
    },
    {
     "name": "stderr",
     "output_type": "stream",
     "text": [
      " 90%|█████████ | 90/100 [11:18<01:25,  8.57s/it]"
     ]
    },
    {
     "name": "stdout",
     "output_type": "stream",
     "text": [
      "Epoch 90, Accuracy: 96.40%\n"
     ]
    },
    {
     "name": "stderr",
     "output_type": "stream",
     "text": [
      "100%|██████████| 100/100 [12:34<00:00,  7.55s/it]\n"
     ]
    },
    {
     "name": "stdout",
     "output_type": "stream",
     "text": [
      "Epoch 100, Accuracy: 96.52%\n"
     ]
    },
    {
     "name": "stderr",
     "output_type": "stream",
     "text": [
      "MC Dropout passes: 100%|██████████| 832/832 [00:51<00:00, 16.22it/s]\n",
      "MC Dropout passes: 100%|██████████| 832/832 [00:50<00:00, 16.42it/s]\n",
      "MC Dropout passes: 100%|██████████| 832/832 [00:51<00:00, 16.30it/s]\n",
      "MC Dropout passes: 100%|██████████| 832/832 [00:50<00:00, 16.45it/s]\n",
      "MC Dropout passes: 100%|██████████| 832/832 [00:50<00:00, 16.44it/s]\n",
      "MC Dropout passes: 100%|██████████| 832/832 [00:47<00:00, 17.45it/s]\n",
      "MC Dropout passes: 100%|██████████| 832/832 [00:44<00:00, 18.85it/s]\n",
      "MC Dropout passes: 100%|██████████| 832/832 [00:43<00:00, 18.95it/s]\n",
      "MC Dropout passes: 100%|██████████| 832/832 [00:44<00:00, 18.81it/s]\n",
      "MC Dropout passes: 100%|██████████| 832/832 [00:44<00:00, 18.64it/s]\n"
     ]
    },
    {
     "name": "stdout",
     "output_type": "stream",
     "text": [
      "Adding 53 images to training set\n",
      "6\n"
     ]
    },
    {
     "name": "stderr",
     "output_type": "stream",
     "text": [
      " 10%|█         | 10/100 [01:20<13:20,  8.90s/it]"
     ]
    },
    {
     "name": "stdout",
     "output_type": "stream",
     "text": [
      "Epoch 10, Accuracy: 96.62%\n"
     ]
    },
    {
     "name": "stderr",
     "output_type": "stream",
     "text": [
      " 20%|██        | 20/100 [02:41<12:03,  9.05s/it]"
     ]
    },
    {
     "name": "stdout",
     "output_type": "stream",
     "text": [
      "Epoch 20, Accuracy: 96.83%\n"
     ]
    },
    {
     "name": "stderr",
     "output_type": "stream",
     "text": [
      " 30%|███       | 30/100 [04:02<10:29,  9.00s/it]"
     ]
    },
    {
     "name": "stdout",
     "output_type": "stream",
     "text": [
      "Epoch 30, Accuracy: 97.10%\n"
     ]
    },
    {
     "name": "stderr",
     "output_type": "stream",
     "text": [
      " 40%|████      | 40/100 [05:25<09:20,  9.33s/it]"
     ]
    },
    {
     "name": "stdout",
     "output_type": "stream",
     "text": [
      "Epoch 40, Accuracy: 97.00%\n"
     ]
    },
    {
     "name": "stderr",
     "output_type": "stream",
     "text": [
      " 50%|█████     | 50/100 [06:48<07:37,  9.14s/it]"
     ]
    },
    {
     "name": "stdout",
     "output_type": "stream",
     "text": [
      "Epoch 50, Accuracy: 97.07%\n"
     ]
    },
    {
     "name": "stderr",
     "output_type": "stream",
     "text": [
      " 60%|██████    | 60/100 [08:11<06:10,  9.26s/it]"
     ]
    },
    {
     "name": "stdout",
     "output_type": "stream",
     "text": [
      "Epoch 60, Accuracy: 96.93%\n"
     ]
    },
    {
     "name": "stderr",
     "output_type": "stream",
     "text": [
      " 70%|███████   | 70/100 [09:34<04:40,  9.36s/it]"
     ]
    },
    {
     "name": "stdout",
     "output_type": "stream",
     "text": [
      "Epoch 70, Accuracy: 97.07%\n"
     ]
    },
    {
     "name": "stderr",
     "output_type": "stream",
     "text": [
      " 80%|████████  | 80/100 [10:59<03:06,  9.32s/it]"
     ]
    },
    {
     "name": "stdout",
     "output_type": "stream",
     "text": [
      "Epoch 80, Accuracy: 97.12%\n"
     ]
    },
    {
     "name": "stderr",
     "output_type": "stream",
     "text": [
      " 90%|█████████ | 90/100 [12:22<01:32,  9.26s/it]"
     ]
    },
    {
     "name": "stdout",
     "output_type": "stream",
     "text": [
      "Epoch 90, Accuracy: 97.08%\n"
     ]
    },
    {
     "name": "stderr",
     "output_type": "stream",
     "text": [
      "100%|██████████| 100/100 [13:46<00:00,  8.26s/it]\n"
     ]
    },
    {
     "name": "stdout",
     "output_type": "stream",
     "text": [
      "Epoch 100, Accuracy: 97.03%\n"
     ]
    },
    {
     "name": "stderr",
     "output_type": "stream",
     "text": [
      "MC Dropout passes: 100%|██████████| 831/831 [00:51<00:00, 16.08it/s]\n",
      "MC Dropout passes: 100%|██████████| 831/831 [00:51<00:00, 16.06it/s]\n",
      "MC Dropout passes: 100%|██████████| 831/831 [00:52<00:00, 15.97it/s]\n",
      "MC Dropout passes: 100%|██████████| 831/831 [00:52<00:00, 15.86it/s]\n",
      "MC Dropout passes: 100%|██████████| 831/831 [00:51<00:00, 16.29it/s]\n",
      "MC Dropout passes: 100%|██████████| 831/831 [00:48<00:00, 17.16it/s]\n",
      "MC Dropout passes: 100%|██████████| 831/831 [00:44<00:00, 18.54it/s]\n",
      "MC Dropout passes: 100%|██████████| 831/831 [00:45<00:00, 18.42it/s]\n",
      "MC Dropout passes: 100%|██████████| 831/831 [00:43<00:00, 18.96it/s]\n",
      "MC Dropout passes: 100%|██████████| 831/831 [00:44<00:00, 18.57it/s]\n"
     ]
    },
    {
     "name": "stdout",
     "output_type": "stream",
     "text": [
      "Adding 53 images to training set\n",
      "7\n"
     ]
    },
    {
     "name": "stderr",
     "output_type": "stream",
     "text": [
      " 10%|█         | 10/100 [01:25<14:10,  9.45s/it]"
     ]
    },
    {
     "name": "stdout",
     "output_type": "stream",
     "text": [
      "Epoch 10, Accuracy: 91.53%\n"
     ]
    },
    {
     "name": "stderr",
     "output_type": "stream",
     "text": [
      " 20%|██        | 20/100 [02:51<12:38,  9.49s/it]"
     ]
    },
    {
     "name": "stdout",
     "output_type": "stream",
     "text": [
      "Epoch 20, Accuracy: 94.80%\n"
     ]
    },
    {
     "name": "stderr",
     "output_type": "stream",
     "text": [
      " 30%|███       | 30/100 [04:17<11:04,  9.49s/it]"
     ]
    },
    {
     "name": "stdout",
     "output_type": "stream",
     "text": [
      "Epoch 30, Accuracy: 96.75%\n"
     ]
    },
    {
     "name": "stderr",
     "output_type": "stream",
     "text": [
      " 40%|████      | 40/100 [05:44<09:36,  9.61s/it]"
     ]
    },
    {
     "name": "stdout",
     "output_type": "stream",
     "text": [
      "Epoch 40, Accuracy: 90.72%\n"
     ]
    },
    {
     "name": "stderr",
     "output_type": "stream",
     "text": [
      " 50%|█████     | 50/100 [07:10<07:56,  9.52s/it]"
     ]
    },
    {
     "name": "stdout",
     "output_type": "stream",
     "text": [
      "Epoch 50, Accuracy: 96.95%\n"
     ]
    },
    {
     "name": "stderr",
     "output_type": "stream",
     "text": [
      " 60%|██████    | 60/100 [08:40<06:41, 10.04s/it]"
     ]
    },
    {
     "name": "stdout",
     "output_type": "stream",
     "text": [
      "Epoch 60, Accuracy: 97.37%\n"
     ]
    },
    {
     "name": "stderr",
     "output_type": "stream",
     "text": [
      " 70%|███████   | 70/100 [10:09<04:56,  9.87s/it]"
     ]
    },
    {
     "name": "stdout",
     "output_type": "stream",
     "text": [
      "Epoch 70, Accuracy: 97.30%\n"
     ]
    },
    {
     "name": "stderr",
     "output_type": "stream",
     "text": [
      " 80%|████████  | 80/100 [11:38<03:17,  9.87s/it]"
     ]
    },
    {
     "name": "stdout",
     "output_type": "stream",
     "text": [
      "Epoch 80, Accuracy: 97.08%\n"
     ]
    },
    {
     "name": "stderr",
     "output_type": "stream",
     "text": [
      " 90%|█████████ | 90/100 [13:07<01:38,  9.80s/it]"
     ]
    },
    {
     "name": "stdout",
     "output_type": "stream",
     "text": [
      "Epoch 90, Accuracy: 97.38%\n"
     ]
    },
    {
     "name": "stderr",
     "output_type": "stream",
     "text": [
      "100%|██████████| 100/100 [14:36<00:00,  8.77s/it]\n"
     ]
    },
    {
     "name": "stdout",
     "output_type": "stream",
     "text": [
      "Epoch 100, Accuracy: 97.38%\n"
     ]
    },
    {
     "name": "stderr",
     "output_type": "stream",
     "text": [
      "MC Dropout passes: 100%|██████████| 830/830 [00:51<00:00, 16.25it/s]\n",
      "MC Dropout passes: 100%|██████████| 830/830 [00:50<00:00, 16.36it/s]\n",
      "MC Dropout passes: 100%|██████████| 830/830 [00:50<00:00, 16.41it/s]\n",
      "MC Dropout passes: 100%|██████████| 830/830 [00:51<00:00, 16.22it/s]\n",
      "MC Dropout passes: 100%|██████████| 830/830 [00:50<00:00, 16.43it/s]\n",
      "MC Dropout passes: 100%|██████████| 830/830 [00:46<00:00, 17.76it/s]\n",
      "MC Dropout passes: 100%|██████████| 830/830 [00:43<00:00, 19.06it/s]\n",
      "MC Dropout passes: 100%|██████████| 830/830 [00:43<00:00, 19.03it/s]\n",
      "MC Dropout passes: 100%|██████████| 830/830 [00:44<00:00, 18.80it/s]\n",
      "MC Dropout passes: 100%|██████████| 830/830 [00:44<00:00, 18.63it/s]\n"
     ]
    },
    {
     "name": "stdout",
     "output_type": "stream",
     "text": [
      "Adding 53 images to training set\n",
      "8\n"
     ]
    },
    {
     "name": "stderr",
     "output_type": "stream",
     "text": [
      " 10%|█         | 10/100 [01:33<15:14, 10.17s/it]"
     ]
    },
    {
     "name": "stdout",
     "output_type": "stream",
     "text": [
      "Epoch 10, Accuracy: 95.55%\n"
     ]
    },
    {
     "name": "stderr",
     "output_type": "stream",
     "text": [
      " 20%|██        | 20/100 [03:06<13:38, 10.23s/it]"
     ]
    },
    {
     "name": "stdout",
     "output_type": "stream",
     "text": [
      "Epoch 20, Accuracy: 94.82%\n"
     ]
    },
    {
     "name": "stderr",
     "output_type": "stream",
     "text": [
      " 30%|███       | 30/100 [04:38<11:52, 10.17s/it]"
     ]
    },
    {
     "name": "stdout",
     "output_type": "stream",
     "text": [
      "Epoch 30, Accuracy: 96.87%\n"
     ]
    },
    {
     "name": "stderr",
     "output_type": "stream",
     "text": [
      " 40%|████      | 40/100 [06:12<10:14, 10.25s/it]"
     ]
    },
    {
     "name": "stdout",
     "output_type": "stream",
     "text": [
      "Epoch 40, Accuracy: 96.80%\n"
     ]
    },
    {
     "name": "stderr",
     "output_type": "stream",
     "text": [
      " 50%|█████     | 50/100 [07:47<08:48, 10.57s/it]"
     ]
    },
    {
     "name": "stdout",
     "output_type": "stream",
     "text": [
      "Epoch 50, Accuracy: 96.77%\n"
     ]
    },
    {
     "name": "stderr",
     "output_type": "stream",
     "text": [
      " 60%|██████    | 60/100 [09:23<07:00, 10.52s/it]"
     ]
    },
    {
     "name": "stdout",
     "output_type": "stream",
     "text": [
      "Epoch 60, Accuracy: 96.90%\n"
     ]
    },
    {
     "name": "stderr",
     "output_type": "stream",
     "text": [
      " 70%|███████   | 70/100 [10:58<05:16, 10.54s/it]"
     ]
    },
    {
     "name": "stdout",
     "output_type": "stream",
     "text": [
      "Epoch 70, Accuracy: 96.92%\n"
     ]
    },
    {
     "name": "stderr",
     "output_type": "stream",
     "text": [
      " 80%|████████  | 80/100 [12:34<03:29, 10.47s/it]"
     ]
    },
    {
     "name": "stdout",
     "output_type": "stream",
     "text": [
      "Epoch 80, Accuracy: 96.90%\n"
     ]
    },
    {
     "name": "stderr",
     "output_type": "stream",
     "text": [
      " 90%|█████████ | 90/100 [14:10<01:45, 10.55s/it]"
     ]
    },
    {
     "name": "stdout",
     "output_type": "stream",
     "text": [
      "Epoch 90, Accuracy: 97.00%\n"
     ]
    },
    {
     "name": "stderr",
     "output_type": "stream",
     "text": [
      "100%|██████████| 100/100 [15:46<00:00,  9.47s/it]\n"
     ]
    },
    {
     "name": "stdout",
     "output_type": "stream",
     "text": [
      "Epoch 100, Accuracy: 97.05%\n"
     ]
    },
    {
     "name": "stderr",
     "output_type": "stream",
     "text": [
      "MC Dropout passes: 100%|██████████| 829/829 [00:50<00:00, 16.33it/s]\n",
      "MC Dropout passes: 100%|██████████| 829/829 [00:50<00:00, 16.27it/s]\n",
      "MC Dropout passes: 100%|██████████| 829/829 [00:50<00:00, 16.35it/s]\n",
      "MC Dropout passes: 100%|██████████| 829/829 [00:50<00:00, 16.31it/s]\n",
      "MC Dropout passes: 100%|██████████| 829/829 [00:50<00:00, 16.31it/s]\n",
      "MC Dropout passes: 100%|██████████| 829/829 [00:47<00:00, 17.33it/s]\n",
      "MC Dropout passes: 100%|██████████| 829/829 [00:44<00:00, 18.60it/s]\n",
      "MC Dropout passes: 100%|██████████| 829/829 [00:44<00:00, 18.78it/s]\n",
      "MC Dropout passes: 100%|██████████| 829/829 [00:44<00:00, 18.68it/s]\n",
      "MC Dropout passes: 100%|██████████| 829/829 [00:44<00:00, 18.69it/s]\n"
     ]
    },
    {
     "name": "stdout",
     "output_type": "stream",
     "text": [
      "Adding 53 images to training set\n",
      "9\n"
     ]
    },
    {
     "name": "stderr",
     "output_type": "stream",
     "text": [
      " 10%|█         | 10/100 [01:31<14:59, 10.00s/it]"
     ]
    },
    {
     "name": "stdout",
     "output_type": "stream",
     "text": [
      "Epoch 10, Accuracy: 94.20%\n"
     ]
    },
    {
     "name": "stderr",
     "output_type": "stream",
     "text": [
      " 20%|██        | 20/100 [03:03<13:26, 10.08s/it]"
     ]
    },
    {
     "name": "stdout",
     "output_type": "stream",
     "text": [
      "Epoch 20, Accuracy: 95.18%\n"
     ]
    },
    {
     "name": "stderr",
     "output_type": "stream",
     "text": [
      " 30%|███       | 30/100 [04:35<11:46, 10.10s/it]"
     ]
    },
    {
     "name": "stdout",
     "output_type": "stream",
     "text": [
      "Epoch 30, Accuracy: 97.37%\n"
     ]
    },
    {
     "name": "stderr",
     "output_type": "stream",
     "text": [
      " 40%|████      | 40/100 [06:07<10:13, 10.23s/it]"
     ]
    },
    {
     "name": "stdout",
     "output_type": "stream",
     "text": [
      "Epoch 40, Accuracy: 97.50%\n"
     ]
    },
    {
     "name": "stderr",
     "output_type": "stream",
     "text": [
      " 50%|█████     | 50/100 [07:40<08:37, 10.35s/it]"
     ]
    },
    {
     "name": "stdout",
     "output_type": "stream",
     "text": [
      "Epoch 50, Accuracy: 97.58%\n"
     ]
    },
    {
     "name": "stderr",
     "output_type": "stream",
     "text": [
      " 60%|██████    | 60/100 [09:17<07:03, 10.60s/it]"
     ]
    },
    {
     "name": "stdout",
     "output_type": "stream",
     "text": [
      "Epoch 60, Accuracy: 97.70%\n"
     ]
    },
    {
     "name": "stderr",
     "output_type": "stream",
     "text": [
      " 70%|███████   | 70/100 [10:51<05:12, 10.41s/it]"
     ]
    },
    {
     "name": "stdout",
     "output_type": "stream",
     "text": [
      "Epoch 70, Accuracy: 97.72%\n"
     ]
    },
    {
     "name": "stderr",
     "output_type": "stream",
     "text": [
      " 80%|████████  | 80/100 [12:27<03:30, 10.52s/it]"
     ]
    },
    {
     "name": "stdout",
     "output_type": "stream",
     "text": [
      "Epoch 80, Accuracy: 97.73%\n"
     ]
    },
    {
     "name": "stderr",
     "output_type": "stream",
     "text": [
      " 90%|█████████ | 90/100 [14:02<01:45, 10.59s/it]"
     ]
    },
    {
     "name": "stdout",
     "output_type": "stream",
     "text": [
      "Epoch 90, Accuracy: 97.70%\n"
     ]
    },
    {
     "name": "stderr",
     "output_type": "stream",
     "text": [
      "100%|██████████| 100/100 [15:36<00:00,  9.36s/it]\n"
     ]
    },
    {
     "name": "stdout",
     "output_type": "stream",
     "text": [
      "Epoch 100, Accuracy: 97.72%\n"
     ]
    },
    {
     "name": "stderr",
     "output_type": "stream",
     "text": [
      "MC Dropout passes: 100%|██████████| 828/828 [00:51<00:00, 16.17it/s]\n",
      "MC Dropout passes: 100%|██████████| 828/828 [00:51<00:00, 16.23it/s]\n",
      "MC Dropout passes: 100%|██████████| 828/828 [00:50<00:00, 16.26it/s]\n",
      "MC Dropout passes: 100%|██████████| 828/828 [00:50<00:00, 16.30it/s]\n",
      "MC Dropout passes: 100%|██████████| 828/828 [00:50<00:00, 16.40it/s]\n",
      "MC Dropout passes: 100%|██████████| 828/828 [00:48<00:00, 17.04it/s]\n",
      "MC Dropout passes: 100%|██████████| 828/828 [00:44<00:00, 18.51it/s]\n",
      "MC Dropout passes: 100%|██████████| 828/828 [00:44<00:00, 18.70it/s]\n",
      "MC Dropout passes: 100%|██████████| 828/828 [00:44<00:00, 18.60it/s]\n",
      "MC Dropout passes: 100%|██████████| 828/828 [00:44<00:00, 18.64it/s]\n"
     ]
    },
    {
     "name": "stdout",
     "output_type": "stream",
     "text": [
      "Adding 52 images to training set\n",
      "10\n"
     ]
    },
    {
     "name": "stderr",
     "output_type": "stream",
     "text": [
      " 10%|█         | 10/100 [01:37<15:59, 10.66s/it]"
     ]
    },
    {
     "name": "stdout",
     "output_type": "stream",
     "text": [
      "Epoch 10, Accuracy: 94.45%\n"
     ]
    },
    {
     "name": "stderr",
     "output_type": "stream",
     "text": [
      " 20%|██        | 20/100 [03:16<14:18, 10.73s/it]"
     ]
    },
    {
     "name": "stdout",
     "output_type": "stream",
     "text": [
      "Epoch 20, Accuracy: 95.93%\n"
     ]
    },
    {
     "name": "stderr",
     "output_type": "stream",
     "text": [
      " 30%|███       | 30/100 [04:55<12:37, 10.82s/it]"
     ]
    },
    {
     "name": "stdout",
     "output_type": "stream",
     "text": [
      "Epoch 30, Accuracy: 96.88%\n"
     ]
    },
    {
     "name": "stderr",
     "output_type": "stream",
     "text": [
      " 40%|████      | 40/100 [06:34<10:50, 10.84s/it]"
     ]
    },
    {
     "name": "stdout",
     "output_type": "stream",
     "text": [
      "Epoch 40, Accuracy: 97.10%\n"
     ]
    },
    {
     "name": "stderr",
     "output_type": "stream",
     "text": [
      " 50%|█████     | 50/100 [08:16<09:14, 11.09s/it]"
     ]
    },
    {
     "name": "stdout",
     "output_type": "stream",
     "text": [
      "Epoch 50, Accuracy: 97.32%\n"
     ]
    },
    {
     "name": "stderr",
     "output_type": "stream",
     "text": [
      " 60%|██████    | 60/100 [09:58<07:22, 11.06s/it]"
     ]
    },
    {
     "name": "stdout",
     "output_type": "stream",
     "text": [
      "Epoch 60, Accuracy: 97.28%\n"
     ]
    },
    {
     "name": "stderr",
     "output_type": "stream",
     "text": [
      " 70%|███████   | 70/100 [11:39<05:34, 11.14s/it]"
     ]
    },
    {
     "name": "stdout",
     "output_type": "stream",
     "text": [
      "Epoch 70, Accuracy: 97.33%\n"
     ]
    },
    {
     "name": "stderr",
     "output_type": "stream",
     "text": [
      " 80%|████████  | 80/100 [13:21<03:42, 11.13s/it]"
     ]
    },
    {
     "name": "stdout",
     "output_type": "stream",
     "text": [
      "Epoch 80, Accuracy: 97.33%\n"
     ]
    },
    {
     "name": "stderr",
     "output_type": "stream",
     "text": [
      " 90%|█████████ | 90/100 [15:04<01:51, 11.16s/it]"
     ]
    },
    {
     "name": "stdout",
     "output_type": "stream",
     "text": [
      "Epoch 90, Accuracy: 97.35%\n"
     ]
    },
    {
     "name": "stderr",
     "output_type": "stream",
     "text": [
      "100%|██████████| 100/100 [16:46<00:00, 10.06s/it]\n"
     ]
    },
    {
     "name": "stdout",
     "output_type": "stream",
     "text": [
      "Epoch 100, Accuracy: 97.32%\n"
     ]
    },
    {
     "name": "stderr",
     "output_type": "stream",
     "text": [
      "MC Dropout passes: 100%|██████████| 828/828 [00:50<00:00, 16.25it/s]\n",
      "MC Dropout passes: 100%|██████████| 828/828 [00:51<00:00, 16.23it/s]\n",
      "MC Dropout passes: 100%|██████████| 828/828 [00:50<00:00, 16.33it/s]\n",
      "MC Dropout passes: 100%|██████████| 828/828 [00:50<00:00, 16.27it/s]\n",
      "MC Dropout passes: 100%|██████████| 828/828 [00:51<00:00, 16.14it/s]\n",
      "MC Dropout passes: 100%|██████████| 828/828 [00:48<00:00, 17.22it/s]\n",
      "MC Dropout passes: 100%|██████████| 828/828 [00:44<00:00, 18.58it/s]\n",
      "MC Dropout passes: 100%|██████████| 828/828 [00:43<00:00, 19.03it/s]\n",
      "MC Dropout passes: 100%|██████████| 828/828 [00:44<00:00, 18.80it/s]\n",
      "MC Dropout passes: 100%|██████████| 828/828 [00:44<00:00, 18.72it/s]\n"
     ]
    },
    {
     "name": "stdout",
     "output_type": "stream",
     "text": [
      "Adding 52 images to training set\n",
      "11\n"
     ]
    },
    {
     "name": "stderr",
     "output_type": "stream",
     "text": [
      " 10%|█         | 10/100 [01:47<17:12, 11.47s/it]"
     ]
    },
    {
     "name": "stdout",
     "output_type": "stream",
     "text": [
      "Epoch 10, Accuracy: 95.98%\n"
     ]
    },
    {
     "name": "stderr",
     "output_type": "stream",
     "text": [
      " 20%|██        | 20/100 [03:33<15:18, 11.48s/it]"
     ]
    },
    {
     "name": "stdout",
     "output_type": "stream",
     "text": [
      "Epoch 20, Accuracy: 96.18%\n"
     ]
    },
    {
     "name": "stderr",
     "output_type": "stream",
     "text": [
      " 30%|███       | 30/100 [05:15<12:57, 11.10s/it]"
     ]
    },
    {
     "name": "stdout",
     "output_type": "stream",
     "text": [
      "Epoch 30, Accuracy: 97.28%\n"
     ]
    },
    {
     "name": "stderr",
     "output_type": "stream",
     "text": [
      " 40%|████      | 40/100 [07:05<11:48, 11.80s/it]"
     ]
    },
    {
     "name": "stdout",
     "output_type": "stream",
     "text": [
      "Epoch 40, Accuracy: 97.47%\n"
     ]
    },
    {
     "name": "stderr",
     "output_type": "stream",
     "text": [
      " 50%|█████     | 50/100 [08:56<10:08, 12.16s/it]"
     ]
    },
    {
     "name": "stdout",
     "output_type": "stream",
     "text": [
      "Epoch 50, Accuracy: 97.57%\n"
     ]
    },
    {
     "name": "stderr",
     "output_type": "stream",
     "text": [
      " 60%|██████    | 60/100 [10:51<07:57, 11.94s/it]"
     ]
    },
    {
     "name": "stdout",
     "output_type": "stream",
     "text": [
      "Epoch 60, Accuracy: 97.40%\n"
     ]
    },
    {
     "name": "stderr",
     "output_type": "stream",
     "text": [
      " 70%|███████   | 70/100 [12:49<06:18, 12.62s/it]"
     ]
    },
    {
     "name": "stdout",
     "output_type": "stream",
     "text": [
      "Epoch 70, Accuracy: 94.32%\n"
     ]
    },
    {
     "name": "stderr",
     "output_type": "stream",
     "text": [
      " 80%|████████  | 80/100 [14:40<03:54, 11.73s/it]"
     ]
    },
    {
     "name": "stdout",
     "output_type": "stream",
     "text": [
      "Epoch 80, Accuracy: 96.92%\n"
     ]
    },
    {
     "name": "stderr",
     "output_type": "stream",
     "text": [
      " 90%|█████████ | 90/100 [16:30<02:01, 12.14s/it]"
     ]
    },
    {
     "name": "stdout",
     "output_type": "stream",
     "text": [
      "Epoch 90, Accuracy: 96.12%\n"
     ]
    },
    {
     "name": "stderr",
     "output_type": "stream",
     "text": [
      "100%|██████████| 100/100 [18:23<00:00, 11.04s/it]\n"
     ]
    },
    {
     "name": "stdout",
     "output_type": "stream",
     "text": [
      "Epoch 100, Accuracy: 97.38%\n"
     ]
    },
    {
     "name": "stderr",
     "output_type": "stream",
     "text": [
      "MC Dropout passes: 100%|██████████| 827/827 [00:51<00:00, 15.99it/s]\n",
      "MC Dropout passes: 100%|██████████| 827/827 [00:49<00:00, 16.57it/s]\n",
      "MC Dropout passes: 100%|██████████| 827/827 [00:50<00:00, 16.23it/s]\n",
      "MC Dropout passes: 100%|██████████| 827/827 [00:57<00:00, 14.28it/s]\n",
      "MC Dropout passes: 100%|██████████| 827/827 [00:47<00:00, 17.48it/s]\n",
      "MC Dropout passes: 100%|██████████| 827/827 [00:42<00:00, 19.41it/s]\n",
      "MC Dropout passes: 100%|██████████| 827/827 [00:43<00:00, 19.06it/s]\n",
      "MC Dropout passes: 100%|██████████| 827/827 [00:41<00:00, 19.91it/s]\n",
      "MC Dropout passes: 100%|██████████| 827/827 [00:41<00:00, 19.98it/s]\n",
      "MC Dropout passes: 100%|██████████| 827/827 [00:42<00:00, 19.58it/s]\n"
     ]
    },
    {
     "name": "stdout",
     "output_type": "stream",
     "text": [
      "Adding 52 images to training set\n",
      "12\n"
     ]
    },
    {
     "name": "stderr",
     "output_type": "stream",
     "text": [
      " 10%|█         | 10/100 [01:42<16:52, 11.25s/it]"
     ]
    },
    {
     "name": "stdout",
     "output_type": "stream",
     "text": [
      "Epoch 10, Accuracy: 96.17%\n"
     ]
    },
    {
     "name": "stderr",
     "output_type": "stream",
     "text": [
      " 20%|██        | 20/100 [03:32<16:27, 12.34s/it]"
     ]
    },
    {
     "name": "stdout",
     "output_type": "stream",
     "text": [
      "Epoch 20, Accuracy: 96.33%\n"
     ]
    },
    {
     "name": "stderr",
     "output_type": "stream",
     "text": [
      " 30%|███       | 30/100 [05:16<12:59, 11.14s/it]"
     ]
    },
    {
     "name": "stdout",
     "output_type": "stream",
     "text": [
      "Epoch 30, Accuracy: 96.62%\n"
     ]
    },
    {
     "name": "stderr",
     "output_type": "stream",
     "text": [
      " 40%|████      | 40/100 [07:00<11:14, 11.25s/it]"
     ]
    },
    {
     "name": "stdout",
     "output_type": "stream",
     "text": [
      "Epoch 40, Accuracy: 97.23%\n"
     ]
    },
    {
     "name": "stderr",
     "output_type": "stream",
     "text": [
      " 50%|█████     | 50/100 [08:43<09:23, 11.26s/it]"
     ]
    },
    {
     "name": "stdout",
     "output_type": "stream",
     "text": [
      "Epoch 50, Accuracy: 97.47%\n"
     ]
    },
    {
     "name": "stderr",
     "output_type": "stream",
     "text": [
      " 60%|██████    | 60/100 [10:35<07:46, 11.67s/it]"
     ]
    },
    {
     "name": "stdout",
     "output_type": "stream",
     "text": [
      "Epoch 60, Accuracy: 97.53%\n"
     ]
    },
    {
     "name": "stderr",
     "output_type": "stream",
     "text": [
      " 70%|███████   | 70/100 [12:18<05:33, 11.11s/it]"
     ]
    },
    {
     "name": "stdout",
     "output_type": "stream",
     "text": [
      "Epoch 70, Accuracy: 97.52%\n"
     ]
    },
    {
     "name": "stderr",
     "output_type": "stream",
     "text": [
      " 80%|████████  | 80/100 [14:15<04:30, 13.51s/it]"
     ]
    },
    {
     "name": "stdout",
     "output_type": "stream",
     "text": [
      "Epoch 80, Accuracy: 97.58%\n"
     ]
    },
    {
     "name": "stderr",
     "output_type": "stream",
     "text": [
      " 90%|█████████ | 90/100 [16:12<02:02, 12.22s/it]"
     ]
    },
    {
     "name": "stdout",
     "output_type": "stream",
     "text": [
      "Epoch 90, Accuracy: 97.57%\n"
     ]
    },
    {
     "name": "stderr",
     "output_type": "stream",
     "text": [
      "100%|██████████| 100/100 [18:05<00:00, 10.86s/it]\n"
     ]
    },
    {
     "name": "stdout",
     "output_type": "stream",
     "text": [
      "Epoch 100, Accuracy: 97.47%\n"
     ]
    },
    {
     "name": "stderr",
     "output_type": "stream",
     "text": [
      "MC Dropout passes: 100%|██████████| 826/826 [00:53<00:00, 15.35it/s]\n",
      "MC Dropout passes: 100%|██████████| 826/826 [00:54<00:00, 15.18it/s]\n",
      "MC Dropout passes: 100%|██████████| 826/826 [00:50<00:00, 16.33it/s]\n",
      "MC Dropout passes: 100%|██████████| 826/826 [00:49<00:00, 16.52it/s]\n",
      "MC Dropout passes: 100%|██████████| 826/826 [00:53<00:00, 15.50it/s]\n",
      "MC Dropout passes: 100%|██████████| 826/826 [00:51<00:00, 16.17it/s]\n",
      "MC Dropout passes: 100%|██████████| 826/826 [00:47<00:00, 17.38it/s]\n",
      "MC Dropout passes: 100%|██████████| 826/826 [00:42<00:00, 19.26it/s]\n",
      "MC Dropout passes: 100%|██████████| 826/826 [00:42<00:00, 19.42it/s]\n",
      "MC Dropout passes: 100%|██████████| 826/826 [00:43<00:00, 19.08it/s]\n"
     ]
    },
    {
     "name": "stdout",
     "output_type": "stream",
     "text": [
      "Adding 52 images to training set\n",
      "13\n"
     ]
    },
    {
     "name": "stderr",
     "output_type": "stream",
     "text": [
      " 10%|█         | 10/100 [01:52<17:45, 11.84s/it]"
     ]
    },
    {
     "name": "stdout",
     "output_type": "stream",
     "text": [
      "Epoch 10, Accuracy: 96.32%\n"
     ]
    },
    {
     "name": "stderr",
     "output_type": "stream",
     "text": [
      " 20%|██        | 20/100 [03:42<15:33, 11.67s/it]"
     ]
    },
    {
     "name": "stdout",
     "output_type": "stream",
     "text": [
      "Epoch 20, Accuracy: 95.08%\n"
     ]
    },
    {
     "name": "stderr",
     "output_type": "stream",
     "text": [
      " 30%|███       | 30/100 [05:34<14:30, 12.44s/it]"
     ]
    },
    {
     "name": "stdout",
     "output_type": "stream",
     "text": [
      "Epoch 30, Accuracy: 94.15%\n"
     ]
    },
    {
     "name": "stderr",
     "output_type": "stream",
     "text": [
      " 40%|████      | 40/100 [07:29<12:29, 12.49s/it]"
     ]
    },
    {
     "name": "stdout",
     "output_type": "stream",
     "text": [
      "Epoch 40, Accuracy: 97.78%\n"
     ]
    },
    {
     "name": "stderr",
     "output_type": "stream",
     "text": [
      " 50%|█████     | 50/100 [09:24<10:13, 12.27s/it]"
     ]
    },
    {
     "name": "stdout",
     "output_type": "stream",
     "text": [
      "Epoch 50, Accuracy: 97.40%\n"
     ]
    },
    {
     "name": "stderr",
     "output_type": "stream",
     "text": [
      " 60%|██████    | 60/100 [11:16<08:01, 12.03s/it]"
     ]
    },
    {
     "name": "stdout",
     "output_type": "stream",
     "text": [
      "Epoch 60, Accuracy: 97.47%\n"
     ]
    },
    {
     "name": "stderr",
     "output_type": "stream",
     "text": [
      " 70%|███████   | 70/100 [13:14<06:36, 13.22s/it]"
     ]
    },
    {
     "name": "stdout",
     "output_type": "stream",
     "text": [
      "Epoch 70, Accuracy: 98.00%\n"
     ]
    },
    {
     "name": "stderr",
     "output_type": "stream",
     "text": [
      " 80%|████████  | 80/100 [15:10<04:04, 12.24s/it]"
     ]
    },
    {
     "name": "stdout",
     "output_type": "stream",
     "text": [
      "Epoch 80, Accuracy: 98.12%\n"
     ]
    },
    {
     "name": "stderr",
     "output_type": "stream",
     "text": [
      " 90%|█████████ | 90/100 [17:02<02:02, 12.24s/it]"
     ]
    },
    {
     "name": "stdout",
     "output_type": "stream",
     "text": [
      "Epoch 90, Accuracy: 98.10%\n"
     ]
    },
    {
     "name": "stderr",
     "output_type": "stream",
     "text": [
      "100%|██████████| 100/100 [18:58<00:00, 11.38s/it]\n"
     ]
    },
    {
     "name": "stdout",
     "output_type": "stream",
     "text": [
      "Epoch 100, Accuracy: 98.13%\n"
     ]
    },
    {
     "name": "stderr",
     "output_type": "stream",
     "text": [
      "MC Dropout passes: 100%|██████████| 825/825 [00:48<00:00, 16.93it/s]\n",
      "MC Dropout passes: 100%|██████████| 825/825 [01:04<00:00, 12.71it/s]\n",
      "MC Dropout passes: 100%|██████████| 825/825 [01:10<00:00, 11.78it/s]\n",
      "MC Dropout passes: 100%|██████████| 825/825 [01:07<00:00, 12.21it/s]\n",
      "MC Dropout passes: 100%|██████████| 825/825 [01:07<00:00, 12.19it/s]\n",
      "MC Dropout passes: 100%|██████████| 825/825 [01:08<00:00, 12.05it/s]\n",
      "MC Dropout passes: 100%|██████████| 825/825 [01:08<00:00, 12.02it/s]\n",
      "MC Dropout passes: 100%|██████████| 825/825 [01:09<00:00, 11.89it/s]\n",
      "MC Dropout passes: 100%|██████████| 825/825 [01:12<00:00, 11.45it/s]\n",
      "MC Dropout passes: 100%|██████████| 825/825 [01:10<00:00, 11.75it/s]\n"
     ]
    },
    {
     "name": "stdout",
     "output_type": "stream",
     "text": [
      "Adding 52 images to training set\n",
      "14\n"
     ]
    },
    {
     "name": "stderr",
     "output_type": "stream",
     "text": [
      " 10%|█         | 10/100 [02:21<22:59, 15.33s/it]"
     ]
    },
    {
     "name": "stdout",
     "output_type": "stream",
     "text": [
      "Epoch 10, Accuracy: 95.62%\n"
     ]
    },
    {
     "name": "stderr",
     "output_type": "stream",
     "text": [
      " 20%|██        | 20/100 [04:26<18:40, 14.00s/it]"
     ]
    },
    {
     "name": "stdout",
     "output_type": "stream",
     "text": [
      "Epoch 20, Accuracy: 97.27%\n"
     ]
    },
    {
     "name": "stderr",
     "output_type": "stream",
     "text": [
      " 30%|███       | 30/100 [06:31<15:30, 13.29s/it]"
     ]
    },
    {
     "name": "stdout",
     "output_type": "stream",
     "text": [
      "Epoch 30, Accuracy: 97.45%\n"
     ]
    },
    {
     "name": "stderr",
     "output_type": "stream",
     "text": [
      " 40%|████      | 40/100 [08:37<14:01, 14.02s/it]"
     ]
    },
    {
     "name": "stdout",
     "output_type": "stream",
     "text": [
      "Epoch 40, Accuracy: 95.48%\n"
     ]
    },
    {
     "name": "stderr",
     "output_type": "stream",
     "text": [
      " 50%|█████     | 50/100 [10:44<11:04, 13.29s/it]"
     ]
    },
    {
     "name": "stdout",
     "output_type": "stream",
     "text": [
      "Epoch 50, Accuracy: 97.67%\n"
     ]
    },
    {
     "name": "stderr",
     "output_type": "stream",
     "text": [
      " 60%|██████    | 60/100 [12:42<08:20, 12.51s/it]"
     ]
    },
    {
     "name": "stdout",
     "output_type": "stream",
     "text": [
      "Epoch 60, Accuracy: 97.78%\n"
     ]
    },
    {
     "name": "stderr",
     "output_type": "stream",
     "text": [
      " 70%|███████   | 70/100 [14:37<06:13, 12.44s/it]"
     ]
    },
    {
     "name": "stdout",
     "output_type": "stream",
     "text": [
      "Epoch 70, Accuracy: 98.07%\n"
     ]
    },
    {
     "name": "stderr",
     "output_type": "stream",
     "text": [
      " 80%|████████  | 80/100 [16:34<04:08, 12.44s/it]"
     ]
    },
    {
     "name": "stdout",
     "output_type": "stream",
     "text": [
      "Epoch 80, Accuracy: 98.03%\n"
     ]
    },
    {
     "name": "stderr",
     "output_type": "stream",
     "text": [
      " 90%|█████████ | 90/100 [18:29<02:04, 12.46s/it]"
     ]
    },
    {
     "name": "stdout",
     "output_type": "stream",
     "text": [
      "Epoch 90, Accuracy: 98.10%\n"
     ]
    },
    {
     "name": "stderr",
     "output_type": "stream",
     "text": [
      "100%|██████████| 100/100 [20:25<00:00, 12.26s/it]\n"
     ]
    },
    {
     "name": "stdout",
     "output_type": "stream",
     "text": [
      "Epoch 100, Accuracy: 98.00%\n"
     ]
    },
    {
     "name": "stderr",
     "output_type": "stream",
     "text": [
      "MC Dropout passes: 100%|██████████| 824/824 [00:48<00:00, 16.87it/s]\n",
      "MC Dropout passes: 100%|██████████| 824/824 [00:48<00:00, 16.94it/s]\n",
      "MC Dropout passes: 100%|██████████| 824/824 [00:48<00:00, 16.97it/s]\n",
      "MC Dropout passes: 100%|██████████| 824/824 [00:48<00:00, 17.11it/s]\n",
      "MC Dropout passes: 100%|██████████| 824/824 [00:42<00:00, 19.26it/s]\n",
      "MC Dropout passes: 100%|██████████| 824/824 [00:42<00:00, 19.45it/s]\n",
      "MC Dropout passes: 100%|██████████| 824/824 [00:41<00:00, 19.89it/s]\n",
      "MC Dropout passes: 100%|██████████| 824/824 [00:42<00:00, 19.44it/s]\n",
      "MC Dropout passes: 100%|██████████| 824/824 [00:43<00:00, 19.14it/s]\n",
      "MC Dropout passes: 100%|██████████| 824/824 [00:41<00:00, 19.85it/s]\n"
     ]
    },
    {
     "name": "stdout",
     "output_type": "stream",
     "text": [
      "Adding 52 images to training set\n",
      "15\n"
     ]
    },
    {
     "name": "stderr",
     "output_type": "stream",
     "text": [
      " 10%|█         | 10/100 [02:03<20:21, 13.57s/it]"
     ]
    },
    {
     "name": "stdout",
     "output_type": "stream",
     "text": [
      "Epoch 10, Accuracy: 91.25%\n"
     ]
    },
    {
     "name": "stderr",
     "output_type": "stream",
     "text": [
      " 20%|██        | 20/100 [04:07<16:56, 12.71s/it]"
     ]
    },
    {
     "name": "stdout",
     "output_type": "stream",
     "text": [
      "Epoch 20, Accuracy: 97.42%\n"
     ]
    },
    {
     "name": "stderr",
     "output_type": "stream",
     "text": [
      " 30%|███       | 30/100 [06:05<14:52, 12.75s/it]"
     ]
    },
    {
     "name": "stdout",
     "output_type": "stream",
     "text": [
      "Epoch 30, Accuracy: 98.13%\n"
     ]
    },
    {
     "name": "stderr",
     "output_type": "stream",
     "text": [
      " 40%|████      | 40/100 [08:22<15:55, 15.93s/it]"
     ]
    },
    {
     "name": "stdout",
     "output_type": "stream",
     "text": [
      "Epoch 40, Accuracy: 97.90%\n"
     ]
    },
    {
     "name": "stderr",
     "output_type": "stream",
     "text": [
      " 50%|█████     | 50/100 [10:38<11:44, 14.08s/it]"
     ]
    },
    {
     "name": "stdout",
     "output_type": "stream",
     "text": [
      "Epoch 50, Accuracy: 97.85%\n"
     ]
    },
    {
     "name": "stderr",
     "output_type": "stream",
     "text": [
      " 60%|██████    | 60/100 [12:54<09:59, 14.98s/it]"
     ]
    },
    {
     "name": "stdout",
     "output_type": "stream",
     "text": [
      "Epoch 60, Accuracy: 98.03%\n"
     ]
    },
    {
     "name": "stderr",
     "output_type": "stream",
     "text": [
      " 70%|███████   | 70/100 [15:02<06:49, 13.64s/it]"
     ]
    },
    {
     "name": "stdout",
     "output_type": "stream",
     "text": [
      "Epoch 70, Accuracy: 98.05%\n"
     ]
    },
    {
     "name": "stderr",
     "output_type": "stream",
     "text": [
      " 80%|████████  | 80/100 [17:00<04:11, 12.60s/it]"
     ]
    },
    {
     "name": "stdout",
     "output_type": "stream",
     "text": [
      "Epoch 80, Accuracy: 98.05%\n"
     ]
    },
    {
     "name": "stderr",
     "output_type": "stream",
     "text": [
      " 90%|█████████ | 90/100 [18:55<02:04, 12.43s/it]"
     ]
    },
    {
     "name": "stdout",
     "output_type": "stream",
     "text": [
      "Epoch 90, Accuracy: 98.03%\n"
     ]
    },
    {
     "name": "stderr",
     "output_type": "stream",
     "text": [
      "100%|██████████| 100/100 [20:49<00:00, 12.49s/it]\n"
     ]
    },
    {
     "name": "stdout",
     "output_type": "stream",
     "text": [
      "Epoch 100, Accuracy: 98.03%\n"
     ]
    },
    {
     "name": "stderr",
     "output_type": "stream",
     "text": [
      "MC Dropout passes: 100%|██████████| 823/823 [00:47<00:00, 17.38it/s]\n",
      "MC Dropout passes: 100%|██████████| 823/823 [00:50<00:00, 16.31it/s]\n",
      "MC Dropout passes: 100%|██████████| 823/823 [00:48<00:00, 16.92it/s]\n",
      "MC Dropout passes: 100%|██████████| 823/823 [00:47<00:00, 17.35it/s]\n",
      "MC Dropout passes: 100%|██████████| 823/823 [00:46<00:00, 17.56it/s]\n",
      "MC Dropout passes: 100%|██████████| 823/823 [00:45<00:00, 17.94it/s]\n",
      "MC Dropout passes: 100%|██████████| 823/823 [00:42<00:00, 19.40it/s]\n",
      "MC Dropout passes: 100%|██████████| 823/823 [00:40<00:00, 20.34it/s]\n",
      "MC Dropout passes: 100%|██████████| 823/823 [00:41<00:00, 19.95it/s]\n",
      "MC Dropout passes: 100%|██████████| 823/823 [00:41<00:00, 19.84it/s]\n"
     ]
    },
    {
     "name": "stdout",
     "output_type": "stream",
     "text": [
      "Adding 52 images to training set\n",
      "16\n"
     ]
    },
    {
     "name": "stderr",
     "output_type": "stream",
     "text": [
      " 10%|█         | 10/100 [01:59<19:14, 12.83s/it]"
     ]
    },
    {
     "name": "stdout",
     "output_type": "stream",
     "text": [
      "Epoch 10, Accuracy: 96.90%\n"
     ]
    },
    {
     "name": "stderr",
     "output_type": "stream",
     "text": [
      " 20%|██        | 20/100 [03:57<16:53, 12.67s/it]"
     ]
    },
    {
     "name": "stdout",
     "output_type": "stream",
     "text": [
      "Epoch 20, Accuracy: 97.38%\n"
     ]
    },
    {
     "name": "stderr",
     "output_type": "stream",
     "text": [
      " 30%|███       | 30/100 [06:04<15:25, 13.23s/it]"
     ]
    },
    {
     "name": "stdout",
     "output_type": "stream",
     "text": [
      "Epoch 30, Accuracy: 96.57%\n"
     ]
    },
    {
     "name": "stderr",
     "output_type": "stream",
     "text": [
      " 40%|████      | 40/100 [08:10<13:33, 13.56s/it]"
     ]
    },
    {
     "name": "stdout",
     "output_type": "stream",
     "text": [
      "Epoch 40, Accuracy: 97.62%\n"
     ]
    },
    {
     "name": "stderr",
     "output_type": "stream",
     "text": [
      " 50%|█████     | 50/100 [10:19<11:26, 13.73s/it]"
     ]
    },
    {
     "name": "stdout",
     "output_type": "stream",
     "text": [
      "Epoch 50, Accuracy: 97.57%\n"
     ]
    },
    {
     "name": "stderr",
     "output_type": "stream",
     "text": [
      " 60%|██████    | 60/100 [12:28<09:11, 13.79s/it]"
     ]
    },
    {
     "name": "stdout",
     "output_type": "stream",
     "text": [
      "Epoch 60, Accuracy: 96.53%\n"
     ]
    },
    {
     "name": "stderr",
     "output_type": "stream",
     "text": [
      " 70%|███████   | 70/100 [14:39<07:01, 14.04s/it]"
     ]
    },
    {
     "name": "stdout",
     "output_type": "stream",
     "text": [
      "Epoch 70, Accuracy: 98.42%\n"
     ]
    },
    {
     "name": "stderr",
     "output_type": "stream",
     "text": [
      " 80%|████████  | 80/100 [16:47<04:33, 13.66s/it]"
     ]
    },
    {
     "name": "stdout",
     "output_type": "stream",
     "text": [
      "Epoch 80, Accuracy: 98.35%\n"
     ]
    },
    {
     "name": "stderr",
     "output_type": "stream",
     "text": [
      " 90%|█████████ | 90/100 [18:55<02:18, 13.82s/it]"
     ]
    },
    {
     "name": "stdout",
     "output_type": "stream",
     "text": [
      "Epoch 90, Accuracy: 98.27%\n"
     ]
    },
    {
     "name": "stderr",
     "output_type": "stream",
     "text": [
      "100%|██████████| 100/100 [21:02<00:00, 12.63s/it]\n"
     ]
    },
    {
     "name": "stdout",
     "output_type": "stream",
     "text": [
      "Epoch 100, Accuracy: 98.33%\n"
     ]
    },
    {
     "name": "stderr",
     "output_type": "stream",
     "text": [
      "MC Dropout passes: 100%|██████████| 823/823 [00:48<00:00, 16.80it/s]\n",
      "MC Dropout passes: 100%|██████████| 823/823 [00:48<00:00, 17.07it/s]\n",
      "MC Dropout passes: 100%|██████████| 823/823 [00:48<00:00, 17.02it/s]\n",
      "MC Dropout passes: 100%|██████████| 823/823 [00:49<00:00, 16.75it/s]\n",
      "MC Dropout passes: 100%|██████████| 823/823 [00:46<00:00, 17.52it/s]\n",
      "MC Dropout passes: 100%|██████████| 823/823 [00:42<00:00, 19.47it/s]\n",
      "MC Dropout passes: 100%|██████████| 823/823 [00:41<00:00, 19.89it/s]\n",
      "MC Dropout passes: 100%|██████████| 823/823 [00:41<00:00, 19.62it/s]\n",
      "MC Dropout passes: 100%|██████████| 823/823 [00:41<00:00, 19.61it/s]\n",
      "MC Dropout passes: 100%|██████████| 823/823 [00:41<00:00, 19.79it/s]\n"
     ]
    },
    {
     "name": "stdout",
     "output_type": "stream",
     "text": [
      "Adding 52 images to training set\n",
      "17\n"
     ]
    },
    {
     "name": "stderr",
     "output_type": "stream",
     "text": [
      " 10%|█         | 10/100 [02:11<21:13, 14.15s/it]"
     ]
    },
    {
     "name": "stdout",
     "output_type": "stream",
     "text": [
      "Epoch 10, Accuracy: 96.87%\n"
     ]
    },
    {
     "name": "stderr",
     "output_type": "stream",
     "text": [
      " 20%|██        | 20/100 [04:21<18:32, 13.90s/it]"
     ]
    },
    {
     "name": "stdout",
     "output_type": "stream",
     "text": [
      "Epoch 20, Accuracy: 96.72%\n"
     ]
    },
    {
     "name": "stderr",
     "output_type": "stream",
     "text": [
      " 30%|███       | 30/100 [06:31<16:19, 13.99s/it]"
     ]
    },
    {
     "name": "stdout",
     "output_type": "stream",
     "text": [
      "Epoch 30, Accuracy: 97.55%\n"
     ]
    },
    {
     "name": "stderr",
     "output_type": "stream",
     "text": [
      " 40%|████      | 40/100 [08:44<14:09, 14.16s/it]"
     ]
    },
    {
     "name": "stdout",
     "output_type": "stream",
     "text": [
      "Epoch 40, Accuracy: 98.05%\n"
     ]
    },
    {
     "name": "stderr",
     "output_type": "stream",
     "text": [
      " 50%|█████     | 50/100 [10:58<11:53, 14.28s/it]"
     ]
    },
    {
     "name": "stdout",
     "output_type": "stream",
     "text": [
      "Epoch 50, Accuracy: 97.13%\n"
     ]
    },
    {
     "name": "stderr",
     "output_type": "stream",
     "text": [
      " 60%|██████    | 60/100 [13:12<09:33, 14.34s/it]"
     ]
    },
    {
     "name": "stdout",
     "output_type": "stream",
     "text": [
      "Epoch 60, Accuracy: 98.08%\n"
     ]
    },
    {
     "name": "stderr",
     "output_type": "stream",
     "text": [
      " 70%|███████   | 70/100 [15:25<07:13, 14.45s/it]"
     ]
    },
    {
     "name": "stdout",
     "output_type": "stream",
     "text": [
      "Epoch 70, Accuracy: 98.03%\n"
     ]
    },
    {
     "name": "stderr",
     "output_type": "stream",
     "text": [
      " 80%|████████  | 80/100 [17:40<04:47, 14.35s/it]"
     ]
    },
    {
     "name": "stdout",
     "output_type": "stream",
     "text": [
      "Epoch 80, Accuracy: 97.88%\n"
     ]
    },
    {
     "name": "stderr",
     "output_type": "stream",
     "text": [
      " 90%|█████████ | 90/100 [20:02<02:26, 14.62s/it]"
     ]
    },
    {
     "name": "stdout",
     "output_type": "stream",
     "text": [
      "Epoch 90, Accuracy: 97.23%\n"
     ]
    },
    {
     "name": "stderr",
     "output_type": "stream",
     "text": [
      "100%|██████████| 100/100 [22:16<00:00, 13.37s/it]\n"
     ]
    },
    {
     "name": "stdout",
     "output_type": "stream",
     "text": [
      "Epoch 100, Accuracy: 94.78%\n"
     ]
    },
    {
     "name": "stderr",
     "output_type": "stream",
     "text": [
      "MC Dropout passes: 100%|██████████| 822/822 [00:48<00:00, 16.80it/s]\n",
      "MC Dropout passes: 100%|██████████| 822/822 [00:49<00:00, 16.76it/s]\n",
      "MC Dropout passes: 100%|██████████| 822/822 [00:46<00:00, 17.74it/s]\n",
      "MC Dropout passes: 100%|██████████| 822/822 [00:42<00:00, 19.44it/s]\n",
      "MC Dropout passes: 100%|██████████| 822/822 [00:42<00:00, 19.23it/s]\n",
      "MC Dropout passes: 100%|██████████| 822/822 [00:42<00:00, 19.31it/s]\n",
      "MC Dropout passes: 100%|██████████| 822/822 [00:42<00:00, 19.40it/s]\n",
      "MC Dropout passes: 100%|██████████| 822/822 [00:41<00:00, 19.63it/s]\n",
      "MC Dropout passes: 100%|██████████| 822/822 [00:41<00:00, 19.65it/s]\n",
      "MC Dropout passes: 100%|██████████| 822/822 [00:42<00:00, 19.41it/s]\n"
     ]
    },
    {
     "name": "stdout",
     "output_type": "stream",
     "text": [
      "Adding 52 images to training set\n",
      "18\n"
     ]
    },
    {
     "name": "stderr",
     "output_type": "stream",
     "text": [
      " 10%|█         | 10/100 [02:16<21:52, 14.58s/it]"
     ]
    },
    {
     "name": "stdout",
     "output_type": "stream",
     "text": [
      "Epoch 10, Accuracy: 96.77%\n"
     ]
    },
    {
     "name": "stderr",
     "output_type": "stream",
     "text": [
      " 20%|██        | 20/100 [04:35<19:31, 14.64s/it]"
     ]
    },
    {
     "name": "stdout",
     "output_type": "stream",
     "text": [
      "Epoch 20, Accuracy: 96.33%\n"
     ]
    },
    {
     "name": "stderr",
     "output_type": "stream",
     "text": [
      " 30%|███       | 30/100 [06:54<17:13, 14.77s/it]"
     ]
    },
    {
     "name": "stdout",
     "output_type": "stream",
     "text": [
      "Epoch 30, Accuracy: 95.53%\n"
     ]
    },
    {
     "name": "stderr",
     "output_type": "stream",
     "text": [
      " 40%|████      | 40/100 [09:10<14:29, 14.50s/it]"
     ]
    },
    {
     "name": "stdout",
     "output_type": "stream",
     "text": [
      "Epoch 40, Accuracy: 97.65%\n"
     ]
    },
    {
     "name": "stderr",
     "output_type": "stream",
     "text": [
      " 50%|█████     | 50/100 [11:27<12:07, 14.54s/it]"
     ]
    },
    {
     "name": "stdout",
     "output_type": "stream",
     "text": [
      "Epoch 50, Accuracy: 97.43%\n"
     ]
    },
    {
     "name": "stderr",
     "output_type": "stream",
     "text": [
      " 60%|██████    | 60/100 [13:44<09:42, 14.55s/it]"
     ]
    },
    {
     "name": "stdout",
     "output_type": "stream",
     "text": [
      "Epoch 60, Accuracy: 97.62%\n"
     ]
    },
    {
     "name": "stderr",
     "output_type": "stream",
     "text": [
      " 70%|███████   | 70/100 [16:01<07:16, 14.54s/it]"
     ]
    },
    {
     "name": "stdout",
     "output_type": "stream",
     "text": [
      "Epoch 70, Accuracy: 98.02%\n"
     ]
    },
    {
     "name": "stderr",
     "output_type": "stream",
     "text": [
      " 80%|████████  | 80/100 [18:18<04:49, 14.49s/it]"
     ]
    },
    {
     "name": "stdout",
     "output_type": "stream",
     "text": [
      "Epoch 80, Accuracy: 98.08%\n"
     ]
    },
    {
     "name": "stderr",
     "output_type": "stream",
     "text": [
      " 90%|█████████ | 90/100 [20:34<02:24, 14.46s/it]"
     ]
    },
    {
     "name": "stdout",
     "output_type": "stream",
     "text": [
      "Epoch 90, Accuracy: 98.18%\n"
     ]
    },
    {
     "name": "stderr",
     "output_type": "stream",
     "text": [
      "100%|██████████| 100/100 [22:50<00:00, 13.71s/it]\n"
     ]
    },
    {
     "name": "stdout",
     "output_type": "stream",
     "text": [
      "Epoch 100, Accuracy: 98.15%\n"
     ]
    },
    {
     "name": "stderr",
     "output_type": "stream",
     "text": [
      "MC Dropout passes: 100%|██████████| 821/821 [00:43<00:00, 19.05it/s]\n",
      "MC Dropout passes: 100%|██████████| 821/821 [00:42<00:00, 19.16it/s]\n",
      "MC Dropout passes: 100%|██████████| 821/821 [00:42<00:00, 19.15it/s]\n",
      "MC Dropout passes: 100%|██████████| 821/821 [00:43<00:00, 19.06it/s]\n",
      "MC Dropout passes: 100%|██████████| 821/821 [00:43<00:00, 19.05it/s]\n",
      "MC Dropout passes: 100%|██████████| 821/821 [00:43<00:00, 19.09it/s]\n",
      "MC Dropout passes: 100%|██████████| 821/821 [00:42<00:00, 19.15it/s]\n",
      "MC Dropout passes: 100%|██████████| 821/821 [00:42<00:00, 19.30it/s]\n",
      "MC Dropout passes: 100%|██████████| 821/821 [00:42<00:00, 19.20it/s]\n",
      "MC Dropout passes: 100%|██████████| 821/821 [00:42<00:00, 19.17it/s]\n"
     ]
    },
    {
     "name": "stdout",
     "output_type": "stream",
     "text": [
      "Adding 52 images to training set\n",
      "19\n"
     ]
    },
    {
     "name": "stderr",
     "output_type": "stream",
     "text": [
      " 10%|█         | 10/100 [02:21<22:23, 14.93s/it]"
     ]
    },
    {
     "name": "stdout",
     "output_type": "stream",
     "text": [
      "Epoch 10, Accuracy: 93.53%\n"
     ]
    },
    {
     "name": "stderr",
     "output_type": "stream",
     "text": [
      " 20%|██        | 20/100 [04:43<20:19, 15.24s/it]"
     ]
    },
    {
     "name": "stdout",
     "output_type": "stream",
     "text": [
      "Epoch 20, Accuracy: 94.22%\n"
     ]
    },
    {
     "name": "stderr",
     "output_type": "stream",
     "text": [
      " 30%|███       | 30/100 [07:05<17:35, 15.08s/it]"
     ]
    },
    {
     "name": "stdout",
     "output_type": "stream",
     "text": [
      "Epoch 30, Accuracy: 96.20%\n"
     ]
    },
    {
     "name": "stderr",
     "output_type": "stream",
     "text": [
      " 40%|████      | 40/100 [09:26<14:58, 14.97s/it]"
     ]
    },
    {
     "name": "stdout",
     "output_type": "stream",
     "text": [
      "Epoch 40, Accuracy: 97.93%\n"
     ]
    },
    {
     "name": "stderr",
     "output_type": "stream",
     "text": [
      " 50%|█████     | 50/100 [11:48<12:29, 15.00s/it]"
     ]
    },
    {
     "name": "stdout",
     "output_type": "stream",
     "text": [
      "Epoch 50, Accuracy: 98.28%\n"
     ]
    },
    {
     "name": "stderr",
     "output_type": "stream",
     "text": [
      " 60%|██████    | 60/100 [14:08<09:58, 14.96s/it]"
     ]
    },
    {
     "name": "stdout",
     "output_type": "stream",
     "text": [
      "Epoch 60, Accuracy: 96.93%\n"
     ]
    },
    {
     "name": "stderr",
     "output_type": "stream",
     "text": [
      " 70%|███████   | 70/100 [16:34<07:43, 15.45s/it]"
     ]
    },
    {
     "name": "stdout",
     "output_type": "stream",
     "text": [
      "Epoch 70, Accuracy: 97.48%\n"
     ]
    },
    {
     "name": "stderr",
     "output_type": "stream",
     "text": [
      " 80%|████████  | 80/100 [19:00<05:11, 15.55s/it]"
     ]
    },
    {
     "name": "stdout",
     "output_type": "stream",
     "text": [
      "Epoch 80, Accuracy: 98.18%\n"
     ]
    },
    {
     "name": "stderr",
     "output_type": "stream",
     "text": [
      " 90%|█████████ | 90/100 [21:25<02:34, 15.46s/it]"
     ]
    },
    {
     "name": "stdout",
     "output_type": "stream",
     "text": [
      "Epoch 90, Accuracy: 97.23%\n"
     ]
    },
    {
     "name": "stderr",
     "output_type": "stream",
     "text": [
      "100%|██████████| 100/100 [23:51<00:00, 14.31s/it]"
     ]
    },
    {
     "name": "stdout",
     "output_type": "stream",
     "text": [
      "Epoch 100, Accuracy: 97.98%\n"
     ]
    },
    {
     "name": "stderr",
     "output_type": "stream",
     "text": [
      "\n"
     ]
    }
   ],
   "source": [
    "## Run active learning Bayesian\n",
    "datapoint_list_BADL = []\n",
    "accuracy_list_BADL = []\n",
    "\n",
    "train_dataset.targets = start_train_dataset.targets\n",
    "train_dataset.data = start_train_dataset.data\n",
    "unlabbelled_dataset.targets = start_unlabbelled_dataset.targets\n",
    "unlabbelled_dataset.data = start_unlabbelled_dataset.data\n",
    "for i in range(label_iterations):\n",
    "    print(i)\n",
    "    train_loader = torch.utils.data.DataLoader(train_dataset, batch_size=batch_size, shuffle=True, drop_last=True)\n",
    "    model.load_state_dict(model_parameters)  # Important to reset the model each time\n",
    "    accuracies = train_model(model, train_loader, val_loader, criterion, optimizer, device, num_epochs=num_epochs, val_interval=10)\n",
    "    datapoint_list_BADL.append(len(train_dataset))\n",
    "    accuracy_list_BADL.append(accuracies)\n",
    "    if i < label_iterations - 1:\n",
    "        train_dataset, unlabbelled_dataset = label_iteration_BADL(model, train_dataset, unlabbelled_dataset, device, top_frac=0.001)"
   ]
  },
  {
   "cell_type": "code",
   "execution_count": 40,
   "metadata": {},
   "outputs": [],
   "source": [
    "# Add baseline accuracy (no active learning)\n",
    "n_datapoints = len(train_dataset) - len(start_train_dataset)\n",
    "model.load_state_dict(model_parameters)\n",
    "# We reuse the initial training set to reduce run to run variance\n",
    "train_dataset.data = torch.cat([start_train_dataset.data, start_unlabbelled_dataset.data[:n_datapoints]])\n",
    "train_dataset.targets = torch.cat([start_train_dataset.targets, start_unlabbelled_dataset.targets[:n_datapoints]])"
   ]
  },
  {
   "cell_type": "code",
   "execution_count": 41,
   "metadata": {},
   "outputs": [
    {
     "name": "stderr",
     "output_type": "stream",
     "text": [
      " 10%|█         | 10/100 [02:26<23:26, 15.63s/it]"
     ]
    },
    {
     "name": "stdout",
     "output_type": "stream",
     "text": [
      "Epoch 10, Accuracy: 95.17%\n"
     ]
    },
    {
     "name": "stderr",
     "output_type": "stream",
     "text": [
      " 20%|██        | 20/100 [04:52<20:43, 15.55s/it]"
     ]
    },
    {
     "name": "stdout",
     "output_type": "stream",
     "text": [
      "Epoch 20, Accuracy: 97.05%\n"
     ]
    },
    {
     "name": "stderr",
     "output_type": "stream",
     "text": [
      " 30%|███       | 30/100 [07:19<18:14, 15.64s/it]"
     ]
    },
    {
     "name": "stdout",
     "output_type": "stream",
     "text": [
      "Epoch 30, Accuracy: 94.42%\n"
     ]
    },
    {
     "name": "stderr",
     "output_type": "stream",
     "text": [
      " 40%|████      | 40/100 [09:46<15:39, 15.65s/it]"
     ]
    },
    {
     "name": "stdout",
     "output_type": "stream",
     "text": [
      "Epoch 40, Accuracy: 95.50%\n"
     ]
    },
    {
     "name": "stderr",
     "output_type": "stream",
     "text": [
      " 50%|█████     | 50/100 [12:13<12:59, 15.60s/it]"
     ]
    },
    {
     "name": "stdout",
     "output_type": "stream",
     "text": [
      "Epoch 50, Accuracy: 96.25%\n"
     ]
    },
    {
     "name": "stderr",
     "output_type": "stream",
     "text": [
      " 60%|██████    | 60/100 [14:41<10:28, 15.71s/it]"
     ]
    },
    {
     "name": "stdout",
     "output_type": "stream",
     "text": [
      "Epoch 60, Accuracy: 96.85%\n"
     ]
    },
    {
     "name": "stderr",
     "output_type": "stream",
     "text": [
      " 70%|███████   | 70/100 [17:06<07:47, 15.58s/it]"
     ]
    },
    {
     "name": "stdout",
     "output_type": "stream",
     "text": [
      "Epoch 70, Accuracy: 96.90%\n"
     ]
    },
    {
     "name": "stderr",
     "output_type": "stream",
     "text": [
      " 80%|████████  | 80/100 [19:33<05:11, 15.58s/it]"
     ]
    },
    {
     "name": "stdout",
     "output_type": "stream",
     "text": [
      "Epoch 80, Accuracy: 97.02%\n"
     ]
    },
    {
     "name": "stderr",
     "output_type": "stream",
     "text": [
      " 90%|█████████ | 90/100 [22:00<02:35, 15.55s/it]"
     ]
    },
    {
     "name": "stdout",
     "output_type": "stream",
     "text": [
      "Epoch 90, Accuracy: 96.97%\n"
     ]
    },
    {
     "name": "stderr",
     "output_type": "stream",
     "text": [
      "100%|██████████| 100/100 [24:26<00:00, 14.67s/it]"
     ]
    },
    {
     "name": "stdout",
     "output_type": "stream",
     "text": [
      "Epoch 100, Accuracy: 97.07%\n"
     ]
    },
    {
     "name": "stderr",
     "output_type": "stream",
     "text": [
      "\n"
     ]
    }
   ],
   "source": [
    "# Train model\n",
    "train_loader = torch.utils.data.DataLoader(train_dataset, batch_size=batch_size, shuffle=True, drop_last=True)\n",
    "val_loader = torch.utils.data.DataLoader(val_dataset, batch_size=1024, shuffle=False)\n",
    "baseline_accuracy = train_model(model, train_loader, val_loader, criterion, optimizer, device, num_epochs=num_epochs, val_interval=10)"
   ]
  },
  {
   "cell_type": "code",
<<<<<<< HEAD:bin_2_1compare_uncertanty_w_margin_MNIST.ipynb
   "execution_count": null,
=======
   "execution_count": 45,
>>>>>>> bdc5fca78a045bb591ec2ee0328572ae354fa6ed:bin_2_compare_uncertanty_w_margin.ipynb
   "metadata": {},
   "outputs": [
    {
     "data": {
      "image/png": "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",
      "text/plain": [
       "<Figure size 1000x500 with 1 Axes>"
      ]
     },
     "metadata": {},
     "output_type": "display_data"
    }
   ],
   "source": [
    "# Plot the accuracy\n",
    "datapoints_US = np.array(datapoint_list_US)\n",
    "accuracies_US = np.array(accuracy_list_US).max(-1)\n",
    "plt.figure(figsize=(10, 5))\n",
    "plt.plot(datapoints_US, accuracies_US, label='Uncertanty based AL')\n",
    "\n",
    "datapoints_MAR = np.array(datapoint_list_MAR)\n",
    "accuracies_MAR = np.array(accuracy_list_MAR).max(-1)\n",
    "plt.plot(datapoints_MAR, accuracies_MAR, label='Margin based AL')\n",
    "\n",
<<<<<<< HEAD:bin_2_1compare_uncertanty_w_margin_MNIST.ipynb
    "plt.hlines(max(baseline_accuracy), min(datapoints_US), max(datapoints_US), label=f'Baseline Accuracy ({len(train_dataset)} datapoints)', color='red')\n",
=======
    "datapoints_BADL = np.array(datapoint_list_BADL)\n",
    "accuracies_BADL = np.array(accuracy_list_BADL).max(-1)\n",
    "plt.plot(datapoints_BADL, accuracies_BADL, label='Bayesian based AL')\n",
    "\n",
    "plt.hlines(max(baseline_accuracy), min(datapoints_US), max(datapoints_US), label=f'Baseline Accuracy ({n_datapoints} datapoints)', color='red')\n",
>>>>>>> bdc5fca78a045bb591ec2ee0328572ae354fa6ed:bin_2_compare_uncertanty_w_margin.ipynb
    "plt.xlabel('Datapoints used for AL model')\n",
    "plt.ylabel('Accuracy')\n",
    "plt.legend()\n",
    "\n",
    "plt.tight_layout()\n",
    "plt.savefig('figs/2_Comparison_2_MNIST.png')\n",
    "plt.show()"
   ]
  }
 ],
 "metadata": {
  "kernelspec": {
   "display_name": "base",
   "language": "python",
   "name": "python3"
  },
  "language_info": {
   "codemirror_mode": {
    "name": "ipython",
    "version": 3
   },
   "file_extension": ".py",
   "mimetype": "text/x-python",
   "name": "python",
   "nbconvert_exporter": "python",
   "pygments_lexer": "ipython3",
   "version": "3.11.5"
  }
 },
 "nbformat": 4,
 "nbformat_minor": 2
}
